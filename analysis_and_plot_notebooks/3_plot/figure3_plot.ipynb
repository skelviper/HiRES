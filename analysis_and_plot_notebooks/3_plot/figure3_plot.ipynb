{
 "cells": [
  {
   "cell_type": "code",
   "execution_count": 1,
   "metadata": {
    "collapsed": true,
    "jupyter": {
     "outputs_hidden": true
    },
    "tags": []
   },
   "outputs": [
    {
     "name": "stderr",
     "output_type": "stream",
     "text": [
      "Registered S3 method overwritten by 'spatstat.geom':\n",
      "  method     from\n",
      "  print.boxx cli \n",
      "\n",
      "Attaching SeuratObject\n",
      "\n",
      "── \u001b[1mAttaching packages\u001b[22m ─────────────────────────────────────────────────────────────────────────────────────────────────────────────────────────────────────────────────────────────────────────────────────────────────────────────────────────────────────────────────────────────────────────── tidyverse 1.3.1 ──\n",
      "\n",
      "\u001b[32m✔\u001b[39m \u001b[34mggplot2\u001b[39m 3.3.5     \u001b[32m✔\u001b[39m \u001b[34mpurrr  \u001b[39m 0.3.4\n",
      "\u001b[32m✔\u001b[39m \u001b[34mtibble \u001b[39m 3.1.6     \u001b[32m✔\u001b[39m \u001b[34mdplyr  \u001b[39m 1.0.8\n",
      "\u001b[32m✔\u001b[39m \u001b[34mtidyr  \u001b[39m 1.2.0     \u001b[32m✔\u001b[39m \u001b[34mstringr\u001b[39m 1.4.0\n",
      "\u001b[32m✔\u001b[39m \u001b[34mreadr  \u001b[39m 2.1.2     \u001b[32m✔\u001b[39m \u001b[34mforcats\u001b[39m 0.5.1\n",
      "\n",
      "── \u001b[1mConflicts\u001b[22m ────────────────────────────────────────────────────────────────────────────────────────────────────────────────────────────────────────────────────────────────────────────────────────────────────────────────────────────────────────────────────────────────────────────── tidyverse_conflicts() ──\n",
      "\u001b[31m✖\u001b[39m \u001b[34mdplyr\u001b[39m::\u001b[32mfilter()\u001b[39m masks \u001b[34mstats\u001b[39m::filter()\n",
      "\u001b[31m✖\u001b[39m \u001b[34mdplyr\u001b[39m::\u001b[32mlag()\u001b[39m    masks \u001b[34mstats\u001b[39m::lag()\n",
      "\n",
      "========================================\n",
      "circlize version 0.4.13\n",
      "CRAN page: https://cran.r-project.org/package=circlize\n",
      "Github page: https://github.com/jokergoo/circlize\n",
      "Documentation: https://jokergoo.github.io/circlize_book/book/\n",
      "\n",
      "If you use it in published research, please cite:\n",
      "Gu, Z. circlize implements and enhances circular visualization\n",
      "  in R. Bioinformatics 2014.\n",
      "\n",
      "This message can be suppressed by:\n",
      "  suppressPackageStartupMessages(library(circlize))\n",
      "========================================\n",
      "\n",
      "\n",
      "Loading required package: grid\n",
      "\n",
      "========================================\n",
      "ComplexHeatmap version 2.10.0\n",
      "Bioconductor page: http://bioconductor.org/packages/ComplexHeatmap/\n",
      "Github page: https://github.com/jokergoo/ComplexHeatmap\n",
      "Documentation: http://jokergoo.github.io/ComplexHeatmap-reference\n",
      "\n",
      "If you use it in published research, please cite:\n",
      "Gu, Z. Complex heatmaps reveal patterns and correlations in multidimensional \n",
      "  genomic data. Bioinformatics 2016.\n",
      "\n",
      "The new InteractiveComplexHeatmap package can directly export static \n",
      "complex heatmaps into an interactive Shiny app with zero effort. Have a try!\n",
      "\n",
      "This message can be suppressed by:\n",
      "  suppressPackageStartupMessages(library(ComplexHeatmap))\n",
      "========================================\n",
      "\n",
      "\n",
      "\n",
      "Attaching package: ‘foreach’\n",
      "\n",
      "\n",
      "The following object is masked from ‘package:DescTools’:\n",
      "\n",
      "    %:%\n",
      "\n",
      "\n",
      "The following objects are masked from ‘package:purrr’:\n",
      "\n",
      "    accumulate, when\n",
      "\n",
      "\n",
      "Loading required package: iterators\n",
      "\n",
      "Loading required package: parallel\n",
      "\n"
     ]
    }
   ],
   "source": [
    "library(Seurat)\n",
    "library(patchwork)\n",
    "library(tidyverse)\n",
    "library(ggpubr)\n",
    "source(\"/shareb/zliu/analysis/hires_gastrulation/CHARMtools/Rlibs/plotFun.R\")\n",
    "\n",
    "source(\"/shareb/zliu/analysis/hires_gastrulation/CHARMtools/Rlibs/cellcycle_ana.R\")\n",
    "library(foreach)\n",
    "library(doParallel)\n",
    "\n",
    "library(ComplexHeatmap)\n",
    "library(circlize)"
   ]
  },
  {
   "cell_type": "code",
   "execution_count": 2,
   "metadata": {},
   "outputs": [],
   "source": [
    "hires <- readRDS(\"../../hires_mouse_emb_dev.new.rds\")\n",
    "celltypeColors = c(\n",
    "\"mitosis\"=\"#bebebe\",\"blood\"=\"#ff9400\",\n",
    "\"ExE endoderm\"=\"#fec44f\", \"ExE ectoderm\"=\"#cab2d6\", \n",
    "\"epiblast and PS\"=\"#addd8e\",\n",
    "#neural\n",
    "\"neural ectoderm\"=\"#AECBE6\",\"NMP\"=\"#96B9DB\",\"neural tube\"=\"#7EA8D0\",\"notochord\"=\"#6696C6\",\"radial glias\"=\"#4F85BB\",\"oligodendrocytes and progenitors\"=\"#3773B1\",\"early neurons\"=\"#1F62A6\",\"schwann cell precursors\"=\"#08519C\",\n",
    "#mesodermal\n",
    "\"early mesoderm\"=\"#FC9272\",\"ExE mesoderm\"=\"#EF7F64\",\"early mesenchyme\"=\"#E36C57\",\"intermediate mesoderm\"=\"#D6594A\", \"myocytes\"=\"#CA473C\",\"mix late mesenchyme\"=\"#BD342F\",\n",
    "\"endoderm\"=\"#fe9929\",\"epithelial cells\"=\"#fa9fb5\"\n",
    ")\n",
    "cellcyclecolors = c(\"G0\"=\"#762a83\",\"G1\"=\"#c2a5cf\",\"Early-S\"=\"#99d8c9\",\"Mid-S\"=\"#66c2a4\",\"Late-S\"=\"#41ae76\",\"G2\"=\"#238b45\",\"M\"=\"#ea6e34\")"
   ]
  },
  {
   "cell_type": "code",
   "execution_count": 3,
   "metadata": {},
   "outputs": [
    {
     "data": {
      "text/plain": [
       "  pairs_dedup      pairs_clean3     pairs_clean2        diffr          \n",
       " Min.   : 58911   Min.   : 49998   Min.   : 50031   Min.   :0.0001066  \n",
       " 1st Qu.:237828   1st Qu.:205354   1st Qu.:205451   1st Qu.:0.0003507  \n",
       " Median :306194   Median :267633   Median :267788   Median :0.0004000  \n",
       " Mean   :317482   Mean   :277542   Mean   :277671   Mean   :0.0004109  \n",
       " 3rd Qu.:385013   3rd Qu.:339799   3rd Qu.:339940   3rd Qu.:0.0004596  \n",
       " Max.   :918770   Max.   :828179   Max.   :828545   Max.   :0.0008785  "
      ]
     },
     "metadata": {},
     "output_type": "display_data"
    }
   ],
   "source": [
    "hires[[]] %>% select(pairs_dedup, pairs_clean3,pairs_clean2) %>% mutate(diffr = (pairs_clean2 - pairs_clean3) / pairs_dedup) %>% summary()"
   ]
  },
  {
   "cell_type": "code",
   "execution_count": 3,
   "metadata": {},
   "outputs": [
    {
     "name": "stderr",
     "output_type": "stream",
     "text": [
      "\u001b[1mRows: \u001b[22m\u001b[34m5689793\u001b[39m \u001b[1mColumns: \u001b[22m\u001b[34m13\u001b[39m\n",
      "\u001b[36m──\u001b[39m \u001b[1mColumn specification\u001b[22m \u001b[36m────────────────────────────────────────────────────────────────────────────────────────────────────────────────────────────────────────────────────────────────────────────────────────────────────────────────────────────────────────────────────────────────────────────────────────────\u001b[39m\n",
      "\u001b[1mDelimiter:\u001b[22m \"\\t\"\n",
      "\u001b[31mchr\u001b[39m (4): chrom1, chrom2, pos, celltype\n",
      "\u001b[32mdbl\u001b[39m (9): start1, end1, start2, end2, pv, FDR, diff, mat1_mean_all, mat2_mean...\n",
      "\n",
      "\u001b[36mℹ\u001b[39m Use \u001b[30m\u001b[47m\u001b[30m\u001b[47m`spec()`\u001b[47m\u001b[30m\u001b[49m\u001b[39m to retrieve the full column specification for this data.\n",
      "\u001b[36mℹ\u001b[39m Specify the column types or set \u001b[30m\u001b[47m\u001b[30m\u001b[47m`show_col_types = FALSE`\u001b[47m\u001b[30m\u001b[49m\u001b[39m to quiet this message.\n"
     ]
    }
   ],
   "source": [
    "# load data\n",
    "di_all <- read_tsv(\"../../figure3_related_new/di_emb_nonp/alldis.tsv.gz\")"
   ]
  },
  {
   "cell_type": "code",
   "execution_count": 53,
   "metadata": {},
   "outputs": [],
   "source": [
    "set.seed(42)\n",
    "bin_annotation <- di_all %>% filter(diff < 0) %>% arrange(FDR) %>% group_by(pos) %>% mutate(count = n()) %>%\n",
    "    filter(count == 1) %>% group_by(celltype) %>% arrange(FDR) %>% \n",
    "  filter(FDR < quantile(FDR, 0.05)) %>% ungroup() %>% sample_n(10000)"
   ]
  },
  {
   "cell_type": "code",
   "execution_count": null,
   "metadata": {},
   "outputs": [
    {
     "name": "stdout",
     "output_type": "stream",
     "text": [
      "[1] \"Chromosome 1 processing!\"\n",
      "[1] \"Chromosome 1 done!\"\n",
      "[1] \"Chromosome 2 processing!\"\n",
      "[1] \"Chromosome 2 done!\"\n",
      "[1] \"Chromosome 3 processing!\"\n",
      "[1] \"Chromosome 3 done!\"\n",
      "[1] \"Chromosome 4 processing!\"\n",
      "[1] \"Chromosome 4 done!\"\n",
      "[1] \"Chromosome 5 processing!\"\n",
      "[1] \"Chromosome 5 done!\"\n",
      "[1] \"Chromosome 6 processing!\"\n"
     ]
    }
   ],
   "source": [
    "chrom_mat_list_all <- list()\n",
    "for (c in seq(1:19)){\n",
    "    print(paste0(\"Chromosome \",c,\" processing!\"))\n",
    "    flush.console() \n",
    "    chrom_temp <- readRDS(paste0(\"../../figure3_related_new/di_emb_nonp/di_mat/chr\",as.character(c),\".mat.rds.gz\"))\n",
    "    names_temp <- intersect(names(chrom_temp),bin_annotation %>% pull(pos))\n",
    "    chrom_mat_list_all[[c]] <- chrom_temp[,names_temp]\n",
    "    print(paste0(\"Chromosome \",c,\" done!\"))\n",
    "    flush.console()\n",
    "}\n",
    "mat_all <- chrom_mat_list_all[[1]]\n",
    "for (i in seq(1,19)){\n",
    "    mat_all <- cbind(mat_all,chrom_mat_list_all[[i]])\n",
    "}"
   ]
  },
  {
   "cell_type": "code",
   "execution_count": null,
   "metadata": {},
   "outputs": [],
   "source": [
    "# Fig 3 B\n",
    "\n",
    "# we only randomly sampled 10000 celltype specific \"negative\" di(more interaction strength in given celltype) for plot\n",
    "set.seed(42) \n",
    "#bin_annotation <- di_all_sample %>% filter(diff < 0) %>% arrange(FDR) %>% group_by(pos) %>% mutate(count = n()) %>% filter(count == 1)%>% ungroup() %>% select(celltype,pos) %>% sample_n(5000,replace=T) %>% arrange(celltype)\n",
    "bins_select <- bin_annotation %>% pull(pos) %>% unique()\n",
    "distance_on_di <- mat_all[,bins_select]\n",
    "distance_on_di <- distance_on_di[c(TRUE,FALSE),] + distance_on_di[c(FALSE,TRUE),]\n",
    "distance_on_di <- as.data.frame(distance_on_di)\n",
    "rownames(distance_on_di) <- rownames(distance_on_di) %>% str_remove(\"mat\")\n",
    "\n",
    "set.seed(42)\n",
    "celltype_order <-  names(celltypeColors)\n",
    "\n",
    "celltype_consider <- bin_annotation%>% pull(celltype)%>% unique() %>% str_replace_all(\"_\",\" \")\n",
    "celltype_annotation <- hires[[]] %>% select(celltype) %>% arrange(celltype) %>% filter(celltype %in% celltype_consider)\n",
    "celltype_annotation$celltype <- factor(celltype_annotation$celltype,levels = celltype_order)\n",
    "celltype_annotation <- celltype_annotation %>% arrange(celltype)\n",
    "\n",
    "leftAnno <- rowAnnotation(df= celltype_annotation ,col = list(celltype=celltypeColors),show_legend = FALSE,show_annotation_name = FALSE)\n",
    "\n",
    "bin_annotation <- bin_annotation %>% mutate(celltype = str_replace_all(celltype,pattern = \"_\",replacement = \" \" )) %>% column_to_rownames(\"pos\")\n",
    "bin_annotation$celltype <- factor(bin_annotation$celltype,levels = celltype_order)\n",
    "bin_annotation <- bin_annotation %>% arrange(celltype)\n",
    "\n",
    "topAnno <- columnAnnotation(df=bin_annotation,col = list(celltype=celltypeColors),show_legend = FALSE,show_annotation_name = FALSE)\n",
    "\n",
    "plotmatrix <- distance_on_di[rownames(celltype_annotation),rownames(bin_annotation)] %>% as.matrix()"
   ]
  },
  {
   "cell_type": "code",
   "execution_count": null,
   "metadata": {},
   "outputs": [],
   "source": [
    "summary_mat_data <- plotmatrix %>% as.data.frame() %>% rownames_to_column(\"cellname\") %>% gather(bin,value,-cellname)\n",
    "summary_mat_data <- summary_mat_data %>% left_join(bin_annotation %>% mutate(bin_celltype = celltype) %>% rownames_to_column(\"bin\") %>% select(-celltype)) %>% \n",
    "                     left_join(celltype_annotation %>% mutate(cell_celltype = celltype) %>% rownames_to_column(\"cellname\") %>% select(-celltype)) %>% \n",
    "    group_by(cell_celltype,bin)%>% summarise(value = mean(value,na.rm=T))\n",
    "\n",
    "summary_mat_data <- summary_mat_data %>% left_join(bin_annotation %>% mutate(bin_celltype = celltype) %>% rownames_to_column(\"bin\") %>% select(-celltype)) %>% \n",
    "                     left_join(celltype_annotation %>% mutate(cell_celltype = celltype) %>% rownames_to_column(\"cellname\") %>% select(-celltype)) %>% \n",
    "    group_by(cell_celltype,bin)%>% summarise(value = mean(value,na.rm=T))\n",
    "summary_mat_data <- summary_mat_data %>% spread(cell_celltype,value) %>% column_to_rownames(\"bin\")%>% t() %>% scale(center = T,scale = F)"
   ]
  },
  {
   "cell_type": "code",
   "execution_count": null,
   "metadata": {},
   "outputs": [],
   "source": [
    "summary_mat_data = - summary_mat_data"
   ]
  },
  {
   "cell_type": "code",
   "execution_count": null,
   "metadata": {},
   "outputs": [],
   "source": [
    "topAnno <- columnAnnotation(df=bin_annotation %>% select(celltype),col = list(celltype=celltypeColors),show_legend = FALSE,show_annotation_name=FALSE)\n",
    "#col_fun = colorRamp2(seq(from = -0.4,to=0.4,length.out = 8), rev(c(\"#fafb16\",\"#E8C931\",\"#96C761\",\"#53C689\",\"#12ACD6\",\"#2C84F6\",\"#453AD9\",\"#3d28af\")))\n",
    "col_fun = colorRamp2(seq(-0.4,0.4,length.out = 3), rev(c(\"#00FF00\",\"#c091a3\",\"#e952f8\")))\n",
    "options(repr.plot.height = 4, repr.plot.width = 5,repr.plot.res = 200)\n",
    "\n",
    "summary_mat_data[seq(17),rownames(bin_annotation)] %>% \n",
    "    Heatmap(cluster_columns = FALSE,cluster_rows = FALSE,show_column_names = FALSE,show_row_names = FALSE,col=col_fun,\n",
    "        heatmap_legend_param = list(title = \"Mean interactions(centered)\",direction = \"vertical\"),\n",
    "        top_annotation = topAnno,use_raster = TRUE\n",
    "    ) -> summary_heatmap\n",
    "draw(summary_heatmap,heatmap_legend_side=\"right\")"
   ]
  },
  {
   "cell_type": "code",
   "execution_count": 12,
   "metadata": {},
   "outputs": [
    {
     "data": {
      "text/html": [
       "<strong>png:</strong> 2"
      ],
      "text/latex": [
       "\\textbf{png:} 2"
      ],
      "text/markdown": [
       "**png:** 2"
      ],
      "text/plain": [
       "png \n",
       "  2 "
      ]
     },
     "metadata": {},
     "output_type": "display_data"
    }
   ],
   "source": [
    "pdf(\"di_heatmap.pdf\",width = 6,height = 3,fonts = \"Helvetica\") \n",
    "# Code of the plot\n",
    "draw(summary_heatmap,,heatmap_legend_side=\"right\")\n",
    "# Close the graphics device\n",
    "dev.off() "
   ]
  },
  {
   "cell_type": "code",
   "execution_count": 4,
   "metadata": {},
   "outputs": [],
   "source": [
    "# 3C\n",
    "mc_hires <- readRDS(\"../../figure3_related_new/di_emb_nonp/hires_emb_metacell.rds\")"
   ]
  },
  {
   "cell_type": "code",
   "execution_count": 6,
   "metadata": {},
   "outputs": [
    {
     "name": "stderr",
     "output_type": "stream",
     "text": [
      "Warning message:\n",
      "“`legend.margin` must be specified using `margin()`. For the old behavior use legend.spacing”\n"
     ]
    },
    {
     "data": {
      "image/png": "[encoded data removed]",
      "text/plain": [
       "plot without title"
      ]
     },
     "metadata": {
      "image/png": {
       "height": 300,
       "width": 300
      }
     },
     "output_type": "display_data"
    }
   ],
   "source": [
    "options(repr.plot.height = 2, repr.plot.width = 2 ,repr.plot.res = 300)\n",
    "p <- DimPlot(mc_hires,group.by = \"celltype\",cols = celltypeColors,reduction = \"mcdi_umap\",label=F,pt.size = 0.4) + NoLegend() \n",
    "p <- p +theme_Publication() + NoLegend()+ theme(axis.ticks.x = element_blank(),\n",
    "        axis.text.x = element_blank(),\n",
    "         axis.ticks.y = element_blank(),\n",
    "          axis.text.y = element_blank()) + xlab(\"metacell DI UMAP 1\") + ylab(\"metacell DI UMAP 2\") + ggtitle(\"\")\n",
    "p\n",
    "p %>% ggsave(filename = \"umap_mcdi.pdf\",height = 2, width =2,dpi=300,units =\"in\")"
   ]
  },
  {
   "cell_type": "code",
   "execution_count": 17,
   "metadata": {},
   "outputs": [],
   "source": [
    "# example_plot"
   ]
  },
  {
   "cell_type": "code",
   "execution_count": 16,
   "metadata": {},
   "outputs": [
    {
     "name": "stderr",
     "output_type": "stream",
     "text": [
      "\u001b[1mRows: \u001b[22m\u001b[34m390252\u001b[39m \u001b[1mColumns: \u001b[22m\u001b[34m12\u001b[39m\n",
      "\u001b[36m──\u001b[39m \u001b[1mColumn specification\u001b[22m \u001b[36m────────────────────────────────────────────────────────────────────────────────────────────────────────────────────────────────────────────────────────────────────────────────────────────────────────────────────────────────────────────────────────────────────────────────────────────\u001b[39m\n",
      "\u001b[1mDelimiter:\u001b[22m \"\\t\"\n",
      "\u001b[31mchr\u001b[39m (5): chrom1, chrom2, name, pos, GADI_id\n",
      "\u001b[32mdbl\u001b[39m (7): start1, end1, start2, end2, cor, pv, fdr_cor\n",
      "\n",
      "\u001b[36mℹ\u001b[39m Use \u001b[30m\u001b[47m\u001b[30m\u001b[47m`spec()`\u001b[47m\u001b[30m\u001b[49m\u001b[39m to retrieve the full column specification for this data.\n",
      "\u001b[36mℹ\u001b[39m Specify the column types or set \u001b[30m\u001b[47m\u001b[30m\u001b[47m`show_col_types = FALSE`\u001b[47m\u001b[30m\u001b[49m\u001b[39m to quiet this message.\n"
     ]
    }
   ],
   "source": [
    "allgadi_bedpe <- read_tsv(\"../../figure3_related_new/di_emb_nonp/hires_emb_gadi.tsv.gz\")\n",
    "# allgadi %>% group_by(name,pos) %>% slice(1) %>% ungroup() -> allgadi\n",
    "# allgadi <- allgadi %>% mutate(fdr_cor = p.adjust(pv,method=\"BH\")) %>% filter(fdr_cor < 0.01)\n",
    "\n",
    "# allgadi_bedpe <- allgadi %>%mutate(pos1=pos) %>% separate(pos1,into = c(\"chrom\",\"bin1\",\"bin2\")) %>% mutate(bin1 = as.numeric(bin1),bin2 = as.numeric(bin2)) %>% \n",
    "#         mutate(start1=bin1 - 10000,start2=bin2-10000,end1 = bin1 + 10000,end2 = bin2+ 10000,chrom1 = chrom,chrom2 = chrom)%>% \n",
    "#         select(chrom1,start1,end1,chrom2,start2,end2,name,cor,pv,fdr_cor,pos)\n",
    "# allgadi_bedpe <- allgadi_bedpe %>% group_by(name) %>% mutate(count = n()) %>% filter(count > 10) %>% ungroup() %>% select(-count) "
   ]
  },
  {
   "cell_type": "code",
   "execution_count": 17,
   "metadata": {},
   "outputs": [
    {
     "name": "stderr",
     "output_type": "stream",
     "text": [
      "Loading required package: BiocGenerics\n",
      "\n",
      "\n",
      "Attaching package: ‘BiocGenerics’\n",
      "\n",
      "\n",
      "The following objects are masked from ‘package:dplyr’:\n",
      "\n",
      "    combine, intersect, setdiff, union\n",
      "\n",
      "\n",
      "The following objects are masked from ‘package:stats’:\n",
      "\n",
      "    IQR, mad, sd, var, xtabs\n",
      "\n",
      "\n",
      "The following objects are masked from ‘package:base’:\n",
      "\n",
      "    anyDuplicated, append, as.data.frame, basename, cbind, colnames,\n",
      "    dirname, do.call, duplicated, eval, evalq, Filter, Find, get, grep,\n",
      "    grepl, intersect, is.unsorted, lapply, Map, mapply, match, mget,\n",
      "    order, paste, pmax, pmax.int, pmin, pmin.int, Position, rank,\n",
      "    rbind, Reduce, rownames, sapply, setdiff, sort, table, tapply,\n",
      "    union, unique, unsplit, which.max, which.min\n",
      "\n",
      "\n",
      "Registered S3 method overwritten by 'GGally':\n",
      "  method from   \n",
      "  +.gg   ggplot2\n",
      "\n",
      "Need specific help about ggbio? try mailing \n",
      " the maintainer or visit https://lawremi.github.io/ggbio/\n",
      "\n",
      "\n",
      "Attaching package: 'ggbio'\n",
      "\n",
      "\n",
      "The following objects are masked from 'package:ggplot2':\n",
      "\n",
      "    geom_bar, geom_rect, geom_segment, ggsave, stat_bin, stat_identity,\n",
      "    xlim\n",
      "\n",
      "\n",
      "Loading required package: stats4\n",
      "\n",
      "Loading required package: S4Vectors\n",
      "\n",
      "\n",
      "Attaching package: 'S4Vectors'\n",
      "\n",
      "\n",
      "The following objects are masked from 'package:dplyr':\n",
      "\n",
      "    first, rename\n",
      "\n",
      "\n",
      "The following object is masked from 'package:tidyr':\n",
      "\n",
      "    expand\n",
      "\n",
      "\n",
      "The following objects are masked from 'package:base':\n",
      "\n",
      "    expand.grid, I, unname\n",
      "\n",
      "\n",
      "Loading required package: IRanges\n",
      "\n",
      "\n",
      "Attaching package: 'IRanges'\n",
      "\n",
      "\n",
      "The following objects are masked from 'package:dplyr':\n",
      "\n",
      "    collapse, desc, slice\n",
      "\n",
      "\n",
      "The following object is masked from 'package:purrr':\n",
      "\n",
      "    reduce\n",
      "\n",
      "\n",
      "Loading required package: GenomeInfoDb\n",
      "\n",
      "Warning message in fun(libname, pkgname):\n",
      "\"bedtoolsr was built with bedtools version 2.30.0 but you have version 2.29.2 installed. Function syntax may have changed and wrapper will not function correctly. To fix this, please install bedtools version 2.30.0 and either add it to your PATH or run:\n",
      "options(bedtools.path = \\\"[bedtools path]\\\")\"\n"
     ]
    }
   ],
   "source": [
    "library(ggbio)\n",
    "library(GenomicRanges)\n",
    "options(bedtools.path = \"~/miniconda3/envs/py3/bin\")\n",
    "library(bedtoolsr)"
   ]
  },
  {
   "cell_type": "code",
   "execution_count": 27,
   "metadata": {},
   "outputs": [
    {
     "data": {
      "text/html": [
       "<table class=\"dataframe\">\n",
       "<caption>A tibble: 6 × 12</caption>\n",
       "<thead>\n",
       "\t<tr><th scope=col>chrom1</th><th scope=col>start1</th><th scope=col>end1</th><th scope=col>chrom2</th><th scope=col>start2</th><th scope=col>end2</th><th scope=col>name</th><th scope=col>cor</th><th scope=col>pv</th><th scope=col>fdr_cor</th><th scope=col>pos</th><th scope=col>GADI_id</th></tr>\n",
       "\t<tr><th scope=col>&lt;chr&gt;</th><th scope=col>&lt;dbl&gt;</th><th scope=col>&lt;dbl&gt;</th><th scope=col>&lt;chr&gt;</th><th scope=col>&lt;dbl&gt;</th><th scope=col>&lt;dbl&gt;</th><th scope=col>&lt;chr&gt;</th><th scope=col>&lt;dbl&gt;</th><th scope=col>&lt;dbl&gt;</th><th scope=col>&lt;dbl&gt;</th><th scope=col>&lt;chr&gt;</th><th scope=col>&lt;chr&gt;</th></tr>\n",
       "</thead>\n",
       "<tbody>\n",
       "\t<tr><td>chr18</td><td>70290000</td><td>70310000</td><td>chr18</td><td>70810000</td><td>70830000</td><td>Dcc</td><td> 0.2427190</td><td>0.002120680924</td><td>0.00674473939</td><td>chr18-70300000-70820000</td><td>GADI_68997</td></tr>\n",
       "\t<tr><td>chr18</td><td>70310000</td><td>70330000</td><td>chr18</td><td>70810000</td><td>70830000</td><td>Dcc</td><td> 0.2325750</td><td>0.003275324336</td><td>0.00983373440</td><td>chr18-70320000-70820000</td><td>GADI_68998</td></tr>\n",
       "\t<tr><td>chr18</td><td>70310000</td><td>70330000</td><td>chr18</td><td>70830000</td><td>70850000</td><td>Dcc</td><td> 0.2335528</td><td>0.003143365681</td><td>0.00948979838</td><td>chr18-70320000-70840000</td><td>GADI_68999</td></tr>\n",
       "\t<tr><td>chr18</td><td>70590000</td><td>70610000</td><td>chr18</td><td>70850000</td><td>70870000</td><td>Dcc</td><td>-0.2413049</td><td>0.002255587678</td><td>0.00711572921</td><td>chr18-70600000-70860000</td><td>GADI_69000</td></tr>\n",
       "\t<tr><td>chr18</td><td>70690000</td><td>70710000</td><td>chr18</td><td>70750000</td><td>70770000</td><td>Dcc</td><td>-0.3499337</td><td>0.000006575005</td><td>0.00004019823</td><td>chr18-70700000-70760000</td><td>GADI_69001</td></tr>\n",
       "\t<tr><td>chr18</td><td>70710000</td><td>70730000</td><td>chr18</td><td>70850000</td><td>70870000</td><td>Dcc</td><td>-0.3113518</td><td>0.000068340016</td><td>0.00032563348</td><td>chr18-70720000-70860000</td><td>GADI_69002</td></tr>\n",
       "</tbody>\n",
       "</table>\n"
      ],
      "text/latex": [
       "A tibble: 6 × 12\n",
       "\\begin{tabular}{llllllllllll}\n",
       " chrom1 & start1 & end1 & chrom2 & start2 & end2 & name & cor & pv & fdr\\_cor & pos & GADI\\_id\\\\\n",
       " <chr> & <dbl> & <dbl> & <chr> & <dbl> & <dbl> & <chr> & <dbl> & <dbl> & <dbl> & <chr> & <chr>\\\\\n",
       "\\hline\n",
       "\t chr18 & 70290000 & 70310000 & chr18 & 70810000 & 70830000 & Dcc &  0.2427190 & 0.002120680924 & 0.00674473939 & chr18-70300000-70820000 & GADI\\_68997\\\\\n",
       "\t chr18 & 70310000 & 70330000 & chr18 & 70810000 & 70830000 & Dcc &  0.2325750 & 0.003275324336 & 0.00983373440 & chr18-70320000-70820000 & GADI\\_68998\\\\\n",
       "\t chr18 & 70310000 & 70330000 & chr18 & 70830000 & 70850000 & Dcc &  0.2335528 & 0.003143365681 & 0.00948979838 & chr18-70320000-70840000 & GADI\\_68999\\\\\n",
       "\t chr18 & 70590000 & 70610000 & chr18 & 70850000 & 70870000 & Dcc & -0.2413049 & 0.002255587678 & 0.00711572921 & chr18-70600000-70860000 & GADI\\_69000\\\\\n",
       "\t chr18 & 70690000 & 70710000 & chr18 & 70750000 & 70770000 & Dcc & -0.3499337 & 0.000006575005 & 0.00004019823 & chr18-70700000-70760000 & GADI\\_69001\\\\\n",
       "\t chr18 & 70710000 & 70730000 & chr18 & 70850000 & 70870000 & Dcc & -0.3113518 & 0.000068340016 & 0.00032563348 & chr18-70720000-70860000 & GADI\\_69002\\\\\n",
       "\\end{tabular}\n"
      ],
      "text/markdown": [
       "\n",
       "A tibble: 6 × 12\n",
       "\n",
       "| chrom1 &lt;chr&gt; | start1 &lt;dbl&gt; | end1 &lt;dbl&gt; | chrom2 &lt;chr&gt; | start2 &lt;dbl&gt; | end2 &lt;dbl&gt; | name &lt;chr&gt; | cor &lt;dbl&gt; | pv &lt;dbl&gt; | fdr_cor &lt;dbl&gt; | pos &lt;chr&gt; | GADI_id &lt;chr&gt; |\n",
       "|---|---|---|---|---|---|---|---|---|---|---|---|\n",
       "| chr18 | 70290000 | 70310000 | chr18 | 70810000 | 70830000 | Dcc |  0.2427190 | 0.002120680924 | 0.00674473939 | chr18-70300000-70820000 | GADI_68997 |\n",
       "| chr18 | 70310000 | 70330000 | chr18 | 70810000 | 70830000 | Dcc |  0.2325750 | 0.003275324336 | 0.00983373440 | chr18-70320000-70820000 | GADI_68998 |\n",
       "| chr18 | 70310000 | 70330000 | chr18 | 70830000 | 70850000 | Dcc |  0.2335528 | 0.003143365681 | 0.00948979838 | chr18-70320000-70840000 | GADI_68999 |\n",
       "| chr18 | 70590000 | 70610000 | chr18 | 70850000 | 70870000 | Dcc | -0.2413049 | 0.002255587678 | 0.00711572921 | chr18-70600000-70860000 | GADI_69000 |\n",
       "| chr18 | 70690000 | 70710000 | chr18 | 70750000 | 70770000 | Dcc | -0.3499337 | 0.000006575005 | 0.00004019823 | chr18-70700000-70760000 | GADI_69001 |\n",
       "| chr18 | 70710000 | 70730000 | chr18 | 70850000 | 70870000 | Dcc | -0.3113518 | 0.000068340016 | 0.00032563348 | chr18-70720000-70860000 | GADI_69002 |\n",
       "\n"
      ],
      "text/plain": [
       "  chrom1 start1   end1     chrom2 start2   end2     name cor       \n",
       "1 chr18  70290000 70310000 chr18  70810000 70830000 Dcc   0.2427190\n",
       "2 chr18  70310000 70330000 chr18  70810000 70830000 Dcc   0.2325750\n",
       "3 chr18  70310000 70330000 chr18  70830000 70850000 Dcc   0.2335528\n",
       "4 chr18  70590000 70610000 chr18  70850000 70870000 Dcc  -0.2413049\n",
       "5 chr18  70690000 70710000 chr18  70750000 70770000 Dcc  -0.3499337\n",
       "6 chr18  70710000 70730000 chr18  70850000 70870000 Dcc  -0.3113518\n",
       "  pv             fdr_cor       pos                     GADI_id   \n",
       "1 0.002120680924 0.00674473939 chr18-70300000-70820000 GADI_68997\n",
       "2 0.003275324336 0.00983373440 chr18-70320000-70820000 GADI_68998\n",
       "3 0.003143365681 0.00948979838 chr18-70320000-70840000 GADI_68999\n",
       "4 0.002255587678 0.00711572921 chr18-70600000-70860000 GADI_69000\n",
       "5 0.000006575005 0.00004019823 chr18-70700000-70760000 GADI_69001\n",
       "6 0.000068340016 0.00032563348 chr18-70720000-70860000 GADI_69002"
      ]
     },
     "metadata": {},
     "output_type": "display_data"
    }
   ],
   "source": [
    "dcc_gadi <- allgadi_bedpe %>% filter(name ==\"Dcc\") \n",
    "head(dcc_gadi)"
   ]
  },
  {
   "cell_type": "code",
   "execution_count": 20,
   "metadata": {},
   "outputs": [],
   "source": [
    "options(scipen = 90)"
   ]
  },
  {
   "cell_type": "code",
   "execution_count": 18,
   "metadata": {},
   "outputs": [
    {
     "name": "stderr",
     "output_type": "stream",
     "text": [
      "\u001b[1mRows: \u001b[22m\u001b[34m55335\u001b[39m \u001b[1mColumns: \u001b[22m\u001b[34m6\u001b[39m\n",
      "\u001b[36m──\u001b[39m \u001b[1mColumn specification\u001b[22m \u001b[36m────────────────────────────────────────────────────────────────────────────────────────────────────────────────────────────────────────────────────────────────────────────────────────────────────────────────────────────────────────────────────────────────────────────────────────────\u001b[39m\n",
      "\u001b[1mDelimiter:\u001b[22m \"\\t\"\n",
      "\u001b[31mchr\u001b[39m (4): X1, X4, X5, X6\n",
      "\u001b[32mdbl\u001b[39m (2): X2, X3\n",
      "\n",
      "\u001b[36mℹ\u001b[39m Use \u001b[30m\u001b[47m\u001b[30m\u001b[47m`spec()`\u001b[47m\u001b[30m\u001b[49m\u001b[39m to retrieve the full column specification for this data.\n",
      "\u001b[36mℹ\u001b[39m Specify the column types or set \u001b[30m\u001b[47m\u001b[30m\u001b[47m`show_col_types = FALSE`\u001b[47m\u001b[30m\u001b[49m\u001b[39m to quiet this message.\n"
     ]
    }
   ],
   "source": [
    "mm10 <- read_tsv(\"/share/Data/public/ref_genome/mouse_ref/M23/raw_data/gene.bed\",col_names = F)\n",
    "names(mm10) <- c(\"chrom\",\"start\",\"end\",\"id\",\"name\",\"strand\")\n",
    "mm10 <- mm10 %>% mutate(length = end - start) %>% arrange(desc(length)) %>% group_by(name) %>% dplyr::slice(1) %>% ungroup() %>% valr::bed_sort() %>% select(-length)"
   ]
  },
  {
   "cell_type": "code",
   "execution_count": 19,
   "metadata": {},
   "outputs": [],
   "source": [
    "mm10_tss <- mm10 %>% mutate(tss = ifelse(strand ==\"+\",start,end))%>% mutate(end = tss + 1) %>% select(chrom,tss,end,name,strand) %>% mutate(end = tss + 1)\n",
    "tss_gadi <- bt.pairtobed(allgadi_bedpe,mm10_tss) \n",
    "tss_gadi <- tss_gadi %>% filter(V7 == V16)\n"
   ]
  },
  {
   "cell_type": "code",
   "execution_count": 20,
   "metadata": {},
   "outputs": [
    {
     "data": {
      "text/html": [
       "<table class=\"dataframe\">\n",
       "<caption>A data.frame: 6 × 17</caption>\n",
       "<thead>\n",
       "\t<tr><th></th><th scope=col>V1</th><th scope=col>V2</th><th scope=col>V3</th><th scope=col>V4</th><th scope=col>V5</th><th scope=col>V6</th><th scope=col>V7</th><th scope=col>V8</th><th scope=col>V9</th><th scope=col>V10</th><th scope=col>V11</th><th scope=col>V12</th><th scope=col>V13</th><th scope=col>V14</th><th scope=col>V15</th><th scope=col>V16</th><th scope=col>V17</th></tr>\n",
       "\t<tr><th></th><th scope=col>&lt;chr&gt;</th><th scope=col>&lt;int&gt;</th><th scope=col>&lt;int&gt;</th><th scope=col>&lt;chr&gt;</th><th scope=col>&lt;int&gt;</th><th scope=col>&lt;int&gt;</th><th scope=col>&lt;chr&gt;</th><th scope=col>&lt;dbl&gt;</th><th scope=col>&lt;dbl&gt;</th><th scope=col>&lt;dbl&gt;</th><th scope=col>&lt;chr&gt;</th><th scope=col>&lt;chr&gt;</th><th scope=col>&lt;chr&gt;</th><th scope=col>&lt;int&gt;</th><th scope=col>&lt;int&gt;</th><th scope=col>&lt;chr&gt;</th><th scope=col>&lt;chr&gt;</th></tr>\n",
       "</thead>\n",
       "<tbody>\n",
       "\t<tr><th scope=row>1</th><td>chr5</td><td>62850000</td><td>62870000</td><td>chr5</td><td>63810000</td><td>63830000</td><td>0610040J01Rik</td><td>0.2329621</td><td>0.003222499</td><td>0.009696361</td><td>chr5-62860000-63820000</td><td>GADI_1 </td><td>chr5</td><td>63812362</td><td>63812363</td><td>0610040J01Rik</td><td>+</td></tr>\n",
       "\t<tr><th scope=row>2</th><td>chr5</td><td>62890000</td><td>62910000</td><td>chr5</td><td>63810000</td><td>63830000</td><td>0610040J01Rik</td><td>0.2382589</td><td>0.002572974</td><td>0.007978721</td><td>chr5-62900000-63820000</td><td>GADI_3 </td><td>chr5</td><td>63812362</td><td>63812363</td><td>0610040J01Rik</td><td>+</td></tr>\n",
       "\t<tr><th scope=row>3</th><td>chr5</td><td>62910000</td><td>62930000</td><td>chr5</td><td>63810000</td><td>63830000</td><td>0610040J01Rik</td><td>0.2429671</td><td>0.002097788</td><td>0.006681827</td><td>chr5-62920000-63820000</td><td>GADI_5 </td><td>chr5</td><td>63812362</td><td>63812363</td><td>0610040J01Rik</td><td>+</td></tr>\n",
       "\t<tr><th scope=row>4</th><td>chr5</td><td>62930000</td><td>62950000</td><td>chr5</td><td>63810000</td><td>63830000</td><td>0610040J01Rik</td><td>0.2562893</td><td>0.001152464</td><td>0.003959604</td><td>chr5-62940000-63820000</td><td>GADI_9 </td><td>chr5</td><td>63812362</td><td>63812363</td><td>0610040J01Rik</td><td>+</td></tr>\n",
       "\t<tr><th scope=row>5</th><td>chr5</td><td>62950000</td><td>62970000</td><td>chr5</td><td>63810000</td><td>63830000</td><td>0610040J01Rik</td><td>0.2490140</td><td>0.001604677</td><td>0.005289781</td><td>chr5-62960000-63820000</td><td>GADI_14</td><td>chr5</td><td>63812362</td><td>63812363</td><td>0610040J01Rik</td><td>+</td></tr>\n",
       "\t<tr><th scope=row>6</th><td>chr5</td><td>62970000</td><td>62990000</td><td>chr5</td><td>63810000</td><td>63830000</td><td>0610040J01Rik</td><td>0.2335505</td><td>0.003143671</td><td>0.009490573</td><td>chr5-62980000-63820000</td><td>GADI_16</td><td>chr5</td><td>63812362</td><td>63812363</td><td>0610040J01Rik</td><td>+</td></tr>\n",
       "</tbody>\n",
       "</table>\n"
      ],
      "text/latex": [
       "A data.frame: 6 × 17\n",
       "\\begin{tabular}{r|lllllllllllllllll}\n",
       "  & V1 & V2 & V3 & V4 & V5 & V6 & V7 & V8 & V9 & V10 & V11 & V12 & V13 & V14 & V15 & V16 & V17\\\\\n",
       "  & <chr> & <int> & <int> & <chr> & <int> & <int> & <chr> & <dbl> & <dbl> & <dbl> & <chr> & <chr> & <chr> & <int> & <int> & <chr> & <chr>\\\\\n",
       "\\hline\n",
       "\t1 & chr5 & 62850000 & 62870000 & chr5 & 63810000 & 63830000 & 0610040J01Rik & 0.2329621 & 0.003222499 & 0.009696361 & chr5-62860000-63820000 & GADI\\_1  & chr5 & 63812362 & 63812363 & 0610040J01Rik & +\\\\\n",
       "\t2 & chr5 & 62890000 & 62910000 & chr5 & 63810000 & 63830000 & 0610040J01Rik & 0.2382589 & 0.002572974 & 0.007978721 & chr5-62900000-63820000 & GADI\\_3  & chr5 & 63812362 & 63812363 & 0610040J01Rik & +\\\\\n",
       "\t3 & chr5 & 62910000 & 62930000 & chr5 & 63810000 & 63830000 & 0610040J01Rik & 0.2429671 & 0.002097788 & 0.006681827 & chr5-62920000-63820000 & GADI\\_5  & chr5 & 63812362 & 63812363 & 0610040J01Rik & +\\\\\n",
       "\t4 & chr5 & 62930000 & 62950000 & chr5 & 63810000 & 63830000 & 0610040J01Rik & 0.2562893 & 0.001152464 & 0.003959604 & chr5-62940000-63820000 & GADI\\_9  & chr5 & 63812362 & 63812363 & 0610040J01Rik & +\\\\\n",
       "\t5 & chr5 & 62950000 & 62970000 & chr5 & 63810000 & 63830000 & 0610040J01Rik & 0.2490140 & 0.001604677 & 0.005289781 & chr5-62960000-63820000 & GADI\\_14 & chr5 & 63812362 & 63812363 & 0610040J01Rik & +\\\\\n",
       "\t6 & chr5 & 62970000 & 62990000 & chr5 & 63810000 & 63830000 & 0610040J01Rik & 0.2335505 & 0.003143671 & 0.009490573 & chr5-62980000-63820000 & GADI\\_16 & chr5 & 63812362 & 63812363 & 0610040J01Rik & +\\\\\n",
       "\\end{tabular}\n"
      ],
      "text/markdown": [
       "\n",
       "A data.frame: 6 × 17\n",
       "\n",
       "| <!--/--> | V1 &lt;chr&gt; | V2 &lt;int&gt; | V3 &lt;int&gt; | V4 &lt;chr&gt; | V5 &lt;int&gt; | V6 &lt;int&gt; | V7 &lt;chr&gt; | V8 &lt;dbl&gt; | V9 &lt;dbl&gt; | V10 &lt;dbl&gt; | V11 &lt;chr&gt; | V12 &lt;chr&gt; | V13 &lt;chr&gt; | V14 &lt;int&gt; | V15 &lt;int&gt; | V16 &lt;chr&gt; | V17 &lt;chr&gt; |\n",
       "|---|---|---|---|---|---|---|---|---|---|---|---|---|---|---|---|---|---|\n",
       "| 1 | chr5 | 62850000 | 62870000 | chr5 | 63810000 | 63830000 | 0610040J01Rik | 0.2329621 | 0.003222499 | 0.009696361 | chr5-62860000-63820000 | GADI_1  | chr5 | 63812362 | 63812363 | 0610040J01Rik | + |\n",
       "| 2 | chr5 | 62890000 | 62910000 | chr5 | 63810000 | 63830000 | 0610040J01Rik | 0.2382589 | 0.002572974 | 0.007978721 | chr5-62900000-63820000 | GADI_3  | chr5 | 63812362 | 63812363 | 0610040J01Rik | + |\n",
       "| 3 | chr5 | 62910000 | 62930000 | chr5 | 63810000 | 63830000 | 0610040J01Rik | 0.2429671 | 0.002097788 | 0.006681827 | chr5-62920000-63820000 | GADI_5  | chr5 | 63812362 | 63812363 | 0610040J01Rik | + |\n",
       "| 4 | chr5 | 62930000 | 62950000 | chr5 | 63810000 | 63830000 | 0610040J01Rik | 0.2562893 | 0.001152464 | 0.003959604 | chr5-62940000-63820000 | GADI_9  | chr5 | 63812362 | 63812363 | 0610040J01Rik | + |\n",
       "| 5 | chr5 | 62950000 | 62970000 | chr5 | 63810000 | 63830000 | 0610040J01Rik | 0.2490140 | 0.001604677 | 0.005289781 | chr5-62960000-63820000 | GADI_14 | chr5 | 63812362 | 63812363 | 0610040J01Rik | + |\n",
       "| 6 | chr5 | 62970000 | 62990000 | chr5 | 63810000 | 63830000 | 0610040J01Rik | 0.2335505 | 0.003143671 | 0.009490573 | chr5-62980000-63820000 | GADI_16 | chr5 | 63812362 | 63812363 | 0610040J01Rik | + |\n",
       "\n"
      ],
      "text/plain": [
       "  V1   V2       V3       V4   V5       V6       V7            V8       \n",
       "1 chr5 62850000 62870000 chr5 63810000 63830000 0610040J01Rik 0.2329621\n",
       "2 chr5 62890000 62910000 chr5 63810000 63830000 0610040J01Rik 0.2382589\n",
       "3 chr5 62910000 62930000 chr5 63810000 63830000 0610040J01Rik 0.2429671\n",
       "4 chr5 62930000 62950000 chr5 63810000 63830000 0610040J01Rik 0.2562893\n",
       "5 chr5 62950000 62970000 chr5 63810000 63830000 0610040J01Rik 0.2490140\n",
       "6 chr5 62970000 62990000 chr5 63810000 63830000 0610040J01Rik 0.2335505\n",
       "  V9          V10         V11                    V12     V13  V14      V15     \n",
       "1 0.003222499 0.009696361 chr5-62860000-63820000 GADI_1  chr5 63812362 63812363\n",
       "2 0.002572974 0.007978721 chr5-62900000-63820000 GADI_3  chr5 63812362 63812363\n",
       "3 0.002097788 0.006681827 chr5-62920000-63820000 GADI_5  chr5 63812362 63812363\n",
       "4 0.001152464 0.003959604 chr5-62940000-63820000 GADI_9  chr5 63812362 63812363\n",
       "5 0.001604677 0.005289781 chr5-62960000-63820000 GADI_14 chr5 63812362 63812363\n",
       "6 0.003143671 0.009490573 chr5-62980000-63820000 GADI_16 chr5 63812362 63812363\n",
       "  V16           V17\n",
       "1 0610040J01Rik +  \n",
       "2 0610040J01Rik +  \n",
       "3 0610040J01Rik +  \n",
       "4 0610040J01Rik +  \n",
       "5 0610040J01Rik +  \n",
       "6 0610040J01Rik +  "
      ]
     },
     "metadata": {},
     "output_type": "display_data"
    }
   ],
   "source": [
    "head(tss_gadi)"
   ]
  },
  {
   "cell_type": "code",
   "execution_count": 21,
   "metadata": {
    "tags": []
   },
   "outputs": [],
   "source": [
    "tss_gadi %>% select(V16,V11,V17)-> tss_gadi\n",
    "names(tss_gadi) <- c(\"name\",\"pos\",\"strand\")"
   ]
  },
  {
   "cell_type": "code",
   "execution_count": 22,
   "metadata": {},
   "outputs": [
    {
     "name": "stderr",
     "output_type": "stream",
     "text": [
      "\u001b[1m\u001b[22mJoining, by = c(\"name\", \"pos\")\n"
     ]
    }
   ],
   "source": [
    "tssgadi_bedpe <- allgadi_bedpe %>% right_join(tss_gadi)# %>%# mutate(gadi = paste0(genes,\"-\",ifelse(sign(cor) == 1,\"pos\",\"neg\"))) %>% \n",
    "   # group_by(gadi) %>% mutate(count = n())  %>% select(gadi,pos) -> gadi_table"
   ]
  },
  {
   "cell_type": "code",
   "execution_count": 35,
   "metadata": {},
   "outputs": [
    {
     "name": "stderr",
     "output_type": "stream",
     "text": [
      "Warning message:\n",
      "\"`legend.margin` must be specified using `margin()`. For the old behavior use legend.spacing\"\n",
      "Warning message:\n",
      "\"`legend.margin` must be specified using `margin()`. For the old behavior use legend.spacing\"\n",
      "Warning message:\n",
      "\"`legend.margin` must be specified using `margin()`. For the old behavior use legend.spacing\"\n",
      "Warning message:\n",
      "\"`legend.margin` must be specified using `margin()`. For the old behavior use legend.spacing\"\n"
     ]
    }
   ],
   "source": [
    "# plot arc plot from bedpe file\n",
    "startc = 70000000\n",
    "endc = 73800000\n",
    "gene = \"Dcc\"\n",
    "options(repr.plot.width = 7,repr.plot.height = 3,repr.plot.res = 200)\n",
    "\n",
    "P <- allgadi_bedpe %>% filter(name == gene) %>% mutate(logpv = -log10(pv),chrom = chrom1,start = start1 + 10000,end = start2 + 10000) %>% \n",
    "    select(chrom,start,end,logpv,cor) %>% mutate(cor = -cor)  %>% GRanges() %>% ggplot() + geom_arch(aes(color = cor, height = logpv))+#,alpha = (logpv-min(logpv))/(max(logpv)-min(logpv)))) +\n",
    "        theme_Publication() +  theme(legend.position = \"right\", legend.direction = \"vertical\") + \n",
    "        scale_color_gradient2(low = \"#2166ac\",mid = \"white\",high = \"#b2182b\",limits = c(-0.8,0.8))  + \n",
    "        ylab(\"log10(p-value)\") + xlab(\"Genomic distance (bp)\") + scale_x_continuous(limits = c(startc,endc),breaks = c(startc,endc)) \n",
    "\n",
    "P <- P  +theme_Publication() +  theme(legend.position = \"right\", legend.direction = \"vertical\")  + xlab(\"\") + ylab(\"-log10 pv\") + ggtitle(\"\")\n",
    "Q <- tssgadi_bedpe %>% filter(name == gene) %>% mutate(logpv = -log10(pv),chrom = chrom1,start = start1 + 10000,end = start2 + 10000) %>% \n",
    "    select(chrom,start,end,logpv,cor) %>% mutate(cor = -cor)  %>% GRanges() %>% ggplot() + geom_arch(aes(color = cor, height = logpv))+#,alpha = (logpv-min(logpv))/(max(logpv)-min(logpv)))) +\n",
    "        theme_Publication() +  theme(legend.position = \"right\", legend.direction = \"vertical\") + \n",
    "        scale_color_gradient2(low = \"#2166ac\",mid = \"white\",high = \"#b2182b\",limits = c(-0.8,0.8))  + \n",
    "        ylab(\"log10(p-value)\") + xlab(\"Genomic distance (bp)\") + scale_x_continuous(limits = c(startc,endc),breaks = c(startc,endc)) \n",
    "\n",
    "Q <- Q  +theme_Publication() +  theme(legend.position = \"right\", legend.direction = \"vertical\")  + xlab(\"\") + ylab(\"-log10 pv\") + ggtitle(\"\")\n"
   ]
  },
  {
   "cell_type": "code",
   "execution_count": 37,
   "metadata": {},
   "outputs": [
    {
     "data": {
      "text/html": [
       "<strong>png:</strong> 2"
      ],
      "text/latex": [
       "\\textbf{png:} 2"
      ],
      "text/markdown": [
       "**png:** 2"
      ],
      "text/plain": [
       "png \n",
       "  2 "
      ]
     },
     "metadata": {},
     "output_type": "display_data"
    },
    {
     "data": {
      "text/html": [
       "<strong>png:</strong> 2"
      ],
      "text/latex": [
       "\\textbf{png:} 2"
      ],
      "text/markdown": [
       "**png:** 2"
      ],
      "text/plain": [
       "png \n",
       "  2 "
      ]
     },
     "metadata": {},
     "output_type": "display_data"
    }
   ],
   "source": [
    "pdf(\"dcc_gadi_arc.pdf\", width = 2.5, height = 1)\n",
    "P\n",
    "dev.off() \n",
    "\n",
    "pdf(\"dcc_gadi_tss_arc.pdf\", width = 2.5, height = 1)\n",
    "Q\n",
    "dev.off() "
   ]
  },
  {
   "cell_type": "code",
   "execution_count": 40,
   "metadata": {},
   "outputs": [
    {
     "name": "stderr",
     "output_type": "stream",
     "text": [
      "Warning message:\n",
      "\"`legend.margin` must be specified using `margin()`. For the old behavior use legend.spacing\"\n",
      "Warning message:\n",
      "\"`legend.margin` must be specified using `margin()`. For the old behavior use legend.spacing\"\n",
      "Warning message:\n",
      "\"`legend.margin` must be specified using `margin()`. For the old behavior use legend.spacing\"\n",
      "Warning message:\n",
      "\"`legend.margin` must be specified using `margin()`. For the old behavior use legend.spacing\"\n"
     ]
    },
    {
     "data": {
      "text/html": [
       "<strong>png:</strong> 2"
      ],
      "text/latex": [
       "\\textbf{png:} 2"
      ],
      "text/markdown": [
       "**png:** 2"
      ],
      "text/plain": [
       "png \n",
       "  2 "
      ]
     },
     "metadata": {},
     "output_type": "display_data"
    },
    {
     "data": {
      "text/html": [
       "<strong>png:</strong> 2"
      ],
      "text/latex": [
       "\\textbf{png:} 2"
      ],
      "text/markdown": [
       "**png:** 2"
      ],
      "text/plain": [
       "png \n",
       "  2 "
      ]
     },
     "metadata": {},
     "output_type": "display_data"
    }
   ],
   "source": [
    "# plot arc plot from bedpe file\n",
    "#chr8:35,800,000-38,500,000\n",
    "startc = 35800000\n",
    "endc = 38500000\n",
    "gene = \"Dlc1\"\n",
    "options(repr.plot.width = 7,repr.plot.height = 3,repr.plot.res = 200)\n",
    "\n",
    "P <- allgadi_bedpe %>% filter(name == gene) %>% mutate(logpv = -log10(pv),chrom = chrom1,start = start1 + 10000,end = start2 + 10000) %>% \n",
    "    select(chrom,start,end,logpv,cor) %>% mutate(cor = -cor)  %>% GRanges() %>% ggplot() + geom_arch(aes(color = cor, height = logpv))+#,alpha = (logpv-min(logpv))/(max(logpv)-min(logpv)))) +\n",
    "        theme_Publication() +  theme(legend.position = \"right\", legend.direction = \"vertical\") + \n",
    "        scale_color_gradient2(low = \"#2166ac\",mid = \"white\",high = \"#b2182b\",limits = c(-0.8,0.8))  + \n",
    "        ylab(\"log10(p-value)\") + xlab(\"Genomic distance (bp)\") + scale_x_continuous(limits = c(startc,endc),breaks = c(startc,endc)) \n",
    "\n",
    "P <- P  +theme_Publication() +  theme(legend.position = \"right\", legend.direction = \"vertical\")  + xlab(\"\") + ylab(\"-log10 pv\") + ggtitle(\"\")\n",
    "Q <- tssgadi_bedpe %>% filter(name == gene) %>% mutate(logpv = -log10(pv),chrom = chrom1,start = start1 + 10000,end = start2 + 10000) %>% \n",
    "    select(chrom,start,end,logpv,cor) %>% mutate(cor = -cor)  %>% GRanges() %>% ggplot() + geom_arch(aes(color = cor, height = logpv))+#,alpha = (logpv-min(logpv))/(max(logpv)-min(logpv)))) +\n",
    "        theme_Publication() +  theme(legend.position = \"right\", legend.direction = \"vertical\") + \n",
    "        scale_color_gradient2(low = \"#2166ac\",mid = \"white\",high = \"#b2182b\",limits = c(-0.8,0.8))  + \n",
    "        ylab(\"log10(p-value)\") + xlab(\"Genomic distance (bp)\") + scale_x_continuous(limits = c(startc,endc),breaks = c(startc,endc)) \n",
    "\n",
    "Q <- Q  +theme_Publication() +  theme(legend.position = \"right\", legend.direction = \"vertical\")  + xlab(\"\") + ylab(\"-log10 pv\") + ggtitle(\"\")\n",
    "\n",
    "pdf(\"Dlc1_gadi_arc.pdf\", width = 2.5, height = 1)\n",
    "P\n",
    "dev.off() \n",
    "\n",
    "pdf(\"Dlc1_gadi_tss_arc.pdf\", width = 2.5, height = 1)\n",
    "Q\n",
    "dev.off() "
   ]
  },
  {
   "cell_type": "code",
   "execution_count": 32,
   "metadata": {},
   "outputs": [
    {
     "data": {
      "text/html": [
       "0.695878149137371"
      ],
      "text/latex": [
       "0.695878149137371"
      ],
      "text/markdown": [
       "0.695878149137371"
      ],
      "text/plain": [
       "[1] 0.6958781"
      ]
     },
     "metadata": {},
     "output_type": "display_data"
    }
   ],
   "source": [
    "9640 / (4213 + 9640)"
   ]
  },
  {
   "cell_type": "code",
   "execution_count": 31,
   "metadata": {},
   "outputs": [
    {
     "data": {
      "text/html": [
       "<table class=\"dataframe\">\n",
       "<caption>A spec_tbl_df: 9640 × 13</caption>\n",
       "<thead>\n",
       "\t<tr><th scope=col>chrom1</th><th scope=col>start1</th><th scope=col>end1</th><th scope=col>chrom2</th><th scope=col>start2</th><th scope=col>end2</th><th scope=col>name</th><th scope=col>cor</th><th scope=col>pv</th><th scope=col>fdr_cor</th><th scope=col>pos</th><th scope=col>GADI_id</th><th scope=col>strand</th></tr>\n",
       "\t<tr><th scope=col>&lt;chr&gt;</th><th scope=col>&lt;dbl&gt;</th><th scope=col>&lt;dbl&gt;</th><th scope=col>&lt;chr&gt;</th><th scope=col>&lt;dbl&gt;</th><th scope=col>&lt;dbl&gt;</th><th scope=col>&lt;chr&gt;</th><th scope=col>&lt;dbl&gt;</th><th scope=col>&lt;dbl&gt;</th><th scope=col>&lt;dbl&gt;</th><th scope=col>&lt;chr&gt;</th><th scope=col>&lt;chr&gt;</th><th scope=col>&lt;chr&gt;</th></tr>\n",
       "</thead>\n",
       "<tbody>\n",
       "\t<tr><td>chr5 </td><td>63810000</td><td>63830000</td><td>chr5 </td><td>64050000</td><td>64070000</td><td>0610040J01Rik</td><td>-0.2469617</td><td>1.758733e-03</td><td>5.730030e-03</td><td>chr5-63820000-64060000 </td><td>GADI_21 </td><td>+</td></tr>\n",
       "\t<tr><td>chr18</td><td>25710000</td><td>25730000</td><td>chr18</td><td>26010000</td><td>26030000</td><td>0710001A04Rik</td><td>-0.2864506</td><td>2.634653e-04</td><td>1.078454e-03</td><td>chr18-25720000-26020000</td><td>GADI_137</td><td>+</td></tr>\n",
       "\t<tr><td>chr18</td><td>25710000</td><td>25730000</td><td>chr18</td><td>26050000</td><td>26070000</td><td>0710001A04Rik</td><td>-0.2757174</td><td>4.541918e-04</td><td>1.744338e-03</td><td>chr18-25720000-26060000</td><td>GADI_138</td><td>+</td></tr>\n",
       "\t<tr><td>chr18</td><td>25710000</td><td>25730000</td><td>chr18</td><td>26070000</td><td>26090000</td><td>0710001A04Rik</td><td>-0.2732783</td><td>5.124731e-04</td><td>1.940197e-03</td><td>chr18-25720000-26080000</td><td>GADI_139</td><td>+</td></tr>\n",
       "\t<tr><td>chr18</td><td>25710000</td><td>25730000</td><td>chr18</td><td>26210000</td><td>26230000</td><td>0710001A04Rik</td><td>-0.3057207</td><td>9.372721e-05</td><td>4.312978e-04</td><td>chr18-25720000-26220000</td><td>GADI_140</td><td>+</td></tr>\n",
       "\t<tr><td>chr18</td><td>25710000</td><td>25730000</td><td>chr18</td><td>26230000</td><td>26250000</td><td>0710001A04Rik</td><td>-0.2959509</td><td>1.597259e-04</td><td>6.923164e-04</td><td>chr18-25720000-26240000</td><td>GADI_141</td><td>+</td></tr>\n",
       "\t<tr><td>chr18</td><td>25710000</td><td>25730000</td><td>chr18</td><td>26310000</td><td>26330000</td><td>0710001A04Rik</td><td>-0.3227249</td><td>3.540497e-05</td><td>1.813149e-04</td><td>chr18-25720000-26320000</td><td>GADI_142</td><td>+</td></tr>\n",
       "\t<tr><td>chr18</td><td>25710000</td><td>25730000</td><td>chr18</td><td>26330000</td><td>26350000</td><td>0710001A04Rik</td><td>-0.3192596</td><td>4.338182e-05</td><td>2.173536e-04</td><td>chr18-25720000-26340000</td><td>GADI_143</td><td>+</td></tr>\n",
       "\t<tr><td>chr18</td><td>25710000</td><td>25730000</td><td>chr18</td><td>26350000</td><td>26370000</td><td>0710001A04Rik</td><td>-0.2984798</td><td>1.393911e-04</td><td>6.135350e-04</td><td>chr18-25720000-26360000</td><td>GADI_144</td><td>+</td></tr>\n",
       "\t<tr><td>chr18</td><td>25710000</td><td>25730000</td><td>chr18</td><td>26370000</td><td>26390000</td><td>0710001A04Rik</td><td>-0.3069913</td><td>8.732732e-05</td><td>4.050023e-04</td><td>chr18-25720000-26380000</td><td>GADI_145</td><td>+</td></tr>\n",
       "\t<tr><td>chr18</td><td>25710000</td><td>25730000</td><td>chr18</td><td>26390000</td><td>26410000</td><td>0710001A04Rik</td><td>-0.3111115</td><td>6.927648e-05</td><td>3.295689e-04</td><td>chr18-25720000-26400000</td><td>GADI_146</td><td>+</td></tr>\n",
       "\t<tr><td>chr18</td><td>25710000</td><td>25730000</td><td>chr18</td><td>26410000</td><td>26430000</td><td>0710001A04Rik</td><td>-0.3165267</td><td>5.083283e-05</td><td>2.503708e-04</td><td>chr18-25720000-26420000</td><td>GADI_147</td><td>+</td></tr>\n",
       "\t<tr><td>chr18</td><td>25710000</td><td>25730000</td><td>chr18</td><td>26430000</td><td>26450000</td><td>0710001A04Rik</td><td>-0.3175304</td><td>4.796675e-05</td><td>2.377548e-04</td><td>chr18-25720000-26440000</td><td>GADI_148</td><td>+</td></tr>\n",
       "\t<tr><td>chr18</td><td>25710000</td><td>25730000</td><td>chr18</td><td>26510000</td><td>26530000</td><td>0710001A04Rik</td><td>-0.3585106</td><td>3.740168e-06</td><td>2.422671e-05</td><td>chr18-25720000-26520000</td><td>GADI_149</td><td>+</td></tr>\n",
       "\t<tr><td>chr18</td><td>25710000</td><td>25730000</td><td>chr18</td><td>26530000</td><td>26550000</td><td>0710001A04Rik</td><td>-0.3872479</td><td>4.994918e-07</td><td>3.961167e-06</td><td>chr18-25720000-26540000</td><td>GADI_150</td><td>+</td></tr>\n",
       "\t<tr><td>chr18</td><td>25710000</td><td>25730000</td><td>chr18</td><td>26550000</td><td>26570000</td><td>0710001A04Rik</td><td>-0.3909532</td><td>3.798268e-07</td><td>3.094778e-06</td><td>chr18-25720000-26560000</td><td>GADI_151</td><td>+</td></tr>\n",
       "\t<tr><td>chr18</td><td>25710000</td><td>25730000</td><td>chr18</td><td>26570000</td><td>26590000</td><td>0710001A04Rik</td><td>-0.3819455</td><td>7.348936e-07</td><td>5.606430e-06</td><td>chr18-25720000-26580000</td><td>GADI_152</td><td>+</td></tr>\n",
       "\t<tr><td>chr18</td><td>25710000</td><td>25730000</td><td>chr18</td><td>26590000</td><td>26610000</td><td>0710001A04Rik</td><td>-0.3572096</td><td>4.078641e-06</td><td>2.619136e-05</td><td>chr18-25720000-26600000</td><td>GADI_153</td><td>+</td></tr>\n",
       "\t<tr><td>chr18</td><td>25710000</td><td>25730000</td><td>chr18</td><td>26610000</td><td>26630000</td><td>0710001A04Rik</td><td>-0.3695923</td><td>1.760498e-06</td><td>1.230309e-05</td><td>chr18-25720000-26620000</td><td>GADI_154</td><td>+</td></tr>\n",
       "\t<tr><td>chr18</td><td>25710000</td><td>25730000</td><td>chr18</td><td>26630000</td><td>26650000</td><td>0710001A04Rik</td><td>-0.3503289</td><td>6.408601e-06</td><td>3.928885e-05</td><td>chr18-25720000-26640000</td><td>GADI_155</td><td>+</td></tr>\n",
       "\t<tr><td>chr18</td><td>25710000</td><td>25730000</td><td>chr18</td><td>26650000</td><td>26670000</td><td>0710001A04Rik</td><td>-0.3365655</td><td>1.533684e-05</td><td>8.580358e-05</td><td>chr18-25720000-26660000</td><td>GADI_156</td><td>+</td></tr>\n",
       "\t<tr><td>chr18</td><td>25710000</td><td>25730000</td><td>chr18</td><td>26670000</td><td>26690000</td><td>0710001A04Rik</td><td>-0.3175555</td><td>4.789704e-05</td><td>2.374604e-04</td><td>chr18-25720000-26680000</td><td>GADI_157</td><td>+</td></tr>\n",
       "\t<tr><td>chr18</td><td>25710000</td><td>25730000</td><td>chr18</td><td>26690000</td><td>26710000</td><td>0710001A04Rik</td><td>-0.3171508</td><td>4.903229e-05</td><td>2.424460e-04</td><td>chr18-25720000-26700000</td><td>GADI_158</td><td>+</td></tr>\n",
       "\t<tr><td>chr18</td><td>25710000</td><td>25730000</td><td>chr18</td><td>26710000</td><td>26730000</td><td>0710001A04Rik</td><td>-0.3374520</td><td>1.451653e-05</td><td>8.168039e-05</td><td>chr18-25720000-26720000</td><td>GADI_159</td><td>+</td></tr>\n",
       "\t<tr><td>chr18</td><td>25710000</td><td>25730000</td><td>chr18</td><td>26730000</td><td>26750000</td><td>0710001A04Rik</td><td>-0.3556077</td><td>4.535384e-06</td><td>2.880872e-05</td><td>chr18-25720000-26740000</td><td>GADI_160</td><td>+</td></tr>\n",
       "\t<tr><td>chr18</td><td>25710000</td><td>25730000</td><td>chr18</td><td>26750000</td><td>26770000</td><td>0710001A04Rik</td><td>-0.3662835</td><td>2.211199e-06</td><td>1.509697e-05</td><td>chr18-25720000-26760000</td><td>GADI_161</td><td>+</td></tr>\n",
       "\t<tr><td>chr18</td><td>25710000</td><td>25730000</td><td>chr18</td><td>26770000</td><td>26790000</td><td>0710001A04Rik</td><td>-0.3557377</td><td>4.496569e-06</td><td>2.858613e-05</td><td>chr18-25720000-26780000</td><td>GADI_162</td><td>+</td></tr>\n",
       "\t<tr><td>chr18</td><td>25710000</td><td>25730000</td><td>chr18</td><td>26790000</td><td>26810000</td><td>0710001A04Rik</td><td>-0.3546468</td><td>4.832208e-06</td><td>3.049836e-05</td><td>chr18-25720000-26800000</td><td>GADI_163</td><td>+</td></tr>\n",
       "\t<tr><td>chr18</td><td>25710000</td><td>25730000</td><td>chr18</td><td>26810000</td><td>26830000</td><td>0710001A04Rik</td><td>-0.3462512</td><td>8.335130e-06</td><td>4.970393e-05</td><td>chr18-25720000-26820000</td><td>GADI_164</td><td>+</td></tr>\n",
       "\t<tr><td>chr18</td><td>25710000</td><td>25730000</td><td>chr18</td><td>26830000</td><td>26850000</td><td>0710001A04Rik</td><td>-0.3381261</td><td>1.392069e-05</td><td>7.867907e-05</td><td>chr18-25720000-26840000</td><td>GADI_165</td><td>+</td></tr>\n",
       "\t<tr><td>⋮</td><td>⋮</td><td>⋮</td><td>⋮</td><td>⋮</td><td>⋮</td><td>⋮</td><td>⋮</td><td>⋮</td><td>⋮</td><td>⋮</td><td>⋮</td><td>⋮</td></tr>\n",
       "\t<tr><td>chr9</td><td> 90150000</td><td> 90170000</td><td>chr9</td><td> 91350000</td><td> 91370000</td><td>Zic4  </td><td>-0.3613131</td><td>3.099415e-06</td><td>2.046624e-05</td><td>chr9-90160000-91360000  </td><td>GADI_389070</td><td>+</td></tr>\n",
       "\t<tr><td>chr9</td><td> 90170000</td><td> 90190000</td><td>chr9</td><td> 91350000</td><td> 91370000</td><td>Zic4  </td><td>-0.3831903</td><td>6.716151e-07</td><td>5.170331e-06</td><td>chr9-90180000-91360000  </td><td>GADI_389078</td><td>+</td></tr>\n",
       "\t<tr><td>chr9</td><td> 90190000</td><td> 90210000</td><td>chr9</td><td> 91350000</td><td> 91370000</td><td>Zic4  </td><td>-0.3921257</td><td>3.480519e-07</td><td>2.860107e-06</td><td>chr9-90200000-91360000  </td><td>GADI_389091</td><td>+</td></tr>\n",
       "\t<tr><td>chr9</td><td> 90210000</td><td> 90230000</td><td>chr9</td><td> 91350000</td><td> 91370000</td><td>Zic4  </td><td>-0.3921433</td><td>3.475957e-07</td><td>2.856698e-06</td><td>chr9-90220000-91360000  </td><td>GADI_389104</td><td>+</td></tr>\n",
       "\t<tr><td>chr9</td><td> 90230000</td><td> 90250000</td><td>chr9</td><td> 91350000</td><td> 91370000</td><td>Zic4  </td><td>-0.4067170</td><td>1.140327e-07</td><td>1.046524e-06</td><td>chr9-90240000-91360000  </td><td>GADI_389121</td><td>+</td></tr>\n",
       "\t<tr><td>chr9</td><td> 90250000</td><td> 90270000</td><td>chr9</td><td> 91350000</td><td> 91370000</td><td>Zic4  </td><td>-0.4076322</td><td>1.061331e-07</td><td>9.810021e-07</td><td>chr9-90260000-91360000  </td><td>GADI_389146</td><td>+</td></tr>\n",
       "\t<tr><td>chr9</td><td> 90270000</td><td> 90290000</td><td>chr9</td><td> 91350000</td><td> 91370000</td><td>Zic4  </td><td>-0.4335639</td><td>1.266979e-08</td><td>1.440765e-07</td><td>chr9-90280000-91360000  </td><td>GADI_389168</td><td>+</td></tr>\n",
       "\t<tr><td>chr9</td><td> 90450000</td><td> 90470000</td><td>chr9</td><td> 91350000</td><td> 91370000</td><td>Zic4  </td><td>-0.3506527</td><td>6.275234e-06</td><td>3.855374e-05</td><td>chr9-90460000-91360000  </td><td>GADI_389223</td><td>+</td></tr>\n",
       "\t<tr><td>chr9</td><td> 90650000</td><td> 90670000</td><td>chr9</td><td> 91350000</td><td> 91370000</td><td>Zic4  </td><td>-0.3524448</td><td>5.583436e-06</td><td>3.472912e-05</td><td>chr9-90660000-91360000  </td><td>GADI_389238</td><td>+</td></tr>\n",
       "\t<tr><td>chr9</td><td> 90670000</td><td> 90690000</td><td>chr9</td><td> 91350000</td><td> 91370000</td><td>Zic4  </td><td>-0.3627670</td><td>2.809558e-06</td><td>1.873201e-05</td><td>chr9-90680000-91360000  </td><td>GADI_389242</td><td>+</td></tr>\n",
       "\t<tr><td>chr9</td><td> 90690000</td><td> 90710000</td><td>chr9</td><td> 91350000</td><td> 91370000</td><td>Zic4  </td><td>-0.3479284</td><td>7.484357e-06</td><td>4.514101e-05</td><td>chr9-90700000-91360000  </td><td>GADI_389254</td><td>+</td></tr>\n",
       "\t<tr><td>chr9</td><td> 90710000</td><td> 90730000</td><td>chr9</td><td> 91350000</td><td> 91370000</td><td>Zic4  </td><td>-0.3432187</td><td>1.011059e-05</td><td>5.907920e-05</td><td>chr9-90720000-91360000  </td><td>GADI_389262</td><td>+</td></tr>\n",
       "\t<tr><td>chr9</td><td> 90730000</td><td> 90750000</td><td>chr9</td><td> 91350000</td><td> 91370000</td><td>Zic4  </td><td>-0.3110880</td><td>6.936869e-05</td><td>3.299434e-04</td><td>chr9-90740000-91360000  </td><td>GADI_389268</td><td>+</td></tr>\n",
       "\t<tr><td>chr9</td><td> 90750000</td><td> 90770000</td><td>chr9</td><td> 91350000</td><td> 91370000</td><td>Zic4  </td><td>-0.2866512</td><td>2.607419e-04</td><td>1.068613e-03</td><td>chr9-90760000-91360000  </td><td>GADI_389271</td><td>+</td></tr>\n",
       "\t<tr><td>chr9</td><td> 90770000</td><td> 90790000</td><td>chr9</td><td> 91350000</td><td> 91370000</td><td>Zic4  </td><td>-0.2911404</td><td>2.062431e-04</td><td>8.684066e-04</td><td>chr9-90780000-91360000  </td><td>GADI_389273</td><td>+</td></tr>\n",
       "\t<tr><td>chr9</td><td> 90790000</td><td> 90810000</td><td>chr9</td><td> 91350000</td><td> 91370000</td><td>Zic4  </td><td>-0.3335007</td><td>1.852276e-05</td><td>1.016715e-04</td><td>chr9-90800000-91360000  </td><td>GADI_389275</td><td>+</td></tr>\n",
       "\t<tr><td>chr9</td><td> 90810000</td><td> 90830000</td><td>chr9</td><td> 91350000</td><td> 91370000</td><td>Zic4  </td><td>-0.3731436</td><td>1.374548e-06</td><td>9.849832e-06</td><td>chr9-90820000-91360000  </td><td>GADI_389277</td><td>+</td></tr>\n",
       "\t<tr><td>chr9</td><td> 90830000</td><td> 90850000</td><td>chr9</td><td> 91350000</td><td> 91370000</td><td>Zic4  </td><td>-0.3836229</td><td>6.508705e-07</td><td>5.027339e-06</td><td>chr9-90840000-91360000  </td><td>GADI_389280</td><td>+</td></tr>\n",
       "\t<tr><td>chr9</td><td> 90850000</td><td> 90870000</td><td>chr9</td><td> 91350000</td><td> 91370000</td><td>Zic4  </td><td>-0.3648335</td><td>2.441552e-06</td><td>1.651334e-05</td><td>chr9-90860000-91360000  </td><td>GADI_389283</td><td>+</td></tr>\n",
       "\t<tr><td>chr9</td><td> 90870000</td><td> 90890000</td><td>chr9</td><td> 91350000</td><td> 91370000</td><td>Zic4  </td><td>-0.3371556</td><td>1.478605e-05</td><td>8.304411e-05</td><td>chr9-90880000-91360000  </td><td>GADI_389285</td><td>+</td></tr>\n",
       "\t<tr><td>chr9</td><td> 91070000</td><td> 91090000</td><td>chr9</td><td> 91350000</td><td> 91370000</td><td>Zic4  </td><td>-0.2919296</td><td>1.978346e-04</td><td>8.368648e-04</td><td>chr9-91080000-91360000  </td><td>GADI_389286</td><td>+</td></tr>\n",
       "\t<tr><td>chr9</td><td> 91110000</td><td> 91130000</td><td>chr9</td><td> 91350000</td><td> 91370000</td><td>Zic4  </td><td>-0.2764706</td><td>4.374735e-04</td><td>1.687380e-03</td><td>chr9-91120000-91360000  </td><td>GADI_389287</td><td>+</td></tr>\n",
       "\t<tr><td>chr9</td><td> 91150000</td><td> 91170000</td><td>chr9</td><td> 91350000</td><td> 91370000</td><td>Zic4  </td><td>-0.2614070</td><td>9.078634e-04</td><td>3.211445e-03</td><td>chr9-91160000-91360000  </td><td>GADI_389289</td><td>+</td></tr>\n",
       "\t<tr><td>chr9</td><td> 91170000</td><td> 91190000</td><td>chr9</td><td> 91350000</td><td> 91370000</td><td>Zic4  </td><td>-0.2813169</td><td>3.427946e-04</td><td>1.360805e-03</td><td>chr9-91180000-91360000  </td><td>GADI_389292</td><td>+</td></tr>\n",
       "\t<tr><td>chr9</td><td> 91350000</td><td> 91370000</td><td>chr9</td><td> 91570000</td><td> 91590000</td><td>Zic4  </td><td>-0.3079869</td><td>8.260140e-05</td><td>3.854055e-04</td><td>chr9-91360000-91580000  </td><td>GADI_389301</td><td>+</td></tr>\n",
       "\t<tr><td>chr9</td><td> 91350000</td><td> 91370000</td><td>chr9</td><td> 92110000</td><td> 92130000</td><td>Zic4  </td><td>-0.3515609</td><td>5.915094e-06</td><td>3.656220e-05</td><td>chr9-91360000-92120000  </td><td>GADI_389302</td><td>+</td></tr>\n",
       "\t<tr><td>chr4</td><td>116490000</td><td>116510000</td><td>chr4</td><td>116870000</td><td>116890000</td><td>Zswim5</td><td>-0.2378782</td><td>2.615360e-03</td><td>8.092558e-03</td><td>chr4-116500000-116880000</td><td>GADI_390029</td><td>+</td></tr>\n",
       "\t<tr><td>chr4</td><td>116870000</td><td>116890000</td><td>chr4</td><td>117130000</td><td>117150000</td><td>Zswim5</td><td>-0.2471292</td><td>1.745670e-03</td><td>5.693075e-03</td><td>chr4-116880000-117140000</td><td>GADI_390231</td><td>+</td></tr>\n",
       "\t<tr><td>chr4</td><td>116870000</td><td>116890000</td><td>chr4</td><td>117150000</td><td>117170000</td><td>Zswim5</td><td>-0.2612320</td><td>9.153720e-04</td><td>3.234742e-03</td><td>chr4-116880000-117160000</td><td>GADI_390232</td><td>+</td></tr>\n",
       "\t<tr><td>chr4</td><td>116870000</td><td>116890000</td><td>chr4</td><td>117170000</td><td>117190000</td><td>Zswim5</td><td>-0.2385164</td><td>2.544658e-03</td><td>7.902474e-03</td><td>chr4-116880000-117180000</td><td>GADI_390233</td><td>+</td></tr>\n",
       "</tbody>\n",
       "</table>\n"
      ],
      "text/latex": [
       "A spec\\_tbl\\_df: 9640 × 13\n",
       "\\begin{tabular}{lllllllllllll}\n",
       " chrom1 & start1 & end1 & chrom2 & start2 & end2 & name & cor & pv & fdr\\_cor & pos & GADI\\_id & strand\\\\\n",
       " <chr> & <dbl> & <dbl> & <chr> & <dbl> & <dbl> & <chr> & <dbl> & <dbl> & <dbl> & <chr> & <chr> & <chr>\\\\\n",
       "\\hline\n",
       "\t chr5  & 63810000 & 63830000 & chr5  & 64050000 & 64070000 & 0610040J01Rik & -0.2469617 & 1.758733e-03 & 5.730030e-03 & chr5-63820000-64060000  & GADI\\_21  & +\\\\\n",
       "\t chr18 & 25710000 & 25730000 & chr18 & 26010000 & 26030000 & 0710001A04Rik & -0.2864506 & 2.634653e-04 & 1.078454e-03 & chr18-25720000-26020000 & GADI\\_137 & +\\\\\n",
       "\t chr18 & 25710000 & 25730000 & chr18 & 26050000 & 26070000 & 0710001A04Rik & -0.2757174 & 4.541918e-04 & 1.744338e-03 & chr18-25720000-26060000 & GADI\\_138 & +\\\\\n",
       "\t chr18 & 25710000 & 25730000 & chr18 & 26070000 & 26090000 & 0710001A04Rik & -0.2732783 & 5.124731e-04 & 1.940197e-03 & chr18-25720000-26080000 & GADI\\_139 & +\\\\\n",
       "\t chr18 & 25710000 & 25730000 & chr18 & 26210000 & 26230000 & 0710001A04Rik & -0.3057207 & 9.372721e-05 & 4.312978e-04 & chr18-25720000-26220000 & GADI\\_140 & +\\\\\n",
       "\t chr18 & 25710000 & 25730000 & chr18 & 26230000 & 26250000 & 0710001A04Rik & -0.2959509 & 1.597259e-04 & 6.923164e-04 & chr18-25720000-26240000 & GADI\\_141 & +\\\\\n",
       "\t chr18 & 25710000 & 25730000 & chr18 & 26310000 & 26330000 & 0710001A04Rik & -0.3227249 & 3.540497e-05 & 1.813149e-04 & chr18-25720000-26320000 & GADI\\_142 & +\\\\\n",
       "\t chr18 & 25710000 & 25730000 & chr18 & 26330000 & 26350000 & 0710001A04Rik & -0.3192596 & 4.338182e-05 & 2.173536e-04 & chr18-25720000-26340000 & GADI\\_143 & +\\\\\n",
       "\t chr18 & 25710000 & 25730000 & chr18 & 26350000 & 26370000 & 0710001A04Rik & -0.2984798 & 1.393911e-04 & 6.135350e-04 & chr18-25720000-26360000 & GADI\\_144 & +\\\\\n",
       "\t chr18 & 25710000 & 25730000 & chr18 & 26370000 & 26390000 & 0710001A04Rik & -0.3069913 & 8.732732e-05 & 4.050023e-04 & chr18-25720000-26380000 & GADI\\_145 & +\\\\\n",
       "\t chr18 & 25710000 & 25730000 & chr18 & 26390000 & 26410000 & 0710001A04Rik & -0.3111115 & 6.927648e-05 & 3.295689e-04 & chr18-25720000-26400000 & GADI\\_146 & +\\\\\n",
       "\t chr18 & 25710000 & 25730000 & chr18 & 26410000 & 26430000 & 0710001A04Rik & -0.3165267 & 5.083283e-05 & 2.503708e-04 & chr18-25720000-26420000 & GADI\\_147 & +\\\\\n",
       "\t chr18 & 25710000 & 25730000 & chr18 & 26430000 & 26450000 & 0710001A04Rik & -0.3175304 & 4.796675e-05 & 2.377548e-04 & chr18-25720000-26440000 & GADI\\_148 & +\\\\\n",
       "\t chr18 & 25710000 & 25730000 & chr18 & 26510000 & 26530000 & 0710001A04Rik & -0.3585106 & 3.740168e-06 & 2.422671e-05 & chr18-25720000-26520000 & GADI\\_149 & +\\\\\n",
       "\t chr18 & 25710000 & 25730000 & chr18 & 26530000 & 26550000 & 0710001A04Rik & -0.3872479 & 4.994918e-07 & 3.961167e-06 & chr18-25720000-26540000 & GADI\\_150 & +\\\\\n",
       "\t chr18 & 25710000 & 25730000 & chr18 & 26550000 & 26570000 & 0710001A04Rik & -0.3909532 & 3.798268e-07 & 3.094778e-06 & chr18-25720000-26560000 & GADI\\_151 & +\\\\\n",
       "\t chr18 & 25710000 & 25730000 & chr18 & 26570000 & 26590000 & 0710001A04Rik & -0.3819455 & 7.348936e-07 & 5.606430e-06 & chr18-25720000-26580000 & GADI\\_152 & +\\\\\n",
       "\t chr18 & 25710000 & 25730000 & chr18 & 26590000 & 26610000 & 0710001A04Rik & -0.3572096 & 4.078641e-06 & 2.619136e-05 & chr18-25720000-26600000 & GADI\\_153 & +\\\\\n",
       "\t chr18 & 25710000 & 25730000 & chr18 & 26610000 & 26630000 & 0710001A04Rik & -0.3695923 & 1.760498e-06 & 1.230309e-05 & chr18-25720000-26620000 & GADI\\_154 & +\\\\\n",
       "\t chr18 & 25710000 & 25730000 & chr18 & 26630000 & 26650000 & 0710001A04Rik & -0.3503289 & 6.408601e-06 & 3.928885e-05 & chr18-25720000-26640000 & GADI\\_155 & +\\\\\n",
       "\t chr18 & 25710000 & 25730000 & chr18 & 26650000 & 26670000 & 0710001A04Rik & -0.3365655 & 1.533684e-05 & 8.580358e-05 & chr18-25720000-26660000 & GADI\\_156 & +\\\\\n",
       "\t chr18 & 25710000 & 25730000 & chr18 & 26670000 & 26690000 & 0710001A04Rik & -0.3175555 & 4.789704e-05 & 2.374604e-04 & chr18-25720000-26680000 & GADI\\_157 & +\\\\\n",
       "\t chr18 & 25710000 & 25730000 & chr18 & 26690000 & 26710000 & 0710001A04Rik & -0.3171508 & 4.903229e-05 & 2.424460e-04 & chr18-25720000-26700000 & GADI\\_158 & +\\\\\n",
       "\t chr18 & 25710000 & 25730000 & chr18 & 26710000 & 26730000 & 0710001A04Rik & -0.3374520 & 1.451653e-05 & 8.168039e-05 & chr18-25720000-26720000 & GADI\\_159 & +\\\\\n",
       "\t chr18 & 25710000 & 25730000 & chr18 & 26730000 & 26750000 & 0710001A04Rik & -0.3556077 & 4.535384e-06 & 2.880872e-05 & chr18-25720000-26740000 & GADI\\_160 & +\\\\\n",
       "\t chr18 & 25710000 & 25730000 & chr18 & 26750000 & 26770000 & 0710001A04Rik & -0.3662835 & 2.211199e-06 & 1.509697e-05 & chr18-25720000-26760000 & GADI\\_161 & +\\\\\n",
       "\t chr18 & 25710000 & 25730000 & chr18 & 26770000 & 26790000 & 0710001A04Rik & -0.3557377 & 4.496569e-06 & 2.858613e-05 & chr18-25720000-26780000 & GADI\\_162 & +\\\\\n",
       "\t chr18 & 25710000 & 25730000 & chr18 & 26790000 & 26810000 & 0710001A04Rik & -0.3546468 & 4.832208e-06 & 3.049836e-05 & chr18-25720000-26800000 & GADI\\_163 & +\\\\\n",
       "\t chr18 & 25710000 & 25730000 & chr18 & 26810000 & 26830000 & 0710001A04Rik & -0.3462512 & 8.335130e-06 & 4.970393e-05 & chr18-25720000-26820000 & GADI\\_164 & +\\\\\n",
       "\t chr18 & 25710000 & 25730000 & chr18 & 26830000 & 26850000 & 0710001A04Rik & -0.3381261 & 1.392069e-05 & 7.867907e-05 & chr18-25720000-26840000 & GADI\\_165 & +\\\\\n",
       "\t ⋮ & ⋮ & ⋮ & ⋮ & ⋮ & ⋮ & ⋮ & ⋮ & ⋮ & ⋮ & ⋮ & ⋮ & ⋮\\\\\n",
       "\t chr9 &  90150000 &  90170000 & chr9 &  91350000 &  91370000 & Zic4   & -0.3613131 & 3.099415e-06 & 2.046624e-05 & chr9-90160000-91360000   & GADI\\_389070 & +\\\\\n",
       "\t chr9 &  90170000 &  90190000 & chr9 &  91350000 &  91370000 & Zic4   & -0.3831903 & 6.716151e-07 & 5.170331e-06 & chr9-90180000-91360000   & GADI\\_389078 & +\\\\\n",
       "\t chr9 &  90190000 &  90210000 & chr9 &  91350000 &  91370000 & Zic4   & -0.3921257 & 3.480519e-07 & 2.860107e-06 & chr9-90200000-91360000   & GADI\\_389091 & +\\\\\n",
       "\t chr9 &  90210000 &  90230000 & chr9 &  91350000 &  91370000 & Zic4   & -0.3921433 & 3.475957e-07 & 2.856698e-06 & chr9-90220000-91360000   & GADI\\_389104 & +\\\\\n",
       "\t chr9 &  90230000 &  90250000 & chr9 &  91350000 &  91370000 & Zic4   & -0.4067170 & 1.140327e-07 & 1.046524e-06 & chr9-90240000-91360000   & GADI\\_389121 & +\\\\\n",
       "\t chr9 &  90250000 &  90270000 & chr9 &  91350000 &  91370000 & Zic4   & -0.4076322 & 1.061331e-07 & 9.810021e-07 & chr9-90260000-91360000   & GADI\\_389146 & +\\\\\n",
       "\t chr9 &  90270000 &  90290000 & chr9 &  91350000 &  91370000 & Zic4   & -0.4335639 & 1.266979e-08 & 1.440765e-07 & chr9-90280000-91360000   & GADI\\_389168 & +\\\\\n",
       "\t chr9 &  90450000 &  90470000 & chr9 &  91350000 &  91370000 & Zic4   & -0.3506527 & 6.275234e-06 & 3.855374e-05 & chr9-90460000-91360000   & GADI\\_389223 & +\\\\\n",
       "\t chr9 &  90650000 &  90670000 & chr9 &  91350000 &  91370000 & Zic4   & -0.3524448 & 5.583436e-06 & 3.472912e-05 & chr9-90660000-91360000   & GADI\\_389238 & +\\\\\n",
       "\t chr9 &  90670000 &  90690000 & chr9 &  91350000 &  91370000 & Zic4   & -0.3627670 & 2.809558e-06 & 1.873201e-05 & chr9-90680000-91360000   & GADI\\_389242 & +\\\\\n",
       "\t chr9 &  90690000 &  90710000 & chr9 &  91350000 &  91370000 & Zic4   & -0.3479284 & 7.484357e-06 & 4.514101e-05 & chr9-90700000-91360000   & GADI\\_389254 & +\\\\\n",
       "\t chr9 &  90710000 &  90730000 & chr9 &  91350000 &  91370000 & Zic4   & -0.3432187 & 1.011059e-05 & 5.907920e-05 & chr9-90720000-91360000   & GADI\\_389262 & +\\\\\n",
       "\t chr9 &  90730000 &  90750000 & chr9 &  91350000 &  91370000 & Zic4   & -0.3110880 & 6.936869e-05 & 3.299434e-04 & chr9-90740000-91360000   & GADI\\_389268 & +\\\\\n",
       "\t chr9 &  90750000 &  90770000 & chr9 &  91350000 &  91370000 & Zic4   & -0.2866512 & 2.607419e-04 & 1.068613e-03 & chr9-90760000-91360000   & GADI\\_389271 & +\\\\\n",
       "\t chr9 &  90770000 &  90790000 & chr9 &  91350000 &  91370000 & Zic4   & -0.2911404 & 2.062431e-04 & 8.684066e-04 & chr9-90780000-91360000   & GADI\\_389273 & +\\\\\n",
       "\t chr9 &  90790000 &  90810000 & chr9 &  91350000 &  91370000 & Zic4   & -0.3335007 & 1.852276e-05 & 1.016715e-04 & chr9-90800000-91360000   & GADI\\_389275 & +\\\\\n",
       "\t chr9 &  90810000 &  90830000 & chr9 &  91350000 &  91370000 & Zic4   & -0.3731436 & 1.374548e-06 & 9.849832e-06 & chr9-90820000-91360000   & GADI\\_389277 & +\\\\\n",
       "\t chr9 &  90830000 &  90850000 & chr9 &  91350000 &  91370000 & Zic4   & -0.3836229 & 6.508705e-07 & 5.027339e-06 & chr9-90840000-91360000   & GADI\\_389280 & +\\\\\n",
       "\t chr9 &  90850000 &  90870000 & chr9 &  91350000 &  91370000 & Zic4   & -0.3648335 & 2.441552e-06 & 1.651334e-05 & chr9-90860000-91360000   & GADI\\_389283 & +\\\\\n",
       "\t chr9 &  90870000 &  90890000 & chr9 &  91350000 &  91370000 & Zic4   & -0.3371556 & 1.478605e-05 & 8.304411e-05 & chr9-90880000-91360000   & GADI\\_389285 & +\\\\\n",
       "\t chr9 &  91070000 &  91090000 & chr9 &  91350000 &  91370000 & Zic4   & -0.2919296 & 1.978346e-04 & 8.368648e-04 & chr9-91080000-91360000   & GADI\\_389286 & +\\\\\n",
       "\t chr9 &  91110000 &  91130000 & chr9 &  91350000 &  91370000 & Zic4   & -0.2764706 & 4.374735e-04 & 1.687380e-03 & chr9-91120000-91360000   & GADI\\_389287 & +\\\\\n",
       "\t chr9 &  91150000 &  91170000 & chr9 &  91350000 &  91370000 & Zic4   & -0.2614070 & 9.078634e-04 & 3.211445e-03 & chr9-91160000-91360000   & GADI\\_389289 & +\\\\\n",
       "\t chr9 &  91170000 &  91190000 & chr9 &  91350000 &  91370000 & Zic4   & -0.2813169 & 3.427946e-04 & 1.360805e-03 & chr9-91180000-91360000   & GADI\\_389292 & +\\\\\n",
       "\t chr9 &  91350000 &  91370000 & chr9 &  91570000 &  91590000 & Zic4   & -0.3079869 & 8.260140e-05 & 3.854055e-04 & chr9-91360000-91580000   & GADI\\_389301 & +\\\\\n",
       "\t chr9 &  91350000 &  91370000 & chr9 &  92110000 &  92130000 & Zic4   & -0.3515609 & 5.915094e-06 & 3.656220e-05 & chr9-91360000-92120000   & GADI\\_389302 & +\\\\\n",
       "\t chr4 & 116490000 & 116510000 & chr4 & 116870000 & 116890000 & Zswim5 & -0.2378782 & 2.615360e-03 & 8.092558e-03 & chr4-116500000-116880000 & GADI\\_390029 & +\\\\\n",
       "\t chr4 & 116870000 & 116890000 & chr4 & 117130000 & 117150000 & Zswim5 & -0.2471292 & 1.745670e-03 & 5.693075e-03 & chr4-116880000-117140000 & GADI\\_390231 & +\\\\\n",
       "\t chr4 & 116870000 & 116890000 & chr4 & 117150000 & 117170000 & Zswim5 & -0.2612320 & 9.153720e-04 & 3.234742e-03 & chr4-116880000-117160000 & GADI\\_390232 & +\\\\\n",
       "\t chr4 & 116870000 & 116890000 & chr4 & 117170000 & 117190000 & Zswim5 & -0.2385164 & 2.544658e-03 & 7.902474e-03 & chr4-116880000-117180000 & GADI\\_390233 & +\\\\\n",
       "\\end{tabular}\n"
      ],
      "text/markdown": [
       "\n",
       "A spec_tbl_df: 9640 × 13\n",
       "\n",
       "| chrom1 &lt;chr&gt; | start1 &lt;dbl&gt; | end1 &lt;dbl&gt; | chrom2 &lt;chr&gt; | start2 &lt;dbl&gt; | end2 &lt;dbl&gt; | name &lt;chr&gt; | cor &lt;dbl&gt; | pv &lt;dbl&gt; | fdr_cor &lt;dbl&gt; | pos &lt;chr&gt; | GADI_id &lt;chr&gt; | strand &lt;chr&gt; |\n",
       "|---|---|---|---|---|---|---|---|---|---|---|---|---|\n",
       "| chr5  | 63810000 | 63830000 | chr5  | 64050000 | 64070000 | 0610040J01Rik | -0.2469617 | 1.758733e-03 | 5.730030e-03 | chr5-63820000-64060000  | GADI_21  | + |\n",
       "| chr18 | 25710000 | 25730000 | chr18 | 26010000 | 26030000 | 0710001A04Rik | -0.2864506 | 2.634653e-04 | 1.078454e-03 | chr18-25720000-26020000 | GADI_137 | + |\n",
       "| chr18 | 25710000 | 25730000 | chr18 | 26050000 | 26070000 | 0710001A04Rik | -0.2757174 | 4.541918e-04 | 1.744338e-03 | chr18-25720000-26060000 | GADI_138 | + |\n",
       "| chr18 | 25710000 | 25730000 | chr18 | 26070000 | 26090000 | 0710001A04Rik | -0.2732783 | 5.124731e-04 | 1.940197e-03 | chr18-25720000-26080000 | GADI_139 | + |\n",
       "| chr18 | 25710000 | 25730000 | chr18 | 26210000 | 26230000 | 0710001A04Rik | -0.3057207 | 9.372721e-05 | 4.312978e-04 | chr18-25720000-26220000 | GADI_140 | + |\n",
       "| chr18 | 25710000 | 25730000 | chr18 | 26230000 | 26250000 | 0710001A04Rik | -0.2959509 | 1.597259e-04 | 6.923164e-04 | chr18-25720000-26240000 | GADI_141 | + |\n",
       "| chr18 | 25710000 | 25730000 | chr18 | 26310000 | 26330000 | 0710001A04Rik | -0.3227249 | 3.540497e-05 | 1.813149e-04 | chr18-25720000-26320000 | GADI_142 | + |\n",
       "| chr18 | 25710000 | 25730000 | chr18 | 26330000 | 26350000 | 0710001A04Rik | -0.3192596 | 4.338182e-05 | 2.173536e-04 | chr18-25720000-26340000 | GADI_143 | + |\n",
       "| chr18 | 25710000 | 25730000 | chr18 | 26350000 | 26370000 | 0710001A04Rik | -0.2984798 | 1.393911e-04 | 6.135350e-04 | chr18-25720000-26360000 | GADI_144 | + |\n",
       "| chr18 | 25710000 | 25730000 | chr18 | 26370000 | 26390000 | 0710001A04Rik | -0.3069913 | 8.732732e-05 | 4.050023e-04 | chr18-25720000-26380000 | GADI_145 | + |\n",
       "| chr18 | 25710000 | 25730000 | chr18 | 26390000 | 26410000 | 0710001A04Rik | -0.3111115 | 6.927648e-05 | 3.295689e-04 | chr18-25720000-26400000 | GADI_146 | + |\n",
       "| chr18 | 25710000 | 25730000 | chr18 | 26410000 | 26430000 | 0710001A04Rik | -0.3165267 | 5.083283e-05 | 2.503708e-04 | chr18-25720000-26420000 | GADI_147 | + |\n",
       "| chr18 | 25710000 | 25730000 | chr18 | 26430000 | 26450000 | 0710001A04Rik | -0.3175304 | 4.796675e-05 | 2.377548e-04 | chr18-25720000-26440000 | GADI_148 | + |\n",
       "| chr18 | 25710000 | 25730000 | chr18 | 26510000 | 26530000 | 0710001A04Rik | -0.3585106 | 3.740168e-06 | 2.422671e-05 | chr18-25720000-26520000 | GADI_149 | + |\n",
       "| chr18 | 25710000 | 25730000 | chr18 | 26530000 | 26550000 | 0710001A04Rik | -0.3872479 | 4.994918e-07 | 3.961167e-06 | chr18-25720000-26540000 | GADI_150 | + |\n",
       "| chr18 | 25710000 | 25730000 | chr18 | 26550000 | 26570000 | 0710001A04Rik | -0.3909532 | 3.798268e-07 | 3.094778e-06 | chr18-25720000-26560000 | GADI_151 | + |\n",
       "| chr18 | 25710000 | 25730000 | chr18 | 26570000 | 26590000 | 0710001A04Rik | -0.3819455 | 7.348936e-07 | 5.606430e-06 | chr18-25720000-26580000 | GADI_152 | + |\n",
       "| chr18 | 25710000 | 25730000 | chr18 | 26590000 | 26610000 | 0710001A04Rik | -0.3572096 | 4.078641e-06 | 2.619136e-05 | chr18-25720000-26600000 | GADI_153 | + |\n",
       "| chr18 | 25710000 | 25730000 | chr18 | 26610000 | 26630000 | 0710001A04Rik | -0.3695923 | 1.760498e-06 | 1.230309e-05 | chr18-25720000-26620000 | GADI_154 | + |\n",
       "| chr18 | 25710000 | 25730000 | chr18 | 26630000 | 26650000 | 0710001A04Rik | -0.3503289 | 6.408601e-06 | 3.928885e-05 | chr18-25720000-26640000 | GADI_155 | + |\n",
       "| chr18 | 25710000 | 25730000 | chr18 | 26650000 | 26670000 | 0710001A04Rik | -0.3365655 | 1.533684e-05 | 8.580358e-05 | chr18-25720000-26660000 | GADI_156 | + |\n",
       "| chr18 | 25710000 | 25730000 | chr18 | 26670000 | 26690000 | 0710001A04Rik | -0.3175555 | 4.789704e-05 | 2.374604e-04 | chr18-25720000-26680000 | GADI_157 | + |\n",
       "| chr18 | 25710000 | 25730000 | chr18 | 26690000 | 26710000 | 0710001A04Rik | -0.3171508 | 4.903229e-05 | 2.424460e-04 | chr18-25720000-26700000 | GADI_158 | + |\n",
       "| chr18 | 25710000 | 25730000 | chr18 | 26710000 | 26730000 | 0710001A04Rik | -0.3374520 | 1.451653e-05 | 8.168039e-05 | chr18-25720000-26720000 | GADI_159 | + |\n",
       "| chr18 | 25710000 | 25730000 | chr18 | 26730000 | 26750000 | 0710001A04Rik | -0.3556077 | 4.535384e-06 | 2.880872e-05 | chr18-25720000-26740000 | GADI_160 | + |\n",
       "| chr18 | 25710000 | 25730000 | chr18 | 26750000 | 26770000 | 0710001A04Rik | -0.3662835 | 2.211199e-06 | 1.509697e-05 | chr18-25720000-26760000 | GADI_161 | + |\n",
       "| chr18 | 25710000 | 25730000 | chr18 | 26770000 | 26790000 | 0710001A04Rik | -0.3557377 | 4.496569e-06 | 2.858613e-05 | chr18-25720000-26780000 | GADI_162 | + |\n",
       "| chr18 | 25710000 | 25730000 | chr18 | 26790000 | 26810000 | 0710001A04Rik | -0.3546468 | 4.832208e-06 | 3.049836e-05 | chr18-25720000-26800000 | GADI_163 | + |\n",
       "| chr18 | 25710000 | 25730000 | chr18 | 26810000 | 26830000 | 0710001A04Rik | -0.3462512 | 8.335130e-06 | 4.970393e-05 | chr18-25720000-26820000 | GADI_164 | + |\n",
       "| chr18 | 25710000 | 25730000 | chr18 | 26830000 | 26850000 | 0710001A04Rik | -0.3381261 | 1.392069e-05 | 7.867907e-05 | chr18-25720000-26840000 | GADI_165 | + |\n",
       "| ⋮ | ⋮ | ⋮ | ⋮ | ⋮ | ⋮ | ⋮ | ⋮ | ⋮ | ⋮ | ⋮ | ⋮ | ⋮ |\n",
       "| chr9 |  90150000 |  90170000 | chr9 |  91350000 |  91370000 | Zic4   | -0.3613131 | 3.099415e-06 | 2.046624e-05 | chr9-90160000-91360000   | GADI_389070 | + |\n",
       "| chr9 |  90170000 |  90190000 | chr9 |  91350000 |  91370000 | Zic4   | -0.3831903 | 6.716151e-07 | 5.170331e-06 | chr9-90180000-91360000   | GADI_389078 | + |\n",
       "| chr9 |  90190000 |  90210000 | chr9 |  91350000 |  91370000 | Zic4   | -0.3921257 | 3.480519e-07 | 2.860107e-06 | chr9-90200000-91360000   | GADI_389091 | + |\n",
       "| chr9 |  90210000 |  90230000 | chr9 |  91350000 |  91370000 | Zic4   | -0.3921433 | 3.475957e-07 | 2.856698e-06 | chr9-90220000-91360000   | GADI_389104 | + |\n",
       "| chr9 |  90230000 |  90250000 | chr9 |  91350000 |  91370000 | Zic4   | -0.4067170 | 1.140327e-07 | 1.046524e-06 | chr9-90240000-91360000   | GADI_389121 | + |\n",
       "| chr9 |  90250000 |  90270000 | chr9 |  91350000 |  91370000 | Zic4   | -0.4076322 | 1.061331e-07 | 9.810021e-07 | chr9-90260000-91360000   | GADI_389146 | + |\n",
       "| chr9 |  90270000 |  90290000 | chr9 |  91350000 |  91370000 | Zic4   | -0.4335639 | 1.266979e-08 | 1.440765e-07 | chr9-90280000-91360000   | GADI_389168 | + |\n",
       "| chr9 |  90450000 |  90470000 | chr9 |  91350000 |  91370000 | Zic4   | -0.3506527 | 6.275234e-06 | 3.855374e-05 | chr9-90460000-91360000   | GADI_389223 | + |\n",
       "| chr9 |  90650000 |  90670000 | chr9 |  91350000 |  91370000 | Zic4   | -0.3524448 | 5.583436e-06 | 3.472912e-05 | chr9-90660000-91360000   | GADI_389238 | + |\n",
       "| chr9 |  90670000 |  90690000 | chr9 |  91350000 |  91370000 | Zic4   | -0.3627670 | 2.809558e-06 | 1.873201e-05 | chr9-90680000-91360000   | GADI_389242 | + |\n",
       "| chr9 |  90690000 |  90710000 | chr9 |  91350000 |  91370000 | Zic4   | -0.3479284 | 7.484357e-06 | 4.514101e-05 | chr9-90700000-91360000   | GADI_389254 | + |\n",
       "| chr9 |  90710000 |  90730000 | chr9 |  91350000 |  91370000 | Zic4   | -0.3432187 | 1.011059e-05 | 5.907920e-05 | chr9-90720000-91360000   | GADI_389262 | + |\n",
       "| chr9 |  90730000 |  90750000 | chr9 |  91350000 |  91370000 | Zic4   | -0.3110880 | 6.936869e-05 | 3.299434e-04 | chr9-90740000-91360000   | GADI_389268 | + |\n",
       "| chr9 |  90750000 |  90770000 | chr9 |  91350000 |  91370000 | Zic4   | -0.2866512 | 2.607419e-04 | 1.068613e-03 | chr9-90760000-91360000   | GADI_389271 | + |\n",
       "| chr9 |  90770000 |  90790000 | chr9 |  91350000 |  91370000 | Zic4   | -0.2911404 | 2.062431e-04 | 8.684066e-04 | chr9-90780000-91360000   | GADI_389273 | + |\n",
       "| chr9 |  90790000 |  90810000 | chr9 |  91350000 |  91370000 | Zic4   | -0.3335007 | 1.852276e-05 | 1.016715e-04 | chr9-90800000-91360000   | GADI_389275 | + |\n",
       "| chr9 |  90810000 |  90830000 | chr9 |  91350000 |  91370000 | Zic4   | -0.3731436 | 1.374548e-06 | 9.849832e-06 | chr9-90820000-91360000   | GADI_389277 | + |\n",
       "| chr9 |  90830000 |  90850000 | chr9 |  91350000 |  91370000 | Zic4   | -0.3836229 | 6.508705e-07 | 5.027339e-06 | chr9-90840000-91360000   | GADI_389280 | + |\n",
       "| chr9 |  90850000 |  90870000 | chr9 |  91350000 |  91370000 | Zic4   | -0.3648335 | 2.441552e-06 | 1.651334e-05 | chr9-90860000-91360000   | GADI_389283 | + |\n",
       "| chr9 |  90870000 |  90890000 | chr9 |  91350000 |  91370000 | Zic4   | -0.3371556 | 1.478605e-05 | 8.304411e-05 | chr9-90880000-91360000   | GADI_389285 | + |\n",
       "| chr9 |  91070000 |  91090000 | chr9 |  91350000 |  91370000 | Zic4   | -0.2919296 | 1.978346e-04 | 8.368648e-04 | chr9-91080000-91360000   | GADI_389286 | + |\n",
       "| chr9 |  91110000 |  91130000 | chr9 |  91350000 |  91370000 | Zic4   | -0.2764706 | 4.374735e-04 | 1.687380e-03 | chr9-91120000-91360000   | GADI_389287 | + |\n",
       "| chr9 |  91150000 |  91170000 | chr9 |  91350000 |  91370000 | Zic4   | -0.2614070 | 9.078634e-04 | 3.211445e-03 | chr9-91160000-91360000   | GADI_389289 | + |\n",
       "| chr9 |  91170000 |  91190000 | chr9 |  91350000 |  91370000 | Zic4   | -0.2813169 | 3.427946e-04 | 1.360805e-03 | chr9-91180000-91360000   | GADI_389292 | + |\n",
       "| chr9 |  91350000 |  91370000 | chr9 |  91570000 |  91590000 | Zic4   | -0.3079869 | 8.260140e-05 | 3.854055e-04 | chr9-91360000-91580000   | GADI_389301 | + |\n",
       "| chr9 |  91350000 |  91370000 | chr9 |  92110000 |  92130000 | Zic4   | -0.3515609 | 5.915094e-06 | 3.656220e-05 | chr9-91360000-92120000   | GADI_389302 | + |\n",
       "| chr4 | 116490000 | 116510000 | chr4 | 116870000 | 116890000 | Zswim5 | -0.2378782 | 2.615360e-03 | 8.092558e-03 | chr4-116500000-116880000 | GADI_390029 | + |\n",
       "| chr4 | 116870000 | 116890000 | chr4 | 117130000 | 117150000 | Zswim5 | -0.2471292 | 1.745670e-03 | 5.693075e-03 | chr4-116880000-117140000 | GADI_390231 | + |\n",
       "| chr4 | 116870000 | 116890000 | chr4 | 117150000 | 117170000 | Zswim5 | -0.2612320 | 9.153720e-04 | 3.234742e-03 | chr4-116880000-117160000 | GADI_390232 | + |\n",
       "| chr4 | 116870000 | 116890000 | chr4 | 117170000 | 117190000 | Zswim5 | -0.2385164 | 2.544658e-03 | 7.902474e-03 | chr4-116880000-117180000 | GADI_390233 | + |\n",
       "\n"
      ],
      "text/plain": [
       "     chrom1 start1    end1      chrom2 start2    end2      name         \n",
       "1    chr5   63810000  63830000  chr5   64050000  64070000  0610040J01Rik\n",
       "2    chr18  25710000  25730000  chr18  26010000  26030000  0710001A04Rik\n",
       "3    chr18  25710000  25730000  chr18  26050000  26070000  0710001A04Rik\n",
       "4    chr18  25710000  25730000  chr18  26070000  26090000  0710001A04Rik\n",
       "5    chr18  25710000  25730000  chr18  26210000  26230000  0710001A04Rik\n",
       "6    chr18  25710000  25730000  chr18  26230000  26250000  0710001A04Rik\n",
       "7    chr18  25710000  25730000  chr18  26310000  26330000  0710001A04Rik\n",
       "8    chr18  25710000  25730000  chr18  26330000  26350000  0710001A04Rik\n",
       "9    chr18  25710000  25730000  chr18  26350000  26370000  0710001A04Rik\n",
       "10   chr18  25710000  25730000  chr18  26370000  26390000  0710001A04Rik\n",
       "11   chr18  25710000  25730000  chr18  26390000  26410000  0710001A04Rik\n",
       "12   chr18  25710000  25730000  chr18  26410000  26430000  0710001A04Rik\n",
       "13   chr18  25710000  25730000  chr18  26430000  26450000  0710001A04Rik\n",
       "14   chr18  25710000  25730000  chr18  26510000  26530000  0710001A04Rik\n",
       "15   chr18  25710000  25730000  chr18  26530000  26550000  0710001A04Rik\n",
       "16   chr18  25710000  25730000  chr18  26550000  26570000  0710001A04Rik\n",
       "17   chr18  25710000  25730000  chr18  26570000  26590000  0710001A04Rik\n",
       "18   chr18  25710000  25730000  chr18  26590000  26610000  0710001A04Rik\n",
       "19   chr18  25710000  25730000  chr18  26610000  26630000  0710001A04Rik\n",
       "20   chr18  25710000  25730000  chr18  26630000  26650000  0710001A04Rik\n",
       "21   chr18  25710000  25730000  chr18  26650000  26670000  0710001A04Rik\n",
       "22   chr18  25710000  25730000  chr18  26670000  26690000  0710001A04Rik\n",
       "23   chr18  25710000  25730000  chr18  26690000  26710000  0710001A04Rik\n",
       "24   chr18  25710000  25730000  chr18  26710000  26730000  0710001A04Rik\n",
       "25   chr18  25710000  25730000  chr18  26730000  26750000  0710001A04Rik\n",
       "26   chr18  25710000  25730000  chr18  26750000  26770000  0710001A04Rik\n",
       "27   chr18  25710000  25730000  chr18  26770000  26790000  0710001A04Rik\n",
       "28   chr18  25710000  25730000  chr18  26790000  26810000  0710001A04Rik\n",
       "29   chr18  25710000  25730000  chr18  26810000  26830000  0710001A04Rik\n",
       "30   chr18  25710000  25730000  chr18  26830000  26850000  0710001A04Rik\n",
       "⋮    ⋮      ⋮         ⋮         ⋮      ⋮         ⋮         ⋮            \n",
       "9611 chr9    90150000  90170000 chr9    91350000  91370000 Zic4         \n",
       "9612 chr9    90170000  90190000 chr9    91350000  91370000 Zic4         \n",
       "9613 chr9    90190000  90210000 chr9    91350000  91370000 Zic4         \n",
       "9614 chr9    90210000  90230000 chr9    91350000  91370000 Zic4         \n",
       "9615 chr9    90230000  90250000 chr9    91350000  91370000 Zic4         \n",
       "9616 chr9    90250000  90270000 chr9    91350000  91370000 Zic4         \n",
       "9617 chr9    90270000  90290000 chr9    91350000  91370000 Zic4         \n",
       "9618 chr9    90450000  90470000 chr9    91350000  91370000 Zic4         \n",
       "9619 chr9    90650000  90670000 chr9    91350000  91370000 Zic4         \n",
       "9620 chr9    90670000  90690000 chr9    91350000  91370000 Zic4         \n",
       "9621 chr9    90690000  90710000 chr9    91350000  91370000 Zic4         \n",
       "9622 chr9    90710000  90730000 chr9    91350000  91370000 Zic4         \n",
       "9623 chr9    90730000  90750000 chr9    91350000  91370000 Zic4         \n",
       "9624 chr9    90750000  90770000 chr9    91350000  91370000 Zic4         \n",
       "9625 chr9    90770000  90790000 chr9    91350000  91370000 Zic4         \n",
       "9626 chr9    90790000  90810000 chr9    91350000  91370000 Zic4         \n",
       "9627 chr9    90810000  90830000 chr9    91350000  91370000 Zic4         \n",
       "9628 chr9    90830000  90850000 chr9    91350000  91370000 Zic4         \n",
       "9629 chr9    90850000  90870000 chr9    91350000  91370000 Zic4         \n",
       "9630 chr9    90870000  90890000 chr9    91350000  91370000 Zic4         \n",
       "9631 chr9    91070000  91090000 chr9    91350000  91370000 Zic4         \n",
       "9632 chr9    91110000  91130000 chr9    91350000  91370000 Zic4         \n",
       "9633 chr9    91150000  91170000 chr9    91350000  91370000 Zic4         \n",
       "9634 chr9    91170000  91190000 chr9    91350000  91370000 Zic4         \n",
       "9635 chr9    91350000  91370000 chr9    91570000  91590000 Zic4         \n",
       "9636 chr9    91350000  91370000 chr9    92110000  92130000 Zic4         \n",
       "9637 chr4   116490000 116510000 chr4   116870000 116890000 Zswim5       \n",
       "9638 chr4   116870000 116890000 chr4   117130000 117150000 Zswim5       \n",
       "9639 chr4   116870000 116890000 chr4   117150000 117170000 Zswim5       \n",
       "9640 chr4   116870000 116890000 chr4   117170000 117190000 Zswim5       \n",
       "     cor        pv           fdr_cor      pos                      GADI_id    \n",
       "1    -0.2469617 1.758733e-03 5.730030e-03 chr5-63820000-64060000   GADI_21    \n",
       "2    -0.2864506 2.634653e-04 1.078454e-03 chr18-25720000-26020000  GADI_137   \n",
       "3    -0.2757174 4.541918e-04 1.744338e-03 chr18-25720000-26060000  GADI_138   \n",
       "4    -0.2732783 5.124731e-04 1.940197e-03 chr18-25720000-26080000  GADI_139   \n",
       "5    -0.3057207 9.372721e-05 4.312978e-04 chr18-25720000-26220000  GADI_140   \n",
       "6    -0.2959509 1.597259e-04 6.923164e-04 chr18-25720000-26240000  GADI_141   \n",
       "7    -0.3227249 3.540497e-05 1.813149e-04 chr18-25720000-26320000  GADI_142   \n",
       "8    -0.3192596 4.338182e-05 2.173536e-04 chr18-25720000-26340000  GADI_143   \n",
       "9    -0.2984798 1.393911e-04 6.135350e-04 chr18-25720000-26360000  GADI_144   \n",
       "10   -0.3069913 8.732732e-05 4.050023e-04 chr18-25720000-26380000  GADI_145   \n",
       "11   -0.3111115 6.927648e-05 3.295689e-04 chr18-25720000-26400000  GADI_146   \n",
       "12   -0.3165267 5.083283e-05 2.503708e-04 chr18-25720000-26420000  GADI_147   \n",
       "13   -0.3175304 4.796675e-05 2.377548e-04 chr18-25720000-26440000  GADI_148   \n",
       "14   -0.3585106 3.740168e-06 2.422671e-05 chr18-25720000-26520000  GADI_149   \n",
       "15   -0.3872479 4.994918e-07 3.961167e-06 chr18-25720000-26540000  GADI_150   \n",
       "16   -0.3909532 3.798268e-07 3.094778e-06 chr18-25720000-26560000  GADI_151   \n",
       "17   -0.3819455 7.348936e-07 5.606430e-06 chr18-25720000-26580000  GADI_152   \n",
       "18   -0.3572096 4.078641e-06 2.619136e-05 chr18-25720000-26600000  GADI_153   \n",
       "19   -0.3695923 1.760498e-06 1.230309e-05 chr18-25720000-26620000  GADI_154   \n",
       "20   -0.3503289 6.408601e-06 3.928885e-05 chr18-25720000-26640000  GADI_155   \n",
       "21   -0.3365655 1.533684e-05 8.580358e-05 chr18-25720000-26660000  GADI_156   \n",
       "22   -0.3175555 4.789704e-05 2.374604e-04 chr18-25720000-26680000  GADI_157   \n",
       "23   -0.3171508 4.903229e-05 2.424460e-04 chr18-25720000-26700000  GADI_158   \n",
       "24   -0.3374520 1.451653e-05 8.168039e-05 chr18-25720000-26720000  GADI_159   \n",
       "25   -0.3556077 4.535384e-06 2.880872e-05 chr18-25720000-26740000  GADI_160   \n",
       "26   -0.3662835 2.211199e-06 1.509697e-05 chr18-25720000-26760000  GADI_161   \n",
       "27   -0.3557377 4.496569e-06 2.858613e-05 chr18-25720000-26780000  GADI_162   \n",
       "28   -0.3546468 4.832208e-06 3.049836e-05 chr18-25720000-26800000  GADI_163   \n",
       "29   -0.3462512 8.335130e-06 4.970393e-05 chr18-25720000-26820000  GADI_164   \n",
       "30   -0.3381261 1.392069e-05 7.867907e-05 chr18-25720000-26840000  GADI_165   \n",
       "⋮    ⋮          ⋮            ⋮            ⋮                        ⋮          \n",
       "9611 -0.3613131 3.099415e-06 2.046624e-05 chr9-90160000-91360000   GADI_389070\n",
       "9612 -0.3831903 6.716151e-07 5.170331e-06 chr9-90180000-91360000   GADI_389078\n",
       "9613 -0.3921257 3.480519e-07 2.860107e-06 chr9-90200000-91360000   GADI_389091\n",
       "9614 -0.3921433 3.475957e-07 2.856698e-06 chr9-90220000-91360000   GADI_389104\n",
       "9615 -0.4067170 1.140327e-07 1.046524e-06 chr9-90240000-91360000   GADI_389121\n",
       "9616 -0.4076322 1.061331e-07 9.810021e-07 chr9-90260000-91360000   GADI_389146\n",
       "9617 -0.4335639 1.266979e-08 1.440765e-07 chr9-90280000-91360000   GADI_389168\n",
       "9618 -0.3506527 6.275234e-06 3.855374e-05 chr9-90460000-91360000   GADI_389223\n",
       "9619 -0.3524448 5.583436e-06 3.472912e-05 chr9-90660000-91360000   GADI_389238\n",
       "9620 -0.3627670 2.809558e-06 1.873201e-05 chr9-90680000-91360000   GADI_389242\n",
       "9621 -0.3479284 7.484357e-06 4.514101e-05 chr9-90700000-91360000   GADI_389254\n",
       "9622 -0.3432187 1.011059e-05 5.907920e-05 chr9-90720000-91360000   GADI_389262\n",
       "9623 -0.3110880 6.936869e-05 3.299434e-04 chr9-90740000-91360000   GADI_389268\n",
       "9624 -0.2866512 2.607419e-04 1.068613e-03 chr9-90760000-91360000   GADI_389271\n",
       "9625 -0.2911404 2.062431e-04 8.684066e-04 chr9-90780000-91360000   GADI_389273\n",
       "9626 -0.3335007 1.852276e-05 1.016715e-04 chr9-90800000-91360000   GADI_389275\n",
       "9627 -0.3731436 1.374548e-06 9.849832e-06 chr9-90820000-91360000   GADI_389277\n",
       "9628 -0.3836229 6.508705e-07 5.027339e-06 chr9-90840000-91360000   GADI_389280\n",
       "9629 -0.3648335 2.441552e-06 1.651334e-05 chr9-90860000-91360000   GADI_389283\n",
       "9630 -0.3371556 1.478605e-05 8.304411e-05 chr9-90880000-91360000   GADI_389285\n",
       "9631 -0.2919296 1.978346e-04 8.368648e-04 chr9-91080000-91360000   GADI_389286\n",
       "9632 -0.2764706 4.374735e-04 1.687380e-03 chr9-91120000-91360000   GADI_389287\n",
       "9633 -0.2614070 9.078634e-04 3.211445e-03 chr9-91160000-91360000   GADI_389289\n",
       "9634 -0.2813169 3.427946e-04 1.360805e-03 chr9-91180000-91360000   GADI_389292\n",
       "9635 -0.3079869 8.260140e-05 3.854055e-04 chr9-91360000-91580000   GADI_389301\n",
       "9636 -0.3515609 5.915094e-06 3.656220e-05 chr9-91360000-92120000   GADI_389302\n",
       "9637 -0.2378782 2.615360e-03 8.092558e-03 chr4-116500000-116880000 GADI_390029\n",
       "9638 -0.2471292 1.745670e-03 5.693075e-03 chr4-116880000-117140000 GADI_390231\n",
       "9639 -0.2612320 9.153720e-04 3.234742e-03 chr4-116880000-117160000 GADI_390232\n",
       "9640 -0.2385164 2.544658e-03 7.902474e-03 chr4-116880000-117180000 GADI_390233\n",
       "     strand\n",
       "1    +     \n",
       "2    +     \n",
       "3    +     \n",
       "4    +     \n",
       "5    +     \n",
       "6    +     \n",
       "7    +     \n",
       "8    +     \n",
       "9    +     \n",
       "10   +     \n",
       "11   +     \n",
       "12   +     \n",
       "13   +     \n",
       "14   +     \n",
       "15   +     \n",
       "16   +     \n",
       "17   +     \n",
       "18   +     \n",
       "19   +     \n",
       "20   +     \n",
       "21   +     \n",
       "22   +     \n",
       "23   +     \n",
       "24   +     \n",
       "25   +     \n",
       "26   +     \n",
       "27   +     \n",
       "28   +     \n",
       "29   +     \n",
       "30   +     \n",
       "⋮    ⋮     \n",
       "9611 +     \n",
       "9612 +     \n",
       "9613 +     \n",
       "9614 +     \n",
       "9615 +     \n",
       "9616 +     \n",
       "9617 +     \n",
       "9618 +     \n",
       "9619 +     \n",
       "9620 +     \n",
       "9621 +     \n",
       "9622 +     \n",
       "9623 +     \n",
       "9624 +     \n",
       "9625 +     \n",
       "9626 +     \n",
       "9627 +     \n",
       "9628 +     \n",
       "9629 +     \n",
       "9630 +     \n",
       "9631 +     \n",
       "9632 +     \n",
       "9633 +     \n",
       "9634 +     \n",
       "9635 +     \n",
       "9636 +     \n",
       "9637 +     \n",
       "9638 +     \n",
       "9639 +     \n",
       "9640 +     "
      ]
     },
     "metadata": {},
     "output_type": "display_data"
    }
   ],
   "source": [
    "tssgadi_bedpe %>% filter(cor < 0)"
   ]
  },
  {
   "cell_type": "code",
   "execution_count": 23,
   "metadata": {},
   "outputs": [
    {
     "name": "stderr",
     "output_type": "stream",
     "text": [
      "Warning message:\n",
      "\"`legend.margin` must be specified using `margin()`. For the old behavior use legend.spacing\"\n",
      "Warning message:\n",
      "\"`legend.margin` must be specified using `margin()`. For the old behavior use legend.spacing\"\n",
      "Warning message:\n",
      "\"`legend.margin` must be specified using `margin()`. For the old behavior use legend.spacing\"\n",
      "Warning message:\n",
      "\"`legend.margin` must be specified using `margin()`. For the old behavior use legend.spacing\"\n",
      "Warning message:\n",
      "\"Removed 572 row(s) containing missing values (geom_path).\"\n"
     ]
    },
    {
     "data": {
      "text/html": [
       "<strong>png:</strong> 2"
      ],
      "text/latex": [
       "\\textbf{png:} 2"
      ],
      "text/markdown": [
       "**png:** 2"
      ],
      "text/plain": [
       "png \n",
       "  2 "
      ]
     },
     "metadata": {},
     "output_type": "display_data"
    },
    {
     "data": {
      "text/html": [
       "<strong>png:</strong> 2"
      ],
      "text/latex": [
       "\\textbf{png:} 2"
      ],
      "text/markdown": [
       "**png:** 2"
      ],
      "text/plain": [
       "png \n",
       "  2 "
      ]
     },
     "metadata": {},
     "output_type": "display_data"
    }
   ],
   "source": [
    "startc = 41000000\n",
    "endc = 44000000\n",
    "gene = \"Zbtb20\"\n",
    "options(repr.plot.width = 7,repr.plot.height = 3,repr.plot.res = 200)\n",
    "\n",
    "P <- allgadi_bedpe %>% filter(name == gene) %>% mutate(logpv = -log10(pv),chrom = chrom1,start = start1 + 10000,end = start2 + 10000) %>% \n",
    "    select(chrom,start,end,logpv,cor) %>% mutate(cor = -cor)  %>% GRanges() %>% ggplot() + geom_arch(aes(color = cor, height = logpv))+#,alpha = (logpv-min(logpv))/(max(logpv)-min(logpv)))) +\n",
    "        theme_Publication() +  theme(legend.position = \"right\", legend.direction = \"vertical\") + \n",
    "        scale_color_gradient2(low = \"#2166ac\",mid = \"white\",high = \"#b2182b\",limits = c(-0.8,0.8))  + \n",
    "        ylab(\"log10(p-value)\") + xlab(\"Genomic distance (bp)\") + scale_x_continuous(limits = c(startc,endc),breaks = c(startc,endc)) \n",
    "\n",
    "P <- P  +theme_Publication() +  theme(legend.position = \"right\", legend.direction = \"vertical\")  + xlab(\"\") + ylab(\"-log10 pv\") + ggtitle(\"\")\n",
    "Q <- tssgadi_bedpe %>% filter(name == gene) %>% mutate(logpv = -log10(pv),chrom = chrom1,start = start1 + 10000,end = start2 + 10000) %>% \n",
    "    select(chrom,start,end,logpv,cor) %>% mutate(cor = -cor)  %>% GRanges() %>% ggplot() + geom_arch(aes(color = cor, height = logpv))+#,alpha = (logpv-min(logpv))/(max(logpv)-min(logpv)))) +\n",
    "        theme_Publication() +  theme(legend.position = \"right\", legend.direction = \"vertical\") + \n",
    "        scale_color_gradient2(low = \"#2166ac\",mid = \"white\",high = \"#b2182b\",limits = c(-0.8,0.8))  + \n",
    "        ylab(\"log10(p-value)\") + xlab(\"Genomic distance (bp)\") + scale_x_continuous(limits = c(startc,endc),breaks = c(startc,endc)) \n",
    "\n",
    "Q <- Q  +theme_Publication() +  theme(legend.position = \"right\", legend.direction = \"vertical\")  + xlab(\"\") + ylab(\"-log10 pv\") + ggtitle(\"\")\n",
    "\n",
    "pdf(\"Zbtb20_gadi_arc.pdf\", width = 2.5, height = 1)\n",
    "P\n",
    "dev.off() \n",
    "\n",
    "pdf(\"Zbtb20_gadi_tss_arc.pdf\", width = 2.5, height = 1)\n",
    "Q\n",
    "dev.off() "
   ]
  },
  {
   "cell_type": "code",
   "execution_count": 26,
   "metadata": {},
   "outputs": [
    {
     "name": "stderr",
     "output_type": "stream",
     "text": [
      "Warning message:\n",
      "\"`legend.margin` must be specified using `margin()`. For the old behavior use legend.spacing\"\n",
      "Warning message:\n",
      "\"`legend.margin` must be specified using `margin()`. For the old behavior use legend.spacing\"\n",
      "Warning message:\n",
      "\"`legend.margin` must be specified using `margin()`. For the old behavior use legend.spacing\"\n",
      "Warning message:\n",
      "\"`legend.margin` must be specified using `margin()`. For the old behavior use legend.spacing\"\n"
     ]
    },
    {
     "data": {
      "text/html": [
       "<strong>png:</strong> 2"
      ],
      "text/latex": [
       "\\textbf{png:} 2"
      ],
      "text/markdown": [
       "**png:** 2"
      ],
      "text/plain": [
       "png \n",
       "  2 "
      ]
     },
     "metadata": {},
     "output_type": "display_data"
    },
    {
     "data": {
      "text/html": [
       "<strong>png:</strong> 2"
      ],
      "text/latex": [
       "\\textbf{png:} 2"
      ],
      "text/markdown": [
       "**png:** 2"
      ],
      "text/plain": [
       "png \n",
       "  2 "
      ]
     },
     "metadata": {},
     "output_type": "display_data"
    }
   ],
   "source": [
    "startc = 41000000\n",
    "endc = 45000000\n",
    "gene = \"Zbtb20\"\n",
    "options(repr.plot.width = 7,repr.plot.height = 3,repr.plot.res = 200)\n",
    "\n",
    "P <- allgadi_bedpe %>% filter(name == gene) %>% mutate(logpv = -log10(pv),chrom = chrom1,start = start1 + 10000,end = start2 + 10000) %>% \n",
    "    select(chrom,start,end,logpv,cor) %>% mutate(cor = -cor)  %>% GRanges() %>% ggplot() + geom_arch(aes(color = cor, height = logpv))+#,alpha = (logpv-min(logpv))/(max(logpv)-min(logpv)))) +\n",
    "        theme_Publication() +  theme(legend.position = \"right\", legend.direction = \"vertical\") + \n",
    "        scale_color_gradient2(low = \"#2166ac\",mid = \"white\",high = \"#b2182b\",limits = c(-0.8,0.8))  + \n",
    "        ylab(\"log10(p-value)\") + xlab(\"Genomic distance (bp)\") + scale_x_continuous(limits = c(startc,endc),breaks = c(startc,endc)) \n",
    "\n",
    "P <- P  +theme_Publication() +  theme(legend.position = \"right\", legend.direction = \"vertical\")  + xlab(\"\") + ylab(\"-log10 pv\") + ggtitle(\"\")\n",
    "Q <- tssgadi_bedpe %>% filter(name == gene) %>% mutate(logpv = -log10(pv),chrom = chrom1,start = start1 + 10000,end = start2 + 10000) %>% \n",
    "    select(chrom,start,end,logpv,cor) %>% mutate(cor = -cor)  %>% GRanges() %>% ggplot() + geom_arch(aes(color = cor, height = logpv))+#,alpha = (logpv-min(logpv))/(max(logpv)-min(logpv)))) +\n",
    "        theme_Publication() +  theme(legend.position = \"right\", legend.direction = \"vertical\") + \n",
    "        scale_color_gradient2(low = \"#2166ac\",mid = \"white\",high = \"#b2182b\",limits = c(-0.8,0.8))  + \n",
    "        ylab(\"log10(p-value)\") + xlab(\"Genomic distance (bp)\") + scale_x_continuous(limits = c(startc,endc),breaks = c(startc,endc)) \n",
    "\n",
    "Q <- Q  +theme_Publication() +  theme(legend.position = \"right\", legend.direction = \"vertical\")  + xlab(\"\") + ylab(\"-log10 pv\") + ggtitle(\"\")\n",
    "\n",
    "pdf(\"Zbtb20_gadi_arc.pdf\", width = 2.5, height = 1)\n",
    "P\n",
    "dev.off() \n",
    "\n",
    "pdf(\"Zbtb20_gadi_tss_arc.pdf\", width = 2.5, height = 1)\n",
    "Q\n",
    "dev.off() "
   ]
  },
  {
   "cell_type": "code",
   "execution_count": 28,
   "metadata": {},
   "outputs": [
    {
     "name": "stderr",
     "output_type": "stream",
     "text": [
      "Warning message:\n",
      "\"`legend.margin` must be specified using `margin()`. For the old behavior use legend.spacing\"\n",
      "Warning message:\n",
      "\"`legend.margin` must be specified using `margin()`. For the old behavior use legend.spacing\"\n",
      "Warning message:\n",
      "\"`legend.margin` must be specified using `margin()`. For the old behavior use legend.spacing\"\n",
      "Warning message:\n",
      "\"`legend.margin` must be specified using `margin()`. For the old behavior use legend.spacing\"\n"
     ]
    },
    {
     "data": {
      "text/html": [
       "<strong>png:</strong> 2"
      ],
      "text/latex": [
       "\\textbf{png:} 2"
      ],
      "text/markdown": [
       "**png:** 2"
      ],
      "text/plain": [
       "png \n",
       "  2 "
      ]
     },
     "metadata": {},
     "output_type": "display_data"
    },
    {
     "data": {
      "text/html": [
       "<strong>png:</strong> 2"
      ],
      "text/latex": [
       "\\textbf{png:} 2"
      ],
      "text/markdown": [
       "**png:** 2"
      ],
      "text/plain": [
       "png \n",
       "  2 "
      ]
     },
     "metadata": {},
     "output_type": "display_data"
    }
   ],
   "source": [
    "startc = 66000000\n",
    "endc = 70000000\n",
    "gene = \"Arid5b\"\n",
    "options(repr.plot.width = 7,repr.plot.height = 3,repr.plot.res = 200)\n",
    "\n",
    "P <- allgadi_bedpe %>% filter(name == gene) %>% mutate(logpv = -log10(pv),chrom = chrom1,start = start1 + 10000,end = start2 + 10000) %>% \n",
    "    select(chrom,start,end,logpv,cor) %>% mutate(cor = -cor)  %>% GRanges() %>% ggplot() + geom_arch(aes(color = cor, height = logpv))+#,alpha = (logpv-min(logpv))/(max(logpv)-min(logpv)))) +\n",
    "        theme_Publication() +  theme(legend.position = \"right\", legend.direction = \"vertical\") + \n",
    "        scale_color_gradient2(low = \"#2166ac\",mid = \"white\",high = \"#b2182b\",limits = c(-0.8,0.8))  + \n",
    "        ylab(\"log10(p-value)\") + xlab(\"Genomic distance (bp)\") + scale_x_continuous(limits = c(startc,endc),breaks = c(startc,endc)) \n",
    "\n",
    "P <- P  +theme_Publication() +  theme(legend.position = \"right\", legend.direction = \"vertical\")  + xlab(\"\") + ylab(\"-log10 pv\") + ggtitle(\"\")\n",
    "Q <- tssgadi_bedpe %>% filter(name == gene) %>% mutate(logpv = -log10(pv),chrom = chrom1,start = start1 + 10000,end = start2 + 10000) %>% \n",
    "    select(chrom,start,end,logpv,cor) %>% mutate(cor = -cor)  %>% GRanges() %>% ggplot() + geom_arch(aes(color = cor, height = logpv))+#,alpha = (logpv-min(logpv))/(max(logpv)-min(logpv)))) +\n",
    "        theme_Publication() +  theme(legend.position = \"right\", legend.direction = \"vertical\") + \n",
    "        scale_color_gradient2(low = \"#2166ac\",mid = \"white\",high = \"#b2182b\",limits = c(-0.8,0.8))  + \n",
    "        ylab(\"log10(p-value)\") + xlab(\"Genomic distance (bp)\") + scale_x_continuous(limits = c(startc,endc),breaks = c(startc,endc)) \n",
    "\n",
    "Q <- Q  +theme_Publication() +  theme(legend.position = \"right\", legend.direction = \"vertical\")  + xlab(\"\") + ylab(\"-log10 pv\") + ggtitle(\"\")\n",
    "\n",
    "pdf(\"Arid5b_gadi_arc.pdf\", width = 2.5, height = 1)\n",
    "P\n",
    "dev.off() \n",
    "\n",
    "pdf(\"Arid5b_gadi_tss_arc.pdf\", width = 2.5, height = 1)\n",
    "Q\n",
    "dev.off() "
   ]
  },
  {
   "cell_type": "markdown",
   "metadata": {},
   "source": [
    "# GADI ENRICHMENT ON TSS"
   ]
  },
  {
   "cell_type": "code",
   "execution_count": 41,
   "metadata": {},
   "outputs": [],
   "source": [
    "tss <- mm10 %>% mutate(tss = ifelse(strand == \"+\",start, end-1)) %>% select(name,tss,chrom,strand)"
   ]
  },
  {
   "cell_type": "code",
   "execution_count": 42,
   "metadata": {},
   "outputs": [
    {
     "name": "stderr",
     "output_type": "stream",
     "text": [
      "\u001b[1m\u001b[22mJoining, by = \"name\"\n"
     ]
    }
   ],
   "source": [
    "temp <- allgadi_bedpe %>% left_join(tss) %>% mutate(left = tss - start1 - 10000, right = tss-start2-10000) %>% mutate(logpv = -log10(pv))\n",
    "temp %>% mutate(left = ifelse(strand == \"-\",-left,left),right = ifelse(strand == \"-\",-right,right)) -> temp\n",
    "temp<- rbind(temp %>% select(right,logpv),temp%>% mutate(right=left) %>% select(right,logpv))"
   ]
  },
  {
   "cell_type": "code",
   "execution_count": 43,
   "metadata": {},
   "outputs": [
    {
     "data": {
      "text/html": [
       "<style>\n",
       ".list-inline {list-style: none; margin:0; padding: 0}\n",
       ".list-inline>li {display: inline-block}\n",
       ".list-inline>li:not(:last-child)::after {content: \"\\00b7\"; padding: 0 .5ex}\n",
       "</style>\n",
       "<ol class=list-inline><li>780504</li><li>2</li></ol>\n"
      ],
      "text/latex": [
       "\\begin{enumerate*}\n",
       "\\item 780504\n",
       "\\item 2\n",
       "\\end{enumerate*}\n"
      ],
      "text/markdown": [
       "1. 780504\n",
       "2. 2\n",
       "\n",
       "\n"
      ],
      "text/plain": [
       "[1] 780504      2"
      ]
     },
     "metadata": {},
     "output_type": "display_data"
    }
   ],
   "source": [
    "dim(temp)"
   ]
  },
  {
   "cell_type": "code",
   "execution_count": 44,
   "metadata": {},
   "outputs": [
    {
     "data": {
      "text/html": [
       "223607"
      ],
      "text/latex": [
       "223607"
      ],
      "text/markdown": [
       "223607"
      ],
      "text/plain": [
       "[1] 223607"
      ]
     },
     "metadata": {},
     "output_type": "display_data"
    }
   ],
   "source": [
    "allgadi_bedpe %>% pull(pos) %>% unique() %>% length()"
   ]
  },
  {
   "cell_type": "code",
   "execution_count": 45,
   "metadata": {},
   "outputs": [
    {
     "name": "stderr",
     "output_type": "stream",
     "text": [
      "Warning message:\n",
      "\"`legend.margin` must be specified using `margin()`. For the old behavior use legend.spacing\"\n",
      "Warning message:\n",
      "\"Removed 272635 rows containing non-finite values (stat_bin).\"\n"
     ]
    },
    {
     "data": {
      "image/png": "[encoded data removed]",
      "text/plain": [
       "plot without title"
      ]
     },
     "metadata": {
      "image/png": {
       "height": 400,
       "width": 400
      }
     },
     "output_type": "display_data"
    }
   ],
   "source": [
    "options(repr.plot.width = 4,repr.plot.height=4,repr.plot.res= 200)\n",
    "temp %>% gghistogram(x=\"right\",bins=30) + scale_x_continuous(limits = c(-500000,500000)) + xlab(\"TSS\") + theme_Publication()"
   ]
  },
  {
   "cell_type": "code",
   "execution_count": 46,
   "metadata": {},
   "outputs": [
    {
     "name": "stderr",
     "output_type": "stream",
     "text": [
      "\u001b[1mRows: \u001b[22m\u001b[34m694384\u001b[39m \u001b[1mColumns: \u001b[22m\u001b[34m13\u001b[39m\n",
      "\u001b[36m──\u001b[39m \u001b[1mColumn specification\u001b[22m \u001b[36m────────────────────────────────────────────────────────────────────────────────────────────────────────────────────────────────────────────────────────────────────────────────────────────────────────────────────────────────────────────────────────────────────────────────────────────\u001b[39m\n",
      "\u001b[1mDelimiter:\u001b[22m \"\\t\"\n",
      "\u001b[31mchr\u001b[39m (4): chrom1, chrom2, pos, celltype\n",
      "\u001b[32mdbl\u001b[39m (9): start1, end1, start2, end2, pv, FDR, diff, mat1_mean_all, mat2_mean...\n",
      "\n",
      "\u001b[36mℹ\u001b[39m Use \u001b[30m\u001b[47m\u001b[30m\u001b[47m`spec()`\u001b[47m\u001b[30m\u001b[49m\u001b[39m to retrieve the full column specification for this data.\n",
      "\u001b[36mℹ\u001b[39m Specify the column types or set \u001b[30m\u001b[47m\u001b[30m\u001b[47m`show_col_types = FALSE`\u001b[47m\u001b[30m\u001b[49m\u001b[39m to quiet this message.\n"
     ]
    }
   ],
   "source": [
    "alldi <- read_tsv(\"../../figure3_related_new/di_emb_nonp//alldis.filtered.tsv.gz\")"
   ]
  },
  {
   "cell_type": "code",
   "execution_count": 47,
   "metadata": {},
   "outputs": [
    {
     "name": "stderr",
     "output_type": "stream",
     "text": [
      "Warning message:\n",
      "\"Using `bins = 30` by default. Pick better value with the argument `bins`.\"\n",
      "Warning message:\n",
      "\"`legend.margin` must be specified using `margin()`. For the old behavior use legend.spacing\"\n",
      "Warning message:\n",
      "\"Removed 36716846 rows containing non-finite values (stat_bin).\"\n"
     ]
    },
    {
     "data": {
      "image/png": "[encoded data removed]",
      "text/plain": [
       "plot without title"
      ]
     },
     "metadata": {
      "image/png": {
       "height": 400,
       "width": 400
      }
     },
     "output_type": "display_data"
    }
   ],
   "source": [
    "set.seed(42)\n",
    "di_sample <- alldi %>% sample_n(100000) %>% mutate(logpv = -log10(pv))\n",
    "di_sample <- rbind( di_sample %>% select(1:3,logpv) %>% mutate(start = start1,end=end1,chrom = chrom1) %>% select(chrom,start,end,logpv),\n",
    "                    di_sample %>% select(1:3,logpv) %>% mutate(start = start1,end=end1,chrom = chrom1) %>% select(chrom,start,end,logpv))\n",
    "\n",
    "tss %>% mutate(start = tss - 5e6,end = tss + 5e6,start = ifelse(start >0,start,0)) %>% select(chrom,start,end,name,tss,strand)%>% \n",
    "    valr::bed_intersect(di_sample) %>% mutate(TSS = tss.x - start.y - 10000)-> di_plotdata\n",
    "di_plotdata %>% mutate(TSS=ifelse(strand.x == \"+\",TSS,-TSS)) -> di_plotdata\n",
    "di_plotdata %>% gghistogram(x=\"TSS\")+\n",
    "    scale_x_continuous(limits = c(-500000,500000)) + xlab(\"TSS\") + theme_Publication()"
   ]
  },
  {
   "cell_type": "code",
   "execution_count": 48,
   "metadata": {
    "tags": []
   },
   "outputs": [],
   "source": [
    "temp <- temp %>% rename(right = \"TSS\")\n",
    "di_plotdata %>% select(TSS,logpv.y) %>% rename(logpv.y = \"logpv\") ->  di_plotdata"
   ]
  },
  {
   "cell_type": "code",
   "execution_count": 49,
   "metadata": {},
   "outputs": [],
   "source": [
    "set.seed(42)\n",
    "cutoff = 500000\n",
    "plotdata <- rbind(temp %>% filter(abs(TSS) < cutoff) %>% mutate(type = \"GADI\"),di_plotdata  %>% filter(abs(TSS) < cutoff)%>% sample_n(dim(temp %>% filter(abs(TSS) < cutoff))[1]) %>% mutate(type = \"DI\"))"
   ]
  },
  {
   "cell_type": "code",
   "execution_count": 50,
   "metadata": {},
   "outputs": [
    {
     "name": "stderr",
     "output_type": "stream",
     "text": [
      "Warning message:\n",
      "\"Using `bins = 30` by default. Pick better value with the argument `bins`.\"\n",
      "Warning message:\n",
      "\"`legend.margin` must be specified using `margin()`. For the old behavior use legend.spacing\"\n"
     ]
    },
    {
     "data": {
      "image/png": "[encoded data removed]",
      "text/plain": [
       "plot without title"
      ]
     },
     "metadata": {
      "image/png": {
       "height": 200,
       "width": 400
      }
     },
     "output_type": "display_data"
    }
   ],
   "source": [
    "options(repr.plot.width = 4,repr.plot.height = 2,repr.plot.res = 200)\n",
    "p <- plotdata %>% gghistogram(x=\"TSS\",fill=\"type\",palette = c(\"#606060\",\"white\"))+ theme_Publication() + \n",
    "    scale_x_continuous(limits = c(-cutoff,cutoff)) + theme(legend.position = \"right\",legend.direction = \"vertical\") \n",
    "p"
   ]
  },
  {
   "cell_type": "code",
   "execution_count": 51,
   "metadata": {},
   "outputs": [],
   "source": [
    "p %>% ggsave(filename = \"tssenrichment.pdf\",height = 1, width =2,dpi=300,units =\"in\")"
   ]
  },
  {
   "cell_type": "code",
   "execution_count": 52,
   "metadata": {},
   "outputs": [
    {
     "data": {
      "text/html": [
       "<table class=\"dataframe\">\n",
       "<caption>A tibble: 3 × 13</caption>\n",
       "<thead>\n",
       "\t<tr><th scope=col>chrom1</th><th scope=col>start1</th><th scope=col>end1</th><th scope=col>chrom2</th><th scope=col>start2</th><th scope=col>end2</th><th scope=col>name</th><th scope=col>cor</th><th scope=col>pv</th><th scope=col>fdr_cor</th><th scope=col>pos</th><th scope=col>GADI_id</th><th scope=col>id</th></tr>\n",
       "\t<tr><th scope=col>&lt;chr&gt;</th><th scope=col>&lt;dbl&gt;</th><th scope=col>&lt;dbl&gt;</th><th scope=col>&lt;chr&gt;</th><th scope=col>&lt;dbl&gt;</th><th scope=col>&lt;dbl&gt;</th><th scope=col>&lt;chr&gt;</th><th scope=col>&lt;dbl&gt;</th><th scope=col>&lt;dbl&gt;</th><th scope=col>&lt;dbl&gt;</th><th scope=col>&lt;chr&gt;</th><th scope=col>&lt;chr&gt;</th><th scope=col>&lt;chr&gt;</th></tr>\n",
       "</thead>\n",
       "<tbody>\n",
       "\t<tr><td>chr7</td><td>18910000</td><td>18930000</td><td>chr7</td><td>19310000</td><td>19330000</td><td>Fosb   </td><td> 0.4062433</td><td>0.0000001183391</td><td>0.000001081849</td><td>chr7-18920000-19320000</td><td>GADI_104382</td><td>id104382</td></tr>\n",
       "\t<tr><td>chr7</td><td>18910000</td><td>18930000</td><td>chr7</td><td>19310000</td><td>19330000</td><td>Nectin2</td><td> 0.3487156</td><td>0.0000071139965</td><td>0.000043143621</td><td>chr7-18920000-19320000</td><td>GADI_253977</td><td>id253977</td></tr>\n",
       "\t<tr><td>chr7</td><td>18910000</td><td>18930000</td><td>chr7</td><td>19310000</td><td>19330000</td><td>Nova2  </td><td>-0.3752617</td><td>0.0000011842563</td><td>0.000008614203</td><td>chr7-18920000-19320000</td><td>GADI_261077</td><td>id261077</td></tr>\n",
       "</tbody>\n",
       "</table>\n"
      ],
      "text/latex": [
       "A tibble: 3 × 13\n",
       "\\begin{tabular}{lllllllllllll}\n",
       " chrom1 & start1 & end1 & chrom2 & start2 & end2 & name & cor & pv & fdr\\_cor & pos & GADI\\_id & id\\\\\n",
       " <chr> & <dbl> & <dbl> & <chr> & <dbl> & <dbl> & <chr> & <dbl> & <dbl> & <dbl> & <chr> & <chr> & <chr>\\\\\n",
       "\\hline\n",
       "\t chr7 & 18910000 & 18930000 & chr7 & 19310000 & 19330000 & Fosb    &  0.4062433 & 0.0000001183391 & 0.000001081849 & chr7-18920000-19320000 & GADI\\_104382 & id104382\\\\\n",
       "\t chr7 & 18910000 & 18930000 & chr7 & 19310000 & 19330000 & Nectin2 &  0.3487156 & 0.0000071139965 & 0.000043143621 & chr7-18920000-19320000 & GADI\\_253977 & id253977\\\\\n",
       "\t chr7 & 18910000 & 18930000 & chr7 & 19310000 & 19330000 & Nova2   & -0.3752617 & 0.0000011842563 & 0.000008614203 & chr7-18920000-19320000 & GADI\\_261077 & id261077\\\\\n",
       "\\end{tabular}\n"
      ],
      "text/markdown": [
       "\n",
       "A tibble: 3 × 13\n",
       "\n",
       "| chrom1 &lt;chr&gt; | start1 &lt;dbl&gt; | end1 &lt;dbl&gt; | chrom2 &lt;chr&gt; | start2 &lt;dbl&gt; | end2 &lt;dbl&gt; | name &lt;chr&gt; | cor &lt;dbl&gt; | pv &lt;dbl&gt; | fdr_cor &lt;dbl&gt; | pos &lt;chr&gt; | GADI_id &lt;chr&gt; | id &lt;chr&gt; |\n",
       "|---|---|---|---|---|---|---|---|---|---|---|---|---|\n",
       "| chr7 | 18910000 | 18930000 | chr7 | 19310000 | 19330000 | Fosb    |  0.4062433 | 0.0000001183391 | 0.000001081849 | chr7-18920000-19320000 | GADI_104382 | id104382 |\n",
       "| chr7 | 18910000 | 18930000 | chr7 | 19310000 | 19330000 | Nectin2 |  0.3487156 | 0.0000071139965 | 0.000043143621 | chr7-18920000-19320000 | GADI_253977 | id253977 |\n",
       "| chr7 | 18910000 | 18930000 | chr7 | 19310000 | 19330000 | Nova2   | -0.3752617 | 0.0000011842563 | 0.000008614203 | chr7-18920000-19320000 | GADI_261077 | id261077 |\n",
       "\n"
      ],
      "text/plain": [
       "  chrom1 start1   end1     chrom2 start2   end2     name    cor       \n",
       "1 chr7   18910000 18930000 chr7   19310000 19330000 Fosb     0.4062433\n",
       "2 chr7   18910000 18930000 chr7   19310000 19330000 Nectin2  0.3487156\n",
       "3 chr7   18910000 18930000 chr7   19310000 19330000 Nova2   -0.3752617\n",
       "  pv              fdr_cor        pos                    GADI_id     id      \n",
       "1 0.0000001183391 0.000001081849 chr7-18920000-19320000 GADI_104382 id104382\n",
       "2 0.0000071139965 0.000043143621 chr7-18920000-19320000 GADI_253977 id253977\n",
       "3 0.0000011842563 0.000008614203 chr7-18920000-19320000 GADI_261077 id261077"
      ]
     },
     "metadata": {},
     "output_type": "display_data"
    }
   ],
   "source": [
    "allgadi_bedpe %>% mutate(id=paste0(\"id\",row_number())) %>% filter(pos == \"chr7-18920000-19320000\")"
   ]
  },
  {
   "cell_type": "code",
   "execution_count": null,
   "metadata": {},
   "outputs": [],
   "source": []
  }
 ],
 "metadata": {
  "kernelspec": {
   "display_name": "R 4.1",
   "language": "R",
   "name": "ir41"
  },
  "language_info": {
   "codemirror_mode": "r",
   "file_extension": ".r",
   "mimetype": "text/x-r-source",
   "name": "R",
   "pygments_lexer": "r",
   "version": "4.1.1"
  }
 },
 "nbformat": 4,
 "nbformat_minor": 4
}
