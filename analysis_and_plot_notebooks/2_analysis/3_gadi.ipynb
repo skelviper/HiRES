{
 "cells": [
  {
   "cell_type": "code",
   "execution_count": 1,
   "metadata": {},
   "outputs": [
    {
     "name": "stderr",
     "output_type": "stream",
     "text": [
      "Registered S3 method overwritten by 'spatstat.geom':\n",
      "  method     from\n",
      "  print.boxx cli \n",
      "\n",
      "Attaching SeuratObject\n",
      "\n",
      "── \u001b[1mAttaching packages\u001b[22m ─────────────────────────────────────────────────────────────────────────────────────────────────────────────────────────────────────────────────────────────────────────────────────────────────────────────────────────────────────────────────────────────────────────── tidyverse 1.3.1 ──\n",
      "\n",
      "\u001b[32m✔\u001b[39m \u001b[34mggplot2\u001b[39m 3.3.5     \u001b[32m✔\u001b[39m \u001b[34mpurrr  \u001b[39m 0.3.4\n",
      "\u001b[32m✔\u001b[39m \u001b[34mtibble \u001b[39m 3.1.6     \u001b[32m✔\u001b[39m \u001b[34mdplyr  \u001b[39m 1.0.8\n",
      "\u001b[32m✔\u001b[39m \u001b[34mtidyr  \u001b[39m 1.2.0     \u001b[32m✔\u001b[39m \u001b[34mstringr\u001b[39m 1.4.0\n",
      "\u001b[32m✔\u001b[39m \u001b[34mreadr  \u001b[39m 2.1.2     \u001b[32m✔\u001b[39m \u001b[34mforcats\u001b[39m 0.5.1\n",
      "\n",
      "── \u001b[1mConflicts\u001b[22m ────────────────────────────────────────────────────────────────────────────────────────────────────────────────────────────────────────────────────────────────────────────────────────────────────────────────────────────────────────────────────────────────────────────── tidyverse_conflicts() ──\n",
      "\u001b[31m✖\u001b[39m \u001b[34mdplyr\u001b[39m::\u001b[32mfilter()\u001b[39m masks \u001b[34mstats\u001b[39m::filter()\n",
      "\u001b[31m✖\u001b[39m \u001b[34mdplyr\u001b[39m::\u001b[32mlag()\u001b[39m    masks \u001b[34mstats\u001b[39m::lag()\n",
      "\n",
      "\n",
      "Attaching package: ‘foreach’\n",
      "\n",
      "\n",
      "The following objects are masked from ‘package:purrr’:\n",
      "\n",
      "    accumulate, when\n",
      "\n",
      "\n",
      "Loading required package: iterators\n",
      "\n",
      "Loading required package: parallel\n",
      "\n"
     ]
    }
   ],
   "source": [
    "library(Seurat)\n",
    "library(tidyverse)\n",
    "library(foreach)\n",
    "library(doParallel)\n",
    "library(ggpubr)\n",
    "source(\"/shareb/zliu/analysis/hires_gastrulation/CHARMtools/Rlibs/plotFun.R\")"
   ]
  },
  {
   "cell_type": "code",
   "execution_count": 6,
   "metadata": {},
   "outputs": [],
   "source": [
    "cor_test_wrapper <- function(x,y,method = \"normal\"){\n",
    "    res <- tryCatch({\n",
    "        if(method == \"normal\"){\n",
    "            res <- cor.test(x,y,use=\"na.or.complete\",method = \"pearson\")\n",
    "        }\n",
    "        if(method == \"random\"){\n",
    "            y <- sample(y)\n",
    "            res <- cor.test(x,y,use=\"na.or.complete\",method = \"pearson\")\n",
    "        }\n",
    "        return(c(as.numeric(res$estimate),as.numeric(res$p.value)))\n",
    "    },error = function(cond)\n",
    "    {\n",
    "        res <- c(NA,NA)\n",
    "        return(res)\n",
    "    })\n",
    "    return(res)\n",
    "    \n",
    "}"
   ]
  },
  {
   "cell_type": "code",
   "execution_count": 2,
   "metadata": {},
   "outputs": [],
   "source": [
    "mc_hires <- readRDS(\"hires_emb_metacell.rds\")"
   ]
  },
  {
   "cell_type": "code",
   "execution_count": 3,
   "metadata": {},
   "outputs": [],
   "source": [
    "DefaultAssay(mc_hires) <- \"mc_sct\"\n",
    "FindVariableFeatures(mc_hires,nfeatures = 3000) -> mc_hires\n",
    "gene_consider <- VariableFeatures(mc_hires)"
   ]
  },
  {
   "cell_type": "code",
   "execution_count": 4,
   "metadata": {},
   "outputs": [],
   "source": [
    "distance_on_di_mc <- mc_hires[[\"mc_di\"]]@data %>% as.matrix() %>% t()\n",
    "sctRNAmat <- mc_hires[[\"mc_sct\"]]@data %>% as.matrix() %>% t() \n",
    "sctRNAmat_temp <- sctRNAmat[,gene_consider]"
   ]
  },
  {
   "cell_type": "code",
   "execution_count": 5,
   "metadata": {},
   "outputs": [
    {
     "name": "stderr",
     "output_type": "stream",
     "text": [
      "\u001b[1mRows: \u001b[22m\u001b[34m55335\u001b[39m \u001b[1mColumns: \u001b[22m\u001b[34m6\u001b[39m\n",
      "\u001b[36m──\u001b[39m \u001b[1mColumn specification\u001b[22m \u001b[36m────────────────────────────────────────────────────────────────────────────────────────────────────────────────────────────────────────────────────────────────────────────────────────────────────────────────────────────────────────────────────────────────────────────────────────────\u001b[39m\n",
      "\u001b[1mDelimiter:\u001b[22m \"\\t\"\n",
      "\u001b[31mchr\u001b[39m (4): X1, X4, X5, X6\n",
      "\u001b[32mdbl\u001b[39m (2): X2, X3\n",
      "\n",
      "\u001b[36mℹ\u001b[39m Use \u001b[30m\u001b[47m\u001b[30m\u001b[47m`spec()`\u001b[47m\u001b[30m\u001b[49m\u001b[39m to retrieve the full column specification for this data.\n",
      "\u001b[36mℹ\u001b[39m Specify the column types or set \u001b[30m\u001b[47m\u001b[30m\u001b[47m`show_col_types = FALSE`\u001b[47m\u001b[30m\u001b[49m\u001b[39m to quiet this message.\n"
     ]
    },
    {
     "data": {
      "text/html": [
       "<table class=\"dataframe\">\n",
       "<caption>A tibble: 6 × 6</caption>\n",
       "<thead>\n",
       "\t<tr><th scope=col>chrom</th><th scope=col>start</th><th scope=col>end</th><th scope=col>id</th><th scope=col>name</th><th scope=col>strand</th></tr>\n",
       "\t<tr><th scope=col>&lt;chr&gt;</th><th scope=col>&lt;dbl&gt;</th><th scope=col>&lt;dbl&gt;</th><th scope=col>&lt;chr&gt;</th><th scope=col>&lt;chr&gt;</th><th scope=col>&lt;chr&gt;</th></tr>\n",
       "</thead>\n",
       "<tbody>\n",
       "\t<tr><td>chr1</td><td>3073252</td><td>3074322</td><td>ENSMUSG00000102693.1</td><td>4933401J01Rik</td><td>+</td></tr>\n",
       "\t<tr><td>chr1</td><td>3102015</td><td>3102125</td><td>ENSMUSG00000064842.1</td><td>Gm26206      </td><td>+</td></tr>\n",
       "\t<tr><td>chr1</td><td>3205900</td><td>3671498</td><td>ENSMUSG00000051951.5</td><td>Xkr4         </td><td>-</td></tr>\n",
       "\t<tr><td>chr1</td><td>3252756</td><td>3253236</td><td>ENSMUSG00000102851.1</td><td>Gm18956      </td><td>+</td></tr>\n",
       "\t<tr><td>chr1</td><td>3365730</td><td>3368549</td><td>ENSMUSG00000103377.1</td><td>Gm37180      </td><td>-</td></tr>\n",
       "\t<tr><td>chr1</td><td>3375555</td><td>3377788</td><td>ENSMUSG00000104017.1</td><td>Gm37363      </td><td>-</td></tr>\n",
       "</tbody>\n",
       "</table>\n"
      ],
      "text/latex": [
       "A tibble: 6 × 6\n",
       "\\begin{tabular}{llllll}\n",
       " chrom & start & end & id & name & strand\\\\\n",
       " <chr> & <dbl> & <dbl> & <chr> & <chr> & <chr>\\\\\n",
       "\\hline\n",
       "\t chr1 & 3073252 & 3074322 & ENSMUSG00000102693.1 & 4933401J01Rik & +\\\\\n",
       "\t chr1 & 3102015 & 3102125 & ENSMUSG00000064842.1 & Gm26206       & +\\\\\n",
       "\t chr1 & 3205900 & 3671498 & ENSMUSG00000051951.5 & Xkr4          & -\\\\\n",
       "\t chr1 & 3252756 & 3253236 & ENSMUSG00000102851.1 & Gm18956       & +\\\\\n",
       "\t chr1 & 3365730 & 3368549 & ENSMUSG00000103377.1 & Gm37180       & -\\\\\n",
       "\t chr1 & 3375555 & 3377788 & ENSMUSG00000104017.1 & Gm37363       & -\\\\\n",
       "\\end{tabular}\n"
      ],
      "text/markdown": [
       "\n",
       "A tibble: 6 × 6\n",
       "\n",
       "| chrom &lt;chr&gt; | start &lt;dbl&gt; | end &lt;dbl&gt; | id &lt;chr&gt; | name &lt;chr&gt; | strand &lt;chr&gt; |\n",
       "|---|---|---|---|---|---|\n",
       "| chr1 | 3073252 | 3074322 | ENSMUSG00000102693.1 | 4933401J01Rik | + |\n",
       "| chr1 | 3102015 | 3102125 | ENSMUSG00000064842.1 | Gm26206       | + |\n",
       "| chr1 | 3205900 | 3671498 | ENSMUSG00000051951.5 | Xkr4          | - |\n",
       "| chr1 | 3252756 | 3253236 | ENSMUSG00000102851.1 | Gm18956       | + |\n",
       "| chr1 | 3365730 | 3368549 | ENSMUSG00000103377.1 | Gm37180       | - |\n",
       "| chr1 | 3375555 | 3377788 | ENSMUSG00000104017.1 | Gm37363       | - |\n",
       "\n"
      ],
      "text/plain": [
       "  chrom start   end     id                   name          strand\n",
       "1 chr1  3073252 3074322 ENSMUSG00000102693.1 4933401J01Rik +     \n",
       "2 chr1  3102015 3102125 ENSMUSG00000064842.1 Gm26206       +     \n",
       "3 chr1  3205900 3671498 ENSMUSG00000051951.5 Xkr4          -     \n",
       "4 chr1  3252756 3253236 ENSMUSG00000102851.1 Gm18956       +     \n",
       "5 chr1  3365730 3368549 ENSMUSG00000103377.1 Gm37180       -     \n",
       "6 chr1  3375555 3377788 ENSMUSG00000104017.1 Gm37363       -     "
      ]
     },
     "metadata": {},
     "output_type": "display_data"
    }
   ],
   "source": [
    "genes <- read_tsv(\"/share/Data/public/ref_genome/mouse_ref/M23/raw_data/gene.bed\",col_names = FALSE)\n",
    "names(genes) <- c(\"chrom\",\"start\",\"end\",\"id\",\"name\",\"strand\")\n",
    "genes <- genes %>% mutate(length = end - start) %>% arrange(desc(length)) %>% group_by(name) %>% slice(1) %>% ungroup() %>% valr::bed_sort() %>% select(-length)\n",
    "head(genes)"
   ]
  },
  {
   "cell_type": "code",
   "execution_count": 7,
   "metadata": {},
   "outputs": [
    {
     "data": {
      "text/html": [
       "<style>\n",
       ".list-inline {list-style: none; margin:0; padding: 0}\n",
       ".list-inline>li {display: inline-block}\n",
       ".list-inline>li:not(:last-child)::after {content: \"\\00b7\"; padding: 0 .5ex}\n",
       "</style>\n",
       "<ol class=list-inline><li>-0.792480484233862</li><li>2.53585068673544e-35</li></ol>\n"
      ],
      "text/latex": [
       "\\begin{enumerate*}\n",
       "\\item -0.792480484233862\n",
       "\\item 2.53585068673544e-35\n",
       "\\end{enumerate*}\n"
      ],
      "text/markdown": [
       "1. -0.792480484233862\n",
       "2. 2.53585068673544e-35\n",
       "\n",
       "\n"
      ],
      "text/plain": [
       "[1] -7.924805e-01  2.535851e-35"
      ]
     },
     "metadata": {},
     "output_type": "display_data"
    },
    {
     "data": {
      "text/html": [
       "<style>\n",
       ".list-inline {list-style: none; margin:0; padding: 0}\n",
       ".list-inline>li {display: inline-block}\n",
       ".list-inline>li:not(:last-child)::after {content: \"\\00b7\"; padding: 0 .5ex}\n",
       "</style>\n",
       "<ol class=list-inline><li>0.105612268022565</li><li>0.186607648300523</li></ol>\n"
      ],
      "text/latex": [
       "\\begin{enumerate*}\n",
       "\\item 0.105612268022565\n",
       "\\item 0.186607648300523\n",
       "\\end{enumerate*}\n"
      ],
      "text/markdown": [
       "1. 0.105612268022565\n",
       "2. 0.186607648300523\n",
       "\n",
       "\n"
      ],
      "text/plain": [
       "[1] 0.1056123 0.1866076"
      ]
     },
     "metadata": {},
     "output_type": "display_data"
    },
    {
     "data": {
      "text/html": [
       "<style>\n",
       ".list-inline {list-style: none; margin:0; padding: 0}\n",
       ".list-inline>li {display: inline-block}\n",
       ".list-inline>li:not(:last-child)::after {content: \"\\00b7\"; padding: 0 .5ex}\n",
       "</style>\n",
       "<ol class=list-inline><li>158</li><li>3000</li></ol>\n"
      ],
      "text/latex": [
       "\\begin{enumerate*}\n",
       "\\item 158\n",
       "\\item 3000\n",
       "\\end{enumerate*}\n"
      ],
      "text/markdown": [
       "1. 158\n",
       "2. 3000\n",
       "\n",
       "\n"
      ],
      "text/plain": [
       "[1]  158 3000"
      ]
     },
     "metadata": {},
     "output_type": "display_data"
    },
    {
     "data": {
      "text/html": [
       "<style>\n",
       ".list-inline {list-style: none; margin:0; padding: 0}\n",
       ".list-inline>li {display: inline-block}\n",
       ".list-inline>li:not(:last-child)::after {content: \"\\00b7\"; padding: 0 .5ex}\n",
       "</style>\n",
       "<ol class=list-inline><li>158</li><li>535780</li></ol>\n"
      ],
      "text/latex": [
       "\\begin{enumerate*}\n",
       "\\item 158\n",
       "\\item 535780\n",
       "\\end{enumerate*}\n"
      ],
      "text/markdown": [
       "1. 158\n",
       "2. 535780\n",
       "\n",
       "\n"
      ],
      "text/plain": [
       "[1]    158 535780"
      ]
     },
     "metadata": {},
     "output_type": "display_data"
    }
   ],
   "source": [
    "cor_test_wrapper(distance_on_di_mc[,\"chr18-72340000-73160000\"],sctRNAmat_temp[,\"Dcc\"]) # positive\n",
    "cor_test_wrapper(distance_on_di_mc[,\"chr18-72340000-73160000\"],sctRNAmat_temp[,\"Dcc\"],method = \"random\") # Random\n",
    "#cor_test_wrapper(distance_on_di_mc[,\"chr19-58180000-58640000\"],sctRNAmat_temp[,\"Dcc\"]) # negative\n",
    "dim(sctRNAmat_temp)\n",
    "dim(distance_on_di_mc)"
   ]
  },
  {
   "cell_type": "code",
   "execution_count": 8,
   "metadata": {},
   "outputs": [
    {
     "name": "stderr",
     "output_type": "stream",
     "text": [
      "\u001b[1mRows: \u001b[22m\u001b[34m694384\u001b[39m \u001b[1mColumns: \u001b[22m\u001b[34m13\u001b[39m\n",
      "\u001b[36m──\u001b[39m \u001b[1mColumn specification\u001b[22m \u001b[36m────────────────────────────────────────────────────────────────────────────────────────────────────────────────────────────────────────────────────────────────────────────────────────────────────────────────────────────────────────────────────────────────────────────────────────────\u001b[39m\n",
      "\u001b[1mDelimiter:\u001b[22m \"\\t\"\n",
      "\u001b[31mchr\u001b[39m (4): chrom1, chrom2, pos, celltype\n",
      "\u001b[32mdbl\u001b[39m (9): start1, end1, start2, end2, pv, FDR, diff, mat1_mean_all, mat2_mean...\n",
      "\n",
      "\u001b[36mℹ\u001b[39m Use \u001b[30m\u001b[47m\u001b[30m\u001b[47m`spec()`\u001b[47m\u001b[30m\u001b[49m\u001b[39m to retrieve the full column specification for this data.\n",
      "\u001b[36mℹ\u001b[39m Specify the column types or set \u001b[30m\u001b[47m\u001b[30m\u001b[47m`show_col_types = FALSE`\u001b[47m\u001b[30m\u001b[49m\u001b[39m to quiet this message.\n"
     ]
    }
   ],
   "source": [
    "#flank_size = 2000000\n",
    "flank_size = 500000\n",
    "alltypes_consider <- read_tsv(\"alldis.filtered.tsv.gz\")\n",
    "di_entrys <- alltypes_consider %>% mutate(chrom=chrom1,start=start1 - flank_size,end=end2+flank_size) %>% select(chrom,start,end,pos) %>% unique()\n",
    "#genes_templist <- intersect(valr::bed_intersect(genes,di_entry) %>% pull(name.x),gene_consider)\n",
    "genes_templist <- valr::bed_intersect(genes,di_entrys) %>% filter(name.x %in% gene_consider)\n",
    "genes_di_pair <- genes_templist %>% select(name.x,pos.y) \n",
    "names(genes_di_pair) <- c(\"name\",\"pos\")"
   ]
  },
  {
   "cell_type": "code",
   "execution_count": 9,
   "metadata": {},
   "outputs": [],
   "source": [
    "genes_di_pair %>% mutate(pos = str_replace_all(pos,\"_\",\"-\")) -> genes_di_pair"
   ]
  },
  {
   "cell_type": "code",
   "execution_count": 10,
   "metadata": {},
   "outputs": [
    {
     "data": {
      "text/html": [
       "<style>\n",
       ".list-inline {list-style: none; margin:0; padding: 0}\n",
       ".list-inline>li {display: inline-block}\n",
       ".list-inline>li:not(:last-child)::after {content: \"\\00b7\"; padding: 0 .5ex}\n",
       "</style>\n",
       "<ol class=list-inline><li>1174515</li><li>2</li></ol>\n"
      ],
      "text/latex": [
       "\\begin{enumerate*}\n",
       "\\item 1174515\n",
       "\\item 2\n",
       "\\end{enumerate*}\n"
      ],
      "text/markdown": [
       "1. 1174515\n",
       "2. 2\n",
       "\n",
       "\n"
      ],
      "text/plain": [
       "[1] 1174515       2"
      ]
     },
     "metadata": {},
     "output_type": "display_data"
    }
   ],
   "source": [
    "dim(genes_di_pair)"
   ]
  },
  {
   "cell_type": "code",
   "execution_count": 11,
   "metadata": {},
   "outputs": [
    {
     "name": "stdout",
     "output_type": "stream",
     "text": [
      "Time difference of 2.919335 mins\n"
     ]
    }
   ],
   "source": [
    "registerDoParallel(40)\n",
    "\n",
    "start = Sys.time()\n",
    "chunck_size = 1000\n",
    "num = floor(dim(genes_di_pair)[1]/chunck_size)\n",
    "di_gene_cor <- foreach(i = seq(num), .combine = \"rbind\", .errorhandling = \"stop\") %dopar% {\n",
    "    temp <- genes_di_pair[((i-1)*chunck_size+1):(i*chunck_size),] %>% rowwise() %>% mutate(cor = list(cor_test_wrapper(distance_on_di_mc[,pos],sctRNAmat_temp[,name]))) \n",
    "    temp <- cbind(temp[c(1,2)], t(data.frame(temp$cor))) %>% as_tibble()\n",
    "    names(temp) <- c(\"name\",\"pos\",\"cor\",\"pv\")\n",
    "    return(temp)\n",
    "}\n",
    "\n",
    "end = Sys.time()\n",
    "print(end -start)"
   ]
  },
  {
   "cell_type": "code",
   "execution_count": 12,
   "metadata": {},
   "outputs": [],
   "source": [
    "i=num + 1\n",
    "temp <- genes_di_pair[((i-1)*chunck_size+1):(i*chunck_size),]  %>% na.omit()%>% rowwise() %>% mutate(cor = list(cor_test_wrapper(distance_on_di_mc[,pos],sctRNAmat_temp[,name]))) \n",
    "temp <- cbind(temp[c(1,2)], t(data.frame(temp$cor))) %>% as_tibble()\n",
    "names(temp) <- c(\"name\",\"pos\",\"cor\",\"pv\")"
   ]
  },
  {
   "cell_type": "code",
   "execution_count": 13,
   "metadata": {},
   "outputs": [],
   "source": [
    "di_gene_cor <- rbind(di_gene_cor,temp)"
   ]
  },
  {
   "cell_type": "code",
   "execution_count": 14,
   "metadata": {},
   "outputs": [
    {
     "name": "stderr",
     "output_type": "stream",
     "text": [
      "Warning message:\n",
      "“Using `bins = 30` by default. Pick better value with the argument `bins`.”\n"
     ]
    },
    {
     "data": {
      "image/png": "[encoded data removed]",
      "text/plain": [
       "plot without title"
      ]
     },
     "metadata": {
      "image/png": {
       "height": 400,
       "width": 400
      }
     },
     "output_type": "display_data"
    }
   ],
   "source": [
    "options(repr.plot.height = 4, repr.plot.width = 4,repr.plot.res = 200)\n",
    "di_gene_cor %>% mutate(fdr = p.adjust(pv,method = \"BH\")) %>% filter(fdr < 0.01) %>% gghistogram(x=\"cor\")"
   ]
  },
  {
   "cell_type": "code",
   "execution_count": 25,
   "metadata": {},
   "outputs": [
    {
     "name": "stderr",
     "output_type": "stream",
     "text": [
      "Warning message:\n",
      "“Using `bins = 30` by default. Pick better value with the argument `bins`.”\n",
      "Warning message:\n",
      "“`legend.margin` must be specified using `margin()`. For the old behavior use legend.spacing”\n"
     ]
    },
    {
     "data": {
      "image/png": "[encoded data removed]",
      "text/plain": [
       "plot without title"
      ]
     },
     "metadata": {
      "image/png": {
       "height": 225,
       "width": 225
      }
     },
     "output_type": "display_data"
    }
   ],
   "source": [
    "options(repr.plot.height = 1.5, repr.plot.width = 1.5,repr.plot.res = 300)\n",
    "p <- di_gene_cor %>% mutate(fdr = p.adjust(pv,method = \"BH\"),cor = -cor) %>% filter(fdr < 0.01) %>% gghistogram(x=\"cor\") + theme_Publication()\n",
    "p\n",
    "p %>% ggsave(filename = \"plots/DI_cor.pdf\",width = 1.5,height=1.5,dpi = 300)"
   ]
  },
  {
   "cell_type": "code",
   "execution_count": 15,
   "metadata": {},
   "outputs": [],
   "source": [
    "di_gene_cor %>% write_tsv(\"hires_allcor.500k.tsv.gz\")"
   ]
  },
  {
   "cell_type": "code",
   "execution_count": 27,
   "metadata": {},
   "outputs": [
    {
     "name": "stderr",
     "output_type": "stream",
     "text": [
      "\u001b[1mRows: \u001b[22m\u001b[34m6298960\u001b[39m \u001b[1mColumns: \u001b[22m\u001b[34m13\u001b[39m\n",
      "\u001b[36m──\u001b[39m \u001b[1mColumn specification\u001b[22m \u001b[36m────────────────────────────────────────────────────────────────────────────────────────────────────────────────────────────────────\u001b[39m\n",
      "\u001b[1mDelimiter:\u001b[22m \"\\t\"\n",
      "\u001b[31mchr\u001b[39m (4): chrom1, chrom2, pos, celltype\n",
      "\u001b[32mdbl\u001b[39m (9): start1, end1, start2, end2, pv, FDR, diff, mat1_mean_all, mat2_mean...\n",
      "\n",
      "\u001b[36mℹ\u001b[39m Use \u001b[30m\u001b[47m\u001b[30m\u001b[47m`spec()`\u001b[47m\u001b[30m\u001b[49m\u001b[39m to retrieve the full column specification for this data.\n",
      "\u001b[36mℹ\u001b[39m Specify the column types or set \u001b[30m\u001b[47m\u001b[30m\u001b[47m`show_col_types = FALSE`\u001b[47m\u001b[30m\u001b[49m\u001b[39m to quiet this message.\n"
     ]
    },
    {
     "name": "stdout",
     "output_type": "stream",
     "text": [
      "[1] \"Chromosome 1 processing!\"\n",
      "[1] \"Chromosome 1 done!\"\n",
      "[1] \"Chromosome 2 processing!\"\n",
      "[1] \"Chromosome 2 done!\"\n",
      "[1] \"Chromosome 3 processing!\"\n",
      "[1] \"Chromosome 3 done!\"\n",
      "[1] \"Chromosome 4 processing!\"\n",
      "[1] \"Chromosome 4 done!\"\n",
      "[1] \"Chromosome 5 processing!\"\n",
      "[1] \"Chromosome 5 done!\"\n",
      "[1] \"Chromosome 6 processing!\"\n",
      "[1] \"Chromosome 6 done!\"\n",
      "[1] \"Chromosome 7 processing!\"\n",
      "[1] \"Chromosome 7 done!\"\n",
      "[1] \"Chromosome 8 processing!\"\n",
      "[1] \"Chromosome 8 done!\"\n",
      "[1] \"Chromosome 9 processing!\"\n",
      "[1] \"Chromosome 9 done!\"\n",
      "[1] \"Chromosome 10 processing!\"\n",
      "[1] \"Chromosome 10 done!\"\n",
      "[1] \"Chromosome 11 processing!\"\n",
      "[1] \"Chromosome 11 done!\"\n",
      "[1] \"Chromosome 12 processing!\"\n",
      "[1] \"Chromosome 12 done!\"\n",
      "[1] \"Chromosome 13 processing!\"\n",
      "[1] \"Chromosome 13 done!\"\n",
      "[1] \"Chromosome 14 processing!\"\n",
      "[1] \"Chromosome 14 done!\"\n",
      "[1] \"Chromosome 15 processing!\"\n",
      "[1] \"Chromosome 15 done!\"\n",
      "[1] \"Chromosome 16 processing!\"\n",
      "[1] \"Chromosome 16 done!\"\n",
      "[1] \"Chromosome 17 processing!\"\n",
      "[1] \"Chromosome 17 done!\"\n",
      "[1] \"Chromosome 18 processing!\"\n",
      "[1] \"Chromosome 18 done!\"\n",
      "[1] \"Chromosome 19 processing!\"\n",
      "[1] \"Chromosome 19 done!\"\n"
     ]
    }
   ],
   "source": [
    "paste0(\"chr\",seq(1:19))->chroms \n",
    "alldis <- read_tsv(\"alldis.tsv.gz\")\n",
    "paste0(\"di_all/Random41.\",chroms,\".tsv\") |> map(read_tsv) %>% bind_rows() %>% suppressMessages() -> random_di\n",
    "diposs <- alldis %>% pull(pos) %>% unique()\n",
    "random_di <- random_di %>% filter(!pos %in% diposs)\n",
    "random_loci <- random_di %>% pull(pos) %>% unique()\n",
    "\n",
    "chrom_mat_list_all <- list()\n",
    "for (c in seq(1:19)){\n",
    "    print(paste0(\"Chromosome \",c,\" processing!\"))\n",
    "    flush.console() \n",
    "    chrom_temp <- readRDS(paste0(\"di_mat/chr\",as.character(c),\".mat.rds.gz\"))\n",
    "    names_temp <- intersect(names(chrom_temp),random_loci)\n",
    "    chrom_mat_list_all[[c]] <- chrom_temp[,names_temp]\n",
    "    print(paste0(\"Chromosome \",c,\" done!\"))\n",
    "    flush.console()\n",
    "}\n",
    "mat_all <- chrom_mat_list_all[[1]]\n",
    "for (i in seq(1,19)){\n",
    "    mat_all <- cbind(mat_all,chrom_mat_list_all[[i]])\n",
    "}\n",
    "\n",
    "mat_all <- mat_all[,intersect(names(mat_all),random_loci)]"
   ]
  },
  {
   "cell_type": "code",
   "execution_count": 28,
   "metadata": {},
   "outputs": [],
   "source": [
    "set.seed(42) \n",
    "distance_on_di <- mat_all\n",
    "distance_on_di <- distance_on_di[c(TRUE,FALSE),] + distance_on_di[c(FALSE,TRUE),]\n",
    "distance_on_di <- as.data.frame(distance_on_di)\n",
    "rownames(distance_on_di) <- rownames(distance_on_di) %>% str_remove(\"mat\")"
   ]
  },
  {
   "cell_type": "code",
   "execution_count": 29,
   "metadata": {},
   "outputs": [
    {
     "name": "stderr",
     "output_type": "stream",
     "text": [
      "\u001b[1mRows: \u001b[22m\u001b[34m3594\u001b[39m \u001b[1mColumns: \u001b[22m\u001b[34m4\u001b[39m\n",
      "\u001b[36m──\u001b[39m \u001b[1mColumn specification\u001b[22m \u001b[36m────────────────────────────────────────────────────────────────────────────────────────────────────────────────────────────────────\u001b[39m\n",
      "\u001b[1mDelimiter:\u001b[22m \"\\t\"\n",
      "\u001b[31mchr\u001b[39m (3): cellname, mc_id, celltype\n",
      "\u001b[32mdbl\u001b[39m (1): cellnum\n",
      "\n",
      "\u001b[36mℹ\u001b[39m Use \u001b[30m\u001b[47m\u001b[30m\u001b[47m`spec()`\u001b[47m\u001b[30m\u001b[49m\u001b[39m to retrieve the full column specification for this data.\n",
      "\u001b[36mℹ\u001b[39m Specify the column types or set \u001b[30m\u001b[47m\u001b[30m\u001b[47m`show_col_types = FALSE`\u001b[47m\u001b[30m\u001b[49m\u001b[39m to quiet this message.\n"
     ]
    }
   ],
   "source": [
    "metacell_assign <- read_tsv(\"metacell_assign.txt\")"
   ]
  },
  {
   "cell_type": "code",
   "execution_count": 30,
   "metadata": {},
   "outputs": [
    {
     "name": "stderr",
     "output_type": "stream",
     "text": [
      "\u001b[1m\u001b[22mJoining, by = \"cellname\"\n"
     ]
    }
   ],
   "source": [
    "chunk_size = 10000\n",
    "split_num = floor(dim(distance_on_di)[2] / chunk_size)\n",
    "\n",
    "set.seed(42)\n",
    "registerDoParallel(30)\n",
    "distance_on_di_mc <- foreach(i = seq(split_num), .combine = \"cbind\",.errorhandling = \"stop\") %dopar% \n",
    "{   \n",
    "    distance_on_di[,((i-1)*chunk_size + 1):(i * chunk_size)]%>% rownames_to_column(\"cellname\") %>% inner_join(metacell_assign) %>% \n",
    "    select(-cellname,-celltype) %>% group_by(mc_id) %>% summarise_all(mean,na.rm=T) %>% column_to_rownames(\"mc_id\") \n",
    "}\n",
    "distance_on_di_mc <- cbind(distance_on_di_mc,distance_on_di[,(dim(distance_on_di_mc)[2]+1):dim(distance_on_di)[2]]%>% rownames_to_column(\"cellname\") %>% inner_join(metacell_assign) %>% \n",
    "    select(-cellname,-celltype) %>% group_by(mc_id) %>% summarise_all(mean,na.rm=T) %>% column_to_rownames(\"mc_id\"))"
   ]
  },
  {
   "cell_type": "code",
   "execution_count": 31,
   "metadata": {},
   "outputs": [],
   "source": [
    "flank_size = 500000\n",
    "di_entrys <- random_di %>% filter(pos %in% random_loci) %>% mutate(chrom=chrom1,start=start1 - flank_size,end=end2+flank_size) %>% select(chrom,start,end,pos) %>% unique()\n",
    "genes_templist <- valr::bed_intersect(genes,di_entrys) %>% filter(name.x %in% gene_consider)\n",
    "genes_di_pair <- genes_templist %>% select(name.x,pos.y) \n",
    "names(genes_di_pair) <- c(\"name\",\"pos\")"
   ]
  },
  {
   "cell_type": "code",
   "execution_count": 33,
   "metadata": {},
   "outputs": [
    {
     "name": "stdout",
     "output_type": "stream",
     "text": [
      "Time difference of 55.83322 mins\n"
     ]
    }
   ],
   "source": [
    "registerDoParallel(5)\n",
    "\n",
    "start = Sys.time()\n",
    "chunck_size = 1000\n",
    "num = floor(dim(genes_di_pair)[1]/chunck_size)\n",
    "di_gene_cor <- foreach(i = seq(num), .combine = \"rbind\", .errorhandling = \"stop\") %dopar% {\n",
    "    temp <- genes_di_pair[((i-1)*chunck_size+1):(i*chunck_size),] %>% rowwise() %>% mutate(cor = list(cor_test_wrapper(distance_on_di_mc[,pos],sctRNAmat_temp[,name]))) \n",
    "    temp <- cbind(temp[c(1,2)], t(data.frame(temp$cor))) %>% as_tibble()\n",
    "    names(temp) <- c(\"name\",\"pos\",\"cor\",\"pv\")\n",
    "    return(temp)\n",
    "}\n",
    "\n",
    "end = Sys.time()\n",
    "print(end -start)"
   ]
  },
  {
   "cell_type": "code",
   "execution_count": 34,
   "metadata": {},
   "outputs": [],
   "source": [
    "di_gene_cor %>% write_tsv(\"hires_allcor.random.500k.tsv.gz\")"
   ]
  },
  {
   "cell_type": "code",
   "execution_count": 41,
   "metadata": {},
   "outputs": [
    {
     "name": "stderr",
     "output_type": "stream",
     "text": [
      "\u001b[1mRows: \u001b[22m\u001b[34m1101000\u001b[39m \u001b[1mColumns: \u001b[22m\u001b[34m4\u001b[39m\n",
      "\u001b[36m──\u001b[39m \u001b[1mColumn specification\u001b[22m \u001b[36m────────────────────────────────────────────────────────────────────────────────────────────────────────────────────────────────────\u001b[39m\n",
      "\u001b[1mDelimiter:\u001b[22m \"\\t\"\n",
      "\u001b[31mchr\u001b[39m (2): name, pos\n",
      "\u001b[32mdbl\u001b[39m (2): cor, pv\n",
      "\n",
      "\u001b[36mℹ\u001b[39m Use \u001b[30m\u001b[47m\u001b[30m\u001b[47m`spec()`\u001b[47m\u001b[30m\u001b[49m\u001b[39m to retrieve the full column specification for this data.\n",
      "\u001b[36mℹ\u001b[39m Specify the column types or set \u001b[30m\u001b[47m\u001b[30m\u001b[47m`show_col_types = FALSE`\u001b[47m\u001b[30m\u001b[49m\u001b[39m to quiet this message.\n",
      "\u001b[1mRows: \u001b[22m\u001b[34m949863\u001b[39m \u001b[1mColumns: \u001b[22m\u001b[34m4\u001b[39m\n",
      "\u001b[36m──\u001b[39m \u001b[1mColumn specification\u001b[22m \u001b[36m────────────────────────────────────────────────────────────────────────────────────────────────────────────────────────────────────\u001b[39m\n",
      "\u001b[1mDelimiter:\u001b[22m \"\\t\"\n",
      "\u001b[31mchr\u001b[39m (2): name, pos\n",
      "\u001b[32mdbl\u001b[39m (2): cor, pv\n",
      "\n",
      "\u001b[36mℹ\u001b[39m Use \u001b[30m\u001b[47m\u001b[30m\u001b[47m`spec()`\u001b[47m\u001b[30m\u001b[49m\u001b[39m to retrieve the full column specification for this data.\n",
      "\u001b[36mℹ\u001b[39m Specify the column types or set \u001b[30m\u001b[47m\u001b[30m\u001b[47m`show_col_types = FALSE`\u001b[47m\u001b[30m\u001b[49m\u001b[39m to quiet this message.\n"
     ]
    }
   ],
   "source": [
    "random_cor <- read_tsv(\"hires_allcor.random.500k.tsv.gz\")%>% sample_n(949863) %>% mutate(type = \"Random\",fdr = p.adjust(pv,method = \"BH\"))\n",
    "di_cor <- read_tsv(\"hires_allcor.500k.tsv.gz\") %>% mutate(type = \"Gadi\",fdr = p.adjust(pv,method = \"BH\"))"
   ]
  },
  {
   "cell_type": "code",
   "execution_count": 42,
   "metadata": {},
   "outputs": [
    {
     "data": {
      "text/plain": [
       "     name               count        \n",
       " Length:780         Min.   :  1.000  \n",
       " Class :character   1st Qu.:  1.000  \n",
       " Mode  :character   Median :  3.000  \n",
       "                    Mean   :  8.521  \n",
       "                    3rd Qu.:  8.000  \n",
       "                    Max.   :126.000  "
      ]
     },
     "metadata": {},
     "output_type": "display_data"
    }
   ],
   "source": [
    "random_cor %>% filter(fdr < 0.01) %>% group_by(name) %>% summarise(count = n()) %>% summary()"
   ]
  },
  {
   "cell_type": "code",
   "execution_count": 43,
   "metadata": {},
   "outputs": [],
   "source": [
    "di_gene_cor <- rbind(di_cor, random_cor)"
   ]
  },
  {
   "cell_type": "markdown",
   "metadata": {},
   "source": [
    "# Random control by shuffle gene"
   ]
  },
  {
   "cell_type": "code",
   "execution_count": 16,
   "metadata": {},
   "outputs": [
    {
     "name": "stdout",
     "output_type": "stream",
     "text": [
      "Time difference of 2.858414 mins\n"
     ]
    }
   ],
   "source": [
    "registerDoParallel(60)\n",
    "\n",
    "start = Sys.time()\n",
    "chunck_size = 1000\n",
    "num = floor(dim(genes_di_pair)[1]/chunck_size)\n",
    "di_gene_cor_random <- foreach(i = seq(num), .combine = \"rbind\", .errorhandling = \"stop\") %dopar% {\n",
    "    temp <- genes_di_pair[((i-1)*chunck_size+1):(i*chunck_size),] %>% rowwise() %>% mutate(cor = list(cor_test_wrapper(distance_on_di_mc[,pos],sctRNAmat_temp[,name],method=\"random\"))) \n",
    "    temp <- cbind(temp[c(1,2)], t(data.frame(temp$cor))) %>% as_tibble()\n",
    "    names(temp) <- c(\"name\",\"pos\",\"cor\",\"pv\")\n",
    "    return(temp)\n",
    "}\n",
    "\n",
    "end = Sys.time()\n",
    "print(end -start)"
   ]
  },
  {
   "cell_type": "code",
   "execution_count": 17,
   "metadata": {},
   "outputs": [],
   "source": [
    "i=num + 1\n",
    "temp <- genes_di_pair[((i-1)*chunck_size+1):(i*chunck_size),]  %>% na.omit()%>% rowwise() %>% mutate(cor = list(cor_test_wrapper(distance_on_di_mc[,pos],sctRNAmat_temp[,name],method=\"random\"))) \n",
    "temp <- cbind(temp[c(1,2)], t(data.frame(temp$cor))) %>% as_tibble()\n",
    "names(temp) <- c(\"name\",\"pos\",\"cor\",\"pv\")\n",
    "di_gene_cor_random <- rbind(di_gene_cor_random,temp)"
   ]
  },
  {
   "cell_type": "code",
   "execution_count": 34,
   "metadata": {},
   "outputs": [],
   "source": [
    "di_gene_cor_random %>% write_tsv(\"hires_allcor.random.500k.tsv.gz\")"
   ]
  },
  {
   "cell_type": "code",
   "execution_count": 28,
   "metadata": {},
   "outputs": [],
   "source": [
    "compare <- rbind(di_gene_cor %>% mutate(type = \"GADI\"),di_gene_cor_random %>% mutate(type=\"Shuffle\")) %>% mutate(cor = - cor)"
   ]
  },
  {
   "cell_type": "code",
   "execution_count": 29,
   "metadata": {},
   "outputs": [
    {
     "name": "stderr",
     "output_type": "stream",
     "text": [
      "Warning message:\n",
      "“Using `bins = 30` by default. Pick better value with the argument `bins`.”\n",
      "Warning message:\n",
      "“`legend.margin` must be specified using `margin()`. For the old behavior use legend.spacing”\n"
     ]
    },
    {
     "data": {
      "image/png": "[encoded data removed]",
      "text/plain": [
       "plot without title"
      ]
     },
     "metadata": {
      "image/png": {
       "height": 400,
       "width": 400
      }
     },
     "output_type": "display_data"
    }
   ],
   "source": [
    "options(repr.plot.height = 4, repr.plot.width = 4,repr.plot.res = 200)\n",
    "p <- compare %>% gghistogram(x=\"cor\",fill = \"type\") + theme_Publication()\n",
    "p\n",
    "p %>% ggsave(filename = \"gadi_control_histogram.pdf\",width = 2, height = 2, dpi=300)"
   ]
  },
  {
   "cell_type": "code",
   "execution_count": null,
   "metadata": {},
   "outputs": [],
   "source": []
  },
  {
   "cell_type": "code",
   "execution_count": 45,
   "metadata": {},
   "outputs": [],
   "source": [
    "compare %>% group_by(type) %>% mutate(fdr = p.adjust(pv,method=\"BH\")) %>% filter(fdr < 0.01) -> compare_significant"
   ]
  },
  {
   "cell_type": "code",
   "execution_count": 47,
   "metadata": {},
   "outputs": [
    {
     "name": "stderr",
     "output_type": "stream",
     "text": [
      "Warning message:\n",
      "“Using `bins = 30` by default. Pick better value with the argument `bins`.”\n",
      "Warning message:\n",
      "“`legend.margin` must be specified using `margin()`. For the old behavior use legend.spacing”\n"
     ]
    }
   ],
   "source": [
    "p <- compare_significant %>% gghistogram(x=\"cor\",fill = \"type\") + theme_Publication()\n",
    "p %>% ggsave(filename = \"plots/gadi_significant_histogram.pdf\",width = 1.5, height = 1.5, dpi=300)"
   ]
  }
 ],
 "metadata": {
  "kernelspec": {
   "display_name": "R 4.1",
   "language": "R",
   "name": "ir41"
  },
  "language_info": {
   "codemirror_mode": "r",
   "file_extension": ".r",
   "mimetype": "text/x-r-source",
   "name": "R",
   "pygments_lexer": "r",
   "version": "4.1.1"
  }
 },
 "nbformat": 4,
 "nbformat_minor": 4
}
