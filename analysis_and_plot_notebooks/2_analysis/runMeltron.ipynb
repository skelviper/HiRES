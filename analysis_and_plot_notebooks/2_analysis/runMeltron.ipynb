{
 "cells": [
  {
   "cell_type": "code",
   "execution_count": 1,
   "metadata": {},
   "outputs": [],
   "source": [
    "import pandas as pd\n",
    "import numpy as np\n",
    "import cooler\n",
    "import cooltools\n",
    "import matplotlib.pyplot as plt\n",
    "from scipy.stats import kstest"
   ]
  },
  {
   "cell_type": "code",
   "execution_count": 3,
   "metadata": {},
   "outputs": [],
   "source": [
    "genes_bed = pd.read_csv(\"/share/Data/public/ref_genome/mouse_ref/M23/raw_data/gene.bed\",sep=\"\\t\")\n",
    "genes_bed.columns = [\"chrom\",\"start\",\"end\",\"gene_id\",\"name\",\"strand\"]\n",
    "longgenes_bed = genes_bed.query('end - start > 300000')"
   ]
  },
  {
   "cell_type": "code",
   "execution_count": 4,
   "metadata": {},
   "outputs": [],
   "source": [
    "class insulation_gene:\n",
    "    def __init__(self,name,chrom,start,end,matrix) -> None:\n",
    "        self.name = name\n",
    "        self.chrom = chrom\n",
    "        self.start = start\n",
    "        self.end = end\n",
    "        self.matrix = matrix\n",
    "\n",
    "# get insulation matrix for each gene\n",
    "def get_insulation_matrix_for_celltype(insulation_table:pd.DataFrame,genes_bed:pd.DataFrame) -> list:\n",
    "    res = []\n",
    "    resolution = int(insulation_table.iloc[:1,].end - insulation_table.iloc[:1,].start)\n",
    "    for gene_entry in genes_bed.itertuples():\n",
    "        gene_name = gene_entry.name\n",
    "        gene_chrom = gene_entry.chrom\n",
    "        gene_start = gene_entry.start\n",
    "        gene_end = gene_entry.end\n",
    "\n",
    "        temp_start = gene_start // resolution * resolution \n",
    "        temp_end = gene_end // resolution * resolution + resolution\n",
    "        columns = [\"log2_insulation_score_\" + str(reso) for reso in windows]\n",
    "        gene_matrix = insulation_table.query('chrom == @gene_chrom & @temp_start <= start & @temp_end >= end')[columns].values\n",
    "        gene_matrix = np.rot90(gene_matrix)\n",
    "\n",
    "        res.append(insulation_gene(gene_name,gene_chrom,gene_start,gene_end,gene_matrix))\n",
    "\n",
    "    return res\n",
    "\n",
    "def multiple_testing_correction(pvalues, correction_type=\"FDR\"):\n",
    "    \"\"\"\n",
    "    Consistent with R - print\n",
    "    multiple_testing_correction(np.array or list , correction_type from [\"FDR\",\"Bonferroni\",\"Bonferroni-Holm\"])\n",
    "    reference: https://github.com/CoBiG2/cobig_misc_scripts/blob/master/FDR.py\n",
    "    \"\"\"\n",
    "    from numpy import array, empty\n",
    "    pvalues = array(pvalues)\n",
    "    sample_size = pvalues.shape[0]\n",
    "    qvalues = empty(sample_size)\n",
    "    if correction_type == \"Bonferroni\":\n",
    "        # Bonferroni correction\n",
    "        qvalues = sample_size * pvalues\n",
    "    elif correction_type == \"Bonferroni-Holm\":\n",
    "        # Bonferroni-Holm correction\n",
    "        values = [(pvalue, i) for i, pvalue in enumerate(pvalues)]\n",
    "        values.sort()\n",
    "        for rank, vals in enumerate(values):\n",
    "            pvalue, i = vals\n",
    "            qvalues[i] = (sample_size-rank) * pvalue\n",
    "    elif correction_type == \"FDR\":\n",
    "        # Benjamini-Hochberg, AKA - FDR test\n",
    "        values = [(pvalue, i) for i, pvalue in enumerate(pvalues)]\n",
    "        values.sort()\n",
    "        values.reverse()\n",
    "        new_values = []\n",
    "        for i, vals in enumerate(values):\n",
    "            rank = sample_size - i\n",
    "            pvalue, index = vals\n",
    "            new_values.append((sample_size/rank) * pvalue)\n",
    "        for i in range(0, int(sample_size)-1):\n",
    "            if new_values[i] < new_values[i+1]:\n",
    "                new_values[i+1] = new_values[i]\n",
    "        for i, vals in enumerate(values):\n",
    "            pvalue, index = vals\n",
    "            qvalues[index] = new_values[i]\n",
    "    return qvalues"
   ]
  },
  {
   "cell_type": "code",
   "execution_count": 5,
   "metadata": {},
   "outputs": [],
   "source": [
    "# load cooler\n",
    "epi = cooler.Cooler(\"/shareb/zliu/analysis/hires_mouse_dev/figure3_related/pileup/processed/mcools/epiblast_and_PS.balanced.mcool::/resolutions/20000\")\n",
    "ex1 = cooler.Cooler(\"/shareb/zliu/analysis/hires_validation/BulkProcess/Ex1.3d20k.cool\")\n",
    "in1 = cooler.Cooler(\"/shareb/zliu/analysis/hires_validation/BulkProcess/In1.3d20k.cool\")"
   ]
  },
  {
   "cell_type": "code",
   "execution_count": 9,
   "metadata": {},
   "outputs": [],
   "source": [
    "# calculate insulation matrix\n",
    "from itertools import repeat\n",
    "windows = [100000*(i+1) for i in range(10)]\n",
    "from multiprocessing import Pool\n",
    "coolerList = [ex1,in1,epi]\n",
    "\n",
    "insulations = []\n",
    "def insulation_multi_wrapper(args):\n",
    "    return cooltools.api.insulation.insulation(*args)\n",
    "with Pool(10) as p:\n",
    "    insulations = p.map(insulation_multi_wrapper,list(zip(coolerList,list(repeat(windows,len(coolerList))))))\n",
    "            \n",
    "ex1_insulation, in1_insulation, epi_insulation = insulations"
   ]
  },
  {
   "cell_type": "code",
   "execution_count": 10,
   "metadata": {},
   "outputs": [],
   "source": [
    "#list of coord to bed file\n",
    "def coord_to_bed(coord_list:list) -> pd.DataFrame:\n",
    "    res = []\n",
    "    for coord in coord_list:\n",
    "        res.append([coord[0],int(coord[1]),int(coord[2]),coord[3]])\n",
    "    return pd.DataFrame(res,columns=[\"chrom\",\"start\",\"end\",\"name\"])\n",
    "\n",
    "coords_select = [\"chr13:42500000-43500000-Phactr1\",\n",
    "                 \"chr4:75800000-78300000-Ptprd\"]\n",
    "# spilt sep by : and -\n",
    "import re\n",
    "coords_select = [re.split(\"[:-]\",i) for i in coords_select]\n",
    "\n",
    "bed_select = coord_to_bed(coords_select)"
   ]
  },
  {
   "cell_type": "code",
   "execution_count": 11,
   "metadata": {},
   "outputs": [
    {
     "data": {
      "image/png": "[encoded data removed]",
      "text/plain": [
       "<Figure size 432x432 with 4 Axes>"
      ]
     },
     "metadata": {
      "needs_background": "light"
     },
     "output_type": "display_data"
    },
    {
     "data": {
      "image/png": "[encoded data removed]",
      "text/plain": [
       "<Figure size 432x432 with 4 Axes>"
      ]
     },
     "metadata": {
      "needs_background": "light"
     },
     "output_type": "display_data"
    }
   ],
   "source": [
    "import seaborn as sns\n",
    "\n",
    "ex1_select_matrix = get_insulation_matrix_for_celltype(ex1_insulation,bed_select)\n",
    "in1_select_matrix = get_insulation_matrix_for_celltype(in1_insulation,bed_select)\n",
    "\n",
    "f,ax = plt.subplots(len(ex1_select_matrix),1,figsize=(3*len(ex1_select_matrix),6))\n",
    "\n",
    "for i in range(len(ax)):\n",
    "    ax[i] = sns.heatmap(ex1_select_matrix[i].matrix,ax=ax[i],cmap=\"RdBu_r\",vmin=-1,vmax=1)\n",
    "    ax[i].axis('off')\n",
    "plt.show()\n",
    "f.savefig(\"example_insulation_plot/ex1_select_matrix.svg\",dpi=300)\n",
    "\n",
    "\n",
    "\n",
    "f,ax = plt.subplots(len(ex1_select_matrix),1,figsize=(3*len(ex1_select_matrix),6))\n",
    "\n",
    "for i in range(len(ax)):\n",
    "    ax[i] = sns.heatmap(in1_select_matrix[i].matrix,ax=ax[i],cmap=\"RdBu_r\",vmin=-1,vmax=1)\n",
    "    ax[i].axis('off')\n",
    "plt.show()\n",
    "f.savefig(\"example_insulation_plot/in1_select_matrix.svg\",dpi=300)"
   ]
  },
  {
   "cell_type": "code",
   "execution_count": null,
   "metadata": {},
   "outputs": [],
   "source": []
  },
  {
   "cell_type": "code",
   "execution_count": null,
   "metadata": {},
   "outputs": [],
   "source": [
    "def get_insulation_matrix_for_celltype_multi_wrapper(args):\n",
    "    return get_insulation_matrix_for_celltype(*args)\n",
    "with Pool(10) as p:\n",
    "    insulations_matrix = p.map(get_insulation_matrix_for_celltype_multi_wrapper,list(zip(insulations,list(repeat(longgenes_bed_flank,len(coolerList))))))\n"
   ]
  },
  {
   "cell_type": "code",
   "execution_count": null,
   "metadata": {},
   "outputs": [],
   "source": [
    "ex1_insulation_matrix, in1_insulation_matrix, epi_insulation_matrix =insulations_matrix"
   ]
  },
  {
   "cell_type": "code",
   "execution_count": null,
   "metadata": {},
   "outputs": [],
   "source": [
    "def calcMELSCORE(outpath,insumatrix_greater:list,insumatrix_smaller,longgenes_bed):\n",
    "    MELSCORE =-np.log10(multiple_testing_correction([kstest(insumatrix_greater[i].matrix.reshape(1,-1)[0],insumatrix_smaller[i].matrix.reshape(1,-1)[0],alternative=\"greater\").pvalue for i in range(len(longgenes_bed))]))\n",
    "    DIFF = [np.nanmean(insumatrix_greater[i].matrix) - np.nanmean(insumatrix_smaller[i].matrix) for i in range(len(longgenes_bed))]\n",
    "    longgenes_bed.loc[:,\"Melscore\"] = MELSCORE\n",
    "    longgenes_bed.loc[:,\"Diff\"] = DIFF\n",
    "    longgenes_bed.to_csv(outpath,index=False,sep=\"\\t\")"
   ]
  },
  {
   "cell_type": "code",
   "execution_count": 104,
   "metadata": {},
   "outputs": [
    {
     "name": "stderr",
     "output_type": "stream",
     "text": [
      "/tmp/ipykernel_221118/3812210554.py:3: RuntimeWarning: Mean of empty slice\n",
      "  DIFF = [np.nanmean(insumatrix_greater[i].matrix) - np.nanmean(insumatrix_smaller[i].matrix) for i in range(len(longgenes_bed))]\n",
      "/tmp/ipykernel_221118/3812210554.py:4: SettingWithCopyWarning: \n",
      "A value is trying to be set on a copy of a slice from a DataFrame.\n",
      "Try using .loc[row_indexer,col_indexer] = value instead\n",
      "\n",
      "See the caveats in the documentation: https://pandas.pydata.org/pandas-docs/stable/user_guide/indexing.html#returning-a-view-versus-a-copy\n",
      "  longgenes_bed.loc[:,\"Melscore\"] = MELSCORE\n",
      "/tmp/ipykernel_221118/3812210554.py:5: SettingWithCopyWarning: \n",
      "A value is trying to be set on a copy of a slice from a DataFrame.\n",
      "Try using .loc[row_indexer,col_indexer] = value instead\n",
      "\n",
      "See the caveats in the documentation: https://pandas.pydata.org/pandas-docs/stable/user_guide/indexing.html#returning-a-view-versus-a-copy\n",
      "  longgenes_bed.loc[:,\"Diff\"] = DIFF\n",
      "/tmp/ipykernel_221118/3812210554.py:2: RuntimeWarning: divide by zero encountered in log10\n",
      "  MELSCORE =-np.log10(multiple_testing_correction([kstest(insumatrix_greater[i].matrix.reshape(1,-1)[0],insumatrix_smaller[i].matrix.reshape(1,-1)[0],alternative=\"greater\").pvalue for i in range(len(longgenes_bed))]))\n"
     ]
    }
   ],
   "source": [
    "#output melscore matrix for intersing celltypes\n",
    "#calcMELSCORE(\"ex1_epi.longgene.bed\",ex1_insulation_matrix,epi_insulation_matrix,longgenes_bed)\n",
    "#calcMELSCORE(\"in1_epi.longgene.bed\",in1_insulation_matrix,epi_insulation_matrix,longgenes_bed)\n",
    "calcMELSCORE(\"ex1_in1.longgene.bed\",ex1_insulation_matrix,in1_insulation_matrix,longgenes_bed)\n",
    "calcMELSCORE(\"in1_ex1.longgene.bed\",in1_insulation_matrix,ex1_insulation_matrix,longgenes_bed)"
   ]
  },
  {
   "cell_type": "code",
   "execution_count": null,
   "metadata": {},
   "outputs": [],
   "source": [
    "id = 345\n",
    "print(epi_insulation_matrix[id].name)\n",
    "f,ax = plt.subplots(3,1,figsize=(12,6))\n",
    "\n",
    "ax[0].imshow(ex1_insulation_matrix[id].matrix,cmap=\"RdBu_r\",vmin=-1,vmax=1)\n",
    "ax[1].imshow(in1_insulation_matrix[id].matrix,cmap=\"RdBu_r\",vmin=-1,vmax=1)\n",
    "ax[2].imshow(epi_insulation_matrix[id].matrix,cmap=\"RdBu_r\",vmin=-1,vmax=1)\n",
    "\n",
    "for i in range(len(ax)):\n",
    "    ax[i].axis('off')\n",
    "plt.show()"
   ]
  },
  {
   "cell_type": "code",
   "execution_count": 89,
   "metadata": {},
   "outputs": [],
   "source": [
    "import cooltools.lib.plotting"
   ]
  },
  {
   "cell_type": "code",
   "execution_count": 90,
   "metadata": {},
   "outputs": [
    {
     "name": "stdout",
     "output_type": "stream",
     "text": [
      "2024290\n",
      "516740\n"
     ]
    }
   ],
   "source": [
    "print(ex1.matrix(balance=False).fetch(\"chr10:26,489,253-29,529,078\").sum())\n",
    "print(in1.matrix(balance=False).fetch(\"chr10:26,489,253-29,529,078\").sum())"
   ]
  },
  {
   "cell_type": "code",
   "execution_count": 91,
   "metadata": {},
   "outputs": [
    {
     "name": "stderr",
     "output_type": "stream",
     "text": [
      "/tmp/ipykernel_221118/3546477243.py:3: RuntimeWarning: divide by zero encountered in log2\n",
      "  ax[0].imshow(np.log2(ex1.matrix(balance=True).fetch(\"chr10:27774819-28797397\")),cmap=\"fall\")#,vmin=0,vmax=20)\n",
      "/tmp/ipykernel_221118/3546477243.py:4: RuntimeWarning: divide by zero encountered in log2\n",
      "  ax[1].imshow(np.log2(in1.matrix(balance=True).fetch(\"chr10:27774819-28797397\")),cmap=\"fall\")\n"
     ]
    },
    {
     "data": {
      "text/plain": [
       "<matplotlib.image.AxesImage at 0x2aef82dbd910>"
      ]
     },
     "execution_count": 91,
     "metadata": {},
     "output_type": "execute_result"
    },
    {
     "data": {
      "image/png": "[encoded data removed]",
      "text/plain": [
       "<Figure size 900x1800 with 2 Axes>"
      ]
     },
     "metadata": {
      "needs_background": "light"
     },
     "output_type": "display_data"
    }
   ],
   "source": [
    "f,ax = plt.subplots(1,2,figsize=(6,12),dpi=150)\n",
    "\n",
    "ax[0].imshow(np.log2(ex1.matrix(balance=True).fetch(\"chr10:27774819-28797397\")),cmap=\"fall\")#,vmin=0,vmax=20)\n",
    "ax[1].imshow(np.log2(in1.matrix(balance=True).fetch(\"chr10:27774819-28797397\")),cmap=\"fall\")\n",
    "#ax[2].imshow(epi_insulation_matrix[id].matrix,cmap=\"RdBu_r\",vmin=-1,vmax=1)"
   ]
  },
  {
   "cell_type": "code",
   "execution_count": null,
   "metadata": {},
   "outputs": [],
   "source": []
  },
  {
   "cell_type": "code",
   "execution_count": 92,
   "metadata": {},
   "outputs": [
    {
     "name": "stdout",
     "output_type": "stream",
     "text": [
      "Rbfox1\n"
     ]
    },
    {
     "data": {
      "image/png": "[encoded data removed]",
      "text/plain": [
       "<Figure size 864x432 with 3 Axes>"
      ]
     },
     "metadata": {
      "needs_background": "light"
     },
     "output_type": "display_data"
    }
   ],
   "source": [
    "id = 505\n",
    "print(epi_insulation_matrix[id].name)\n",
    "f,ax = plt.subplots(3,1,figsize=(12,6))\n",
    "\n",
    "ax[0].imshow(ex1_insulation_matrix[id].matrix,cmap=\"RdBu_r\",vmin=-1,vmax=1)\n",
    "ax[1].imshow(in1_insulation_matrix[id].matrix,cmap=\"RdBu_r\",vmin=-1,vmax=1)\n",
    "ax[2].imshow(epi_insulation_matrix[id].matrix,cmap=\"RdBu_r\",vmin=-1,vmax=1)\n",
    "\n",
    "for i in range(len(ax)):\n",
    "    ax[i].axis('off')\n",
    "plt.show()"
   ]
  },
  {
   "cell_type": "code",
   "execution_count": 52,
   "metadata": {},
   "outputs": [
    {
     "data": {
      "text/html": [
       "<div>\n",
       "<style scoped>\n",
       "    .dataframe tbody tr th:only-of-type {\n",
       "        vertical-align: middle;\n",
       "    }\n",
       "\n",
       "    .dataframe tbody tr th {\n",
       "        vertical-align: top;\n",
       "    }\n",
       "\n",
       "    .dataframe thead th {\n",
       "        text-align: right;\n",
       "    }\n",
       "</style>\n",
       "<table border=\"1\" class=\"dataframe\">\n",
       "  <thead>\n",
       "    <tr style=\"text-align: right;\">\n",
       "      <th></th>\n",
       "      <th>chrom</th>\n",
       "      <th>start</th>\n",
       "      <th>end</th>\n",
       "      <th>gene_id</th>\n",
       "      <th>name</th>\n",
       "      <th>strand</th>\n",
       "      <th>Melscore</th>\n",
       "    </tr>\n",
       "  </thead>\n",
       "  <tbody>\n",
       "    <tr>\n",
       "      <th>139</th>\n",
       "      <td>chr4</td>\n",
       "      <td>75941237</td>\n",
       "      <td>78211961</td>\n",
       "      <td>ENSMUSG00000028399.18</td>\n",
       "      <td>Ptprd</td>\n",
       "      <td>-</td>\n",
       "      <td>68.705581</td>\n",
       "    </tr>\n",
       "    <tr>\n",
       "      <th>531</th>\n",
       "      <td>chr17</td>\n",
       "      <td>30459501</td>\n",
       "      <td>30923831</td>\n",
       "      <td>ENSMUSG00000118341.1</td>\n",
       "      <td>Gm50252</td>\n",
       "      <td>-</td>\n",
       "      <td>39.874668</td>\n",
       "    </tr>\n",
       "    <tr>\n",
       "      <th>461</th>\n",
       "      <td>chr14</td>\n",
       "      <td>38368951</td>\n",
       "      <td>39473088</td>\n",
       "      <td>ENSMUSG00000041014.17</td>\n",
       "      <td>Nrg3</td>\n",
       "      <td>-</td>\n",
       "      <td>36.220024</td>\n",
       "    </tr>\n",
       "    <tr>\n",
       "      <th>178</th>\n",
       "      <td>chr5</td>\n",
       "      <td>48389501</td>\n",
       "      <td>49524907</td>\n",
       "      <td>ENSMUSG00000029088.16</td>\n",
       "      <td>Kcnip4</td>\n",
       "      <td>-</td>\n",
       "      <td>33.235521</td>\n",
       "    </tr>\n",
       "    <tr>\n",
       "      <th>225</th>\n",
       "      <td>chr6</td>\n",
       "      <td>80018876</td>\n",
       "      <td>80810143</td>\n",
       "      <td>ENSMUSG00000052581.13</td>\n",
       "      <td>Lrrtm4</td>\n",
       "      <td>+</td>\n",
       "      <td>29.046052</td>\n",
       "    </tr>\n",
       "    <tr>\n",
       "      <th>363</th>\n",
       "      <td>chr10</td>\n",
       "      <td>108497649</td>\n",
       "      <td>109010982</td>\n",
       "      <td>ENSMUSG00000035864.14</td>\n",
       "      <td>Syt1</td>\n",
       "      <td>-</td>\n",
       "      <td>28.606930</td>\n",
       "    </tr>\n",
       "    <tr>\n",
       "      <th>239</th>\n",
       "      <td>chr6</td>\n",
       "      <td>110645580</td>\n",
       "      <td>111567230</td>\n",
       "      <td>ENSMUSG00000056755.13</td>\n",
       "      <td>Grm7</td>\n",
       "      <td>+</td>\n",
       "      <td>28.045163</td>\n",
       "    </tr>\n",
       "    <tr>\n",
       "      <th>54</th>\n",
       "      <td>chr2</td>\n",
       "      <td>6539693</td>\n",
       "      <td>7509563</td>\n",
       "      <td>ENSMUSG00000002107.18</td>\n",
       "      <td>Celf2</td>\n",
       "      <td>-</td>\n",
       "      <td>27.198266</td>\n",
       "    </tr>\n",
       "    <tr>\n",
       "      <th>31</th>\n",
       "      <td>chr1</td>\n",
       "      <td>115684755</td>\n",
       "      <td>116587323</td>\n",
       "      <td>ENSMUSG00000070695.4</td>\n",
       "      <td>Cntnap5a</td>\n",
       "      <td>+</td>\n",
       "      <td>26.416019</td>\n",
       "    </tr>\n",
       "    <tr>\n",
       "      <th>242</th>\n",
       "      <td>chr6</td>\n",
       "      <td>135713232</td>\n",
       "      <td>136173511</td>\n",
       "      <td>ENSMUSG00000030209.14</td>\n",
       "      <td>Grin2b</td>\n",
       "      <td>-</td>\n",
       "      <td>25.898459</td>\n",
       "    </tr>\n",
       "  </tbody>\n",
       "</table>\n",
       "</div>"
      ],
      "text/plain": [
       "     chrom      start        end                gene_id      name strand  \\\n",
       "139   chr4   75941237   78211961  ENSMUSG00000028399.18     Ptprd      -   \n",
       "531  chr17   30459501   30923831   ENSMUSG00000118341.1   Gm50252      -   \n",
       "461  chr14   38368951   39473088  ENSMUSG00000041014.17      Nrg3      -   \n",
       "178   chr5   48389501   49524907  ENSMUSG00000029088.16    Kcnip4      -   \n",
       "225   chr6   80018876   80810143  ENSMUSG00000052581.13    Lrrtm4      +   \n",
       "363  chr10  108497649  109010982  ENSMUSG00000035864.14      Syt1      -   \n",
       "239   chr6  110645580  111567230  ENSMUSG00000056755.13      Grm7      +   \n",
       "54    chr2    6539693    7509563  ENSMUSG00000002107.18     Celf2      -   \n",
       "31    chr1  115684755  116587323   ENSMUSG00000070695.4  Cntnap5a      +   \n",
       "242   chr6  135713232  136173511  ENSMUSG00000030209.14    Grin2b      -   \n",
       "\n",
       "      Melscore  \n",
       "139  68.705581  \n",
       "531  39.874668  \n",
       "461  36.220024  \n",
       "178  33.235521  \n",
       "225  29.046052  \n",
       "363  28.606930  \n",
       "239  28.045163  \n",
       "54   27.198266  \n",
       "31   26.416019  \n",
       "242  25.898459  "
      ]
     },
     "execution_count": 52,
     "metadata": {},
     "output_type": "execute_result"
    }
   ],
   "source": [
    "pd.read_csv(\"./ex1_in1.longgene.bed\",sep=\"\\t\").sort_values(\"Melscore\",ascending=False).head(10)"
   ]
  }
 ],
 "metadata": {
  "kernelspec": {
   "display_name": "hic2",
   "language": "python",
   "name": "hic2"
  },
  "language_info": {
   "codemirror_mode": {
    "name": "ipython",
    "version": 3
   },
   "file_extension": ".py",
   "mimetype": "text/x-python",
   "name": "python",
   "nbconvert_exporter": "python",
   "pygments_lexer": "ipython3",
   "version": "3.8.12"
  }
 },
 "nbformat": 4,
 "nbformat_minor": 4
}
