{
 "cells": [
  {
   "cell_type": "code",
   "execution_count": 3,
   "metadata": {
    "vscode": {
     "languageId": "r"
    }
   },
   "outputs": [
    {
     "name": "stderr",
     "output_type": "stream",
     "text": [
      "\n",
      "\u001b[36m──\u001b[39m \u001b[1mColumn specification\u001b[22m \u001b[36m────────────────────────────────────────────────────────\u001b[39m\n",
      "cols(\n",
      "  X1 = \u001b[31mcol_character()\u001b[39m,\n",
      "  X2 = \u001b[32mcol_double()\u001b[39m\n",
      ")\n",
      "\n",
      "\n",
      "\u001b[36m──\u001b[39m \u001b[1mColumn specification\u001b[22m \u001b[36m────────────────────────────────────────────────────────\u001b[39m\n",
      "cols(\n",
      "  X1 = \u001b[31mcol_character()\u001b[39m,\n",
      "  X2 = \u001b[32mcol_double()\u001b[39m\n",
      ")\n",
      "\n",
      "\n",
      "\u001b[36m──\u001b[39m \u001b[1mColumn specification\u001b[22m \u001b[36m────────────────────────────────────────────────────────\u001b[39m\n",
      "cols(\n",
      "  X1 = \u001b[31mcol_character()\u001b[39m,\n",
      "  X2 = \u001b[32mcol_double()\u001b[39m\n",
      ")\n",
      "\n",
      "\n",
      "\u001b[36m──\u001b[39m \u001b[1mColumn specification\u001b[22m \u001b[36m────────────────────────────────────────────────────────\u001b[39m\n",
      "cols(\n",
      "  X1 = \u001b[31mcol_character()\u001b[39m,\n",
      "  X2 = \u001b[32mcol_double()\u001b[39m\n",
      ")\n",
      "\n",
      "\n",
      "\u001b[36m──\u001b[39m \u001b[1mColumn specification\u001b[22m \u001b[36m────────────────────────────────────────────────────────\u001b[39m\n",
      "cols(\n",
      "  X1 = \u001b[31mcol_character()\u001b[39m,\n",
      "  X2 = \u001b[32mcol_double()\u001b[39m\n",
      ")\n",
      "\n",
      "\n",
      "\u001b[36m──\u001b[39m \u001b[1mColumn specification\u001b[22m \u001b[36m────────────────────────────────────────────────────────\u001b[39m\n",
      "cols(\n",
      "  X1 = \u001b[31mcol_character()\u001b[39m,\n",
      "  X2 = \u001b[32mcol_double()\u001b[39m\n",
      ")\n",
      "\n",
      "\n",
      "\u001b[36m──\u001b[39m \u001b[1mColumn specification\u001b[22m \u001b[36m────────────────────────────────────────────────────────\u001b[39m\n",
      "cols(\n",
      "  X1 = \u001b[31mcol_character()\u001b[39m,\n",
      "  X2 = \u001b[32mcol_double()\u001b[39m\n",
      ")\n",
      "\n",
      "\n",
      "\u001b[36m──\u001b[39m \u001b[1mColumn specification\u001b[22m \u001b[36m────────────────────────────────────────────────────────\u001b[39m\n",
      "cols(\n",
      "  X1 = \u001b[31mcol_character()\u001b[39m,\n",
      "  X2 = \u001b[32mcol_double()\u001b[39m\n",
      ")\n",
      "\n",
      "\n",
      "\u001b[36m──\u001b[39m \u001b[1mColumn specification\u001b[22m \u001b[36m────────────────────────────────────────────────────────\u001b[39m\n",
      "cols(\n",
      "  X1 = \u001b[31mcol_character()\u001b[39m,\n",
      "  X2 = \u001b[32mcol_double()\u001b[39m\n",
      ")\n",
      "\n",
      "\n",
      "\u001b[36m──\u001b[39m \u001b[1mColumn specification\u001b[22m \u001b[36m────────────────────────────────────────────────────────\u001b[39m\n",
      "cols(\n",
      "  X1 = \u001b[31mcol_character()\u001b[39m,\n",
      "  X2 = \u001b[32mcol_double()\u001b[39m\n",
      ")\n",
      "\n",
      "\n",
      "\u001b[36m──\u001b[39m \u001b[1mColumn specification\u001b[22m \u001b[36m────────────────────────────────────────────────────────\u001b[39m\n",
      "cols(\n",
      "  gene = \u001b[31mcol_character()\u001b[39m,\n",
      "  OrgfE951001 = \u001b[32mcol_double()\u001b[39m\n",
      ")\n",
      "\n",
      "\n",
      "\u001b[36m──\u001b[39m \u001b[1mColumn specification\u001b[22m \u001b[36m────────────────────────────────────────────────────────\u001b[39m\n",
      "cols(\n",
      "  gene = \u001b[31mcol_character()\u001b[39m,\n",
      "  OrgfE951001 = \u001b[32mcol_double()\u001b[39m\n",
      ")\n",
      "\n",
      "\n",
      "\u001b[36m──\u001b[39m \u001b[1mColumn specification\u001b[22m \u001b[36m────────────────────────────────────────────────────────\u001b[39m\n",
      "cols(\n",
      "  X1 = \u001b[31mcol_character()\u001b[39m,\n",
      "  X2 = \u001b[31mcol_character()\u001b[39m,\n",
      "  X3 = \u001b[31mcol_character()\u001b[39m,\n",
      "  X4 = \u001b[31mcol_character()\u001b[39m,\n",
      "  X5 = \u001b[32mcol_double()\u001b[39m\n",
      ")\n",
      "\n",
      "Joining, by = \"cellname\"\n"
     ]
    }
   ],
   "source": [
    "library(tidyverse)\n",
    "library(ggpubr)\n",
    "library(GGally)\n",
    "library(yaml)\n",
    "library(patchwork)\n",
    "#library(Seurat)\n",
    "#library(ggvenn)\n",
    "\n",
    "#read config\n",
    "config <- read_yaml(file = \"../HiRES_preprocess_pipeline//config.yaml\")\n",
    "\n",
    "#Common\n",
    "Raw <- read_table2(\"../stat/raw.fq.stat\",col_names=F) %>% arrange(X1) %>% rowwise() %>% mutate(X2 = X2/4*300/1000000000,X1 = strsplit(X1,split = \"/\")[[1]][3],X1 = strsplit(X1,split = \"_\")[[1]][1])\n",
    "DNA <- read_table2(\"../stat/dna.fq.stat\",col_names=F) %>% arrange(X1) %>% rowwise()%>% mutate(X2 = X2/4*300/1000000000,X1 = strsplit(X1,split = \"/\")[[1]][3])\n",
    "RNA <- read_table2(\"../stat/rna.fq.stat\",col_names=F) %>% arrange(X1) %>% rowwise() %>% mutate(X2 = X2/4*300/1000000000,X1 = strsplit(X1,split = \"/\")[[1]][3])\n",
    "\n",
    "raw_pairs <- read_table2(\"../stat/raw.pairs.stat\",col_names=F) %>% arrange(X1) %>% rowwise() %>% mutate(X1 = strsplit(X1,split = \"/\")[[1]][3])\n",
    "pairs_dedup <- read_table2(\"../stat/pairs.dedup.stat\",col_names=F) %>% arrange(X1) %>% rowwise() %>% mutate(X1 = strsplit(X1,split = \"/\")[[1]][3])\n",
    "\n",
    "pairs_c1 <- read_table2(\"../stat/pairs.c1.stat\",col_names=F)%>% arrange(X1) %>%rowwise() %>% mutate(X1 = strsplit(X1,split = \"/\")[[1]][5]) %>% mutate(X1 = str_replace(X1,\".pairs.gz\",\"\"))\n",
    "pairs_c12 <- read_table2(\"../stat/pairs.c12.stat\",col_names=F)%>% arrange(X1) %>%rowwise() %>% mutate(X1 = strsplit(X1,split = \"/\")[[1]][5]) %>% mutate(X1 = str_replace(X1,\".pairs.gz\",\"\"))\n",
    "pairs_c123 <- read_table2(\"../stat/pairs.c123.stat\",col_names=F)%>% arrange(X1) %>%rowwise() %>% mutate(X1 = strsplit(X1,split = \"/\")[[1]][5]) %>% mutate(X1 = str_replace(X1,\".pairs.gz\",\"\"))\n",
    "inter_pairs_c123 <- read_table2(file = \"../stat/inter.pairs.c123.stat\",col_names = F) %>% arrange(X1) %>%rowwise() %>% mutate(X1 = strsplit(X1,split = \"/\")[[1]][5]) %>% mutate(X1 = str_replace(X1,\".pairs.gz\",\"\"))\n",
    "\n",
    "yperx <- read_table2(\"../stat/yperx.stat\",col_names=F) %>% arrange(X1) %>% rowwise() %>% mutate(X1 = strsplit(X1,split = \"/\")[[1]][2])\n",
    "stat <- Raw %>% left_join(DNA,by=\"X1\") %>% left_join(RNA,by=\"X1\") %>% left_join(yperx,by=\"X1\") %>% left_join(raw_pairs,by=\"X1\") %>% left_join(pairs_dedup,by=\"X1\") %>% \n",
    "    left_join(pairs_c1,by=\"X1\") %>% left_join(pairs_c12,by=\"X1\")%>% left_join(pairs_c123,by=\"X1\") %>% left_join(inter_pairs_c123,by=\"X1\")\n",
    "RNAres <- read_table2(\"../result/RNA_Res/counts.gene.total.format.tsv\")\n",
    "featureStat <- cbind(as.data.frame(colSums(RNAres %>% select(-gene))),colSums(RNAres %>% select(-gene) != 0)) %>% rownames_to_column(\"X1\")\n",
    "RNAresExon <- read_table2(\"../result/RNA_Res/counts.exon.total.format.tsv\")\n",
    "featureStatExon <- cbind(as.data.frame(colSums(RNAresExon %>% select(-gene))),colSums(RNAresExon %>% select(-gene) != 0))  %>% rownames_to_column(\"X1\")\n",
    "\n",
    "if(config$if_RNA_snp_split){\n",
    "    RNAresGenome1 <- read_table2(\"../result/RNA_Res/counts.gene.genome1.tsv\")\n",
    "    RNAresGenome2 <- read_table2(\"../result/RNA_Res/counts.gene.genome2.tsv\")\n",
    "    featureStatGenome1 <- cbind(as.data.frame(colSums(RNAresGenome1 %>% select(-gene))),colSums(RNAresGenome1 %>% select(-gene) != 0)) %>% rownames_to_column(\"X1\")\n",
    "    featureStatGenome2 <- cbind(as.data.frame(colSums(RNAresGenome2 %>% select(-gene))),colSums(RNAresGenome2 %>% select(-gene) != 0)) %>% rownames_to_column(\"X1\")\n",
    "    stat <- stat %>% left_join(featureStat,by=\"X1\") %>% left_join(featureStatExon,by=\"X1\") %>% left_join(featureStatGenome1,by=\"X1\")  %>% left_join(featureStatGenome2,by=\"X1\")\n",
    "    names(stat) <- c(\"cellname\",\"Rawreads\",\"DNAreads\",\"RNAreads\",\"yperx\",\"raw_pairs\",\"pairs_dedup\",\"pairs_clean1\",\"pairs_clean2\",\"pairs_clean3\",\"inter_pairs_clean3\",\n",
    "                     \"UMIs_gene\",\"genes_gene\",\"UMIs_exon\",\"genes_exon\",\"UMIs_gene_genome1\",\"genes_gene_genome1\",\"UMIs_gene_genome2\",\"genes_gene_genome2\")\n",
    "} else{\n",
    "    stat <- stat %>% left_join(featureStat,by=\"X1\") %>% left_join(featureStatExon,by=\"X1\") \n",
    "    names(stat) <- c(\"cellname\",\"Rawreads\",\"DNAreads\",\"RNAreads\",\"yperx\",\"raw_pairs\",\"pairs_dedup\",\"pairs_clean1\",\"pairs_clean2\",\"pairs_clean3\",\"inter_pairs_clean3\",\n",
    "                     \"UMIs_gene\",\"genes_gene\",\"UMIs_exon\",\"genes_exon\")\n",
    "}\n",
    "\n",
    "\n",
    "if(config$if_structure){\n",
    "    rmsd <- read_table2(\"../stat/rmsd.info\",col_names = F) %>% rowwise() %>% mutate(X1=str_split(X1,pattern = fixed(\"/\")),cellname = X1[1], res = str_split(X1[3], fixed(\".\"))[[1]][2],TOP3_RMSD = X5) %>% select(cellname,res,TOP3_RMSD) %>% spread(res,TOP3_RMSD) %>% arrange(cellname)\n",
    "    stat <- stat %>% left_join(rmsd)\n",
    "}\n",
    "\n",
    "\n"
   ]
  },
  {
   "cell_type": "code",
   "execution_count": 4,
   "metadata": {
    "vscode": {
     "languageId": "r"
    }
   },
   "outputs": [],
   "source": [
    "plot <- stat %>% mutate(RNAreadsRatio = RNAreads/(RNAreads+DNAreads),\n",
    "                        pairsPerRead = raw_pairs/DNAreads/1000000000*300,\n",
    "                        pairsValidRatio = pairs_clean3/raw_pairs,\n",
    "                        interPairsRatio = inter_pairs_clean3/pairs_clean3) \n",
    "#plot[is.na(plot)]<-0"
   ]
  },
  {
   "cell_type": "code",
   "execution_count": 5,
   "metadata": {
    "vscode": {
     "languageId": "r"
    }
   },
   "outputs": [
    {
     "data": {
      "text/plain": [
       "   cellname            Rawreads        DNAreads        RNAreads      \n",
       " Length:1           Min.   :1.541   Min.   :1.476   Min.   :0.05569  \n",
       " Class :character   1st Qu.:1.541   1st Qu.:1.476   1st Qu.:0.05569  \n",
       " Mode  :character   Median :1.541   Median :1.476   Median :0.05569  \n",
       "                    Mean   :1.541   Mean   :1.476   Mean   :0.05569  \n",
       "                    3rd Qu.:1.541   3rd Qu.:1.476   3rd Qu.:0.05569  \n",
       "                    Max.   :1.541   Max.   :1.476   Max.   :0.05569  \n",
       "     yperx           raw_pairs       pairs_dedup      pairs_clean1   \n",
       " Min.   :0.02448   Min.   :549679   Min.   :201060   Min.   :200110  \n",
       " 1st Qu.:0.02448   1st Qu.:549679   1st Qu.:201060   1st Qu.:200110  \n",
       " Median :0.02448   Median :549679   Median :201060   Median :200110  \n",
       " Mean   :0.02448   Mean   :549679   Mean   :201060   Mean   :200110  \n",
       " 3rd Qu.:0.02448   3rd Qu.:549679   3rd Qu.:201060   3rd Qu.:200110  \n",
       " Max.   :0.02448   Max.   :549679   Max.   :201060   Max.   :200110  \n",
       "  pairs_clean2     pairs_clean3    inter_pairs_clean3   UMIs_gene   \n",
       " Min.   :162955   Min.   :162875   Min.   :22148      Min.   :6087  \n",
       " 1st Qu.:162955   1st Qu.:162875   1st Qu.:22148      1st Qu.:6087  \n",
       " Median :162955   Median :162875   Median :22148      Median :6087  \n",
       " Mean   :162955   Mean   :162875   Mean   :22148      Mean   :6087  \n",
       " 3rd Qu.:162955   3rd Qu.:162875   3rd Qu.:22148      3rd Qu.:6087  \n",
       " Max.   :162955   Max.   :162875   Max.   :22148      Max.   :6087  \n",
       "   genes_gene     UMIs_exon      genes_exon         1m             200k     \n",
       " Min.   :3245   Min.   :1852   Min.   :1301   Min.   :1.751   Min.   :3.57  \n",
       " 1st Qu.:3245   1st Qu.:1852   1st Qu.:1301   1st Qu.:1.751   1st Qu.:3.57  \n",
       " Median :3245   Median :1852   Median :1301   Median :1.751   Median :3.57  \n",
       " Mean   :3245   Mean   :1852   Mean   :1301   Mean   :1.751   Mean   :3.57  \n",
       " 3rd Qu.:3245   3rd Qu.:1852   3rd Qu.:1301   3rd Qu.:1.751   3rd Qu.:3.57  \n",
       " Max.   :3245   Max.   :1852   Max.   :1301   Max.   :1.751   Max.   :3.57  \n",
       "      20k             50k        RNAreadsRatio      pairsPerRead   \n",
       " Min.   :10.16   Min.   :6.744   Min.   :0.03637   Min.   :0.1118  \n",
       " 1st Qu.:10.16   1st Qu.:6.744   1st Qu.:0.03637   1st Qu.:0.1118  \n",
       " Median :10.16   Median :6.744   Median :0.03637   Median :0.1118  \n",
       " Mean   :10.16   Mean   :6.744   Mean   :0.03637   Mean   :0.1118  \n",
       " 3rd Qu.:10.16   3rd Qu.:6.744   3rd Qu.:0.03637   3rd Qu.:0.1118  \n",
       " Max.   :10.16   Max.   :6.744   Max.   :0.03637   Max.   :0.1118  \n",
       " pairsValidRatio  interPairsRatio\n",
       " Min.   :0.2963   Min.   :0.136  \n",
       " 1st Qu.:0.2963   1st Qu.:0.136  \n",
       " Median :0.2963   Median :0.136  \n",
       " Mean   :0.2963   Mean   :0.136  \n",
       " 3rd Qu.:0.2963   3rd Qu.:0.136  \n",
       " Max.   :0.2963   Max.   :0.136  "
      ]
     },
     "metadata": {},
     "output_type": "display_data"
    }
   ],
   "source": [
    "options(repr.matrix.max.cols=50, repr.matrix.max.rows=100)\n",
    "plot %>% summary()"
   ]
  },
  {
   "cell_type": "code",
   "execution_count": 6,
   "metadata": {
    "vscode": {
     "languageId": "r"
    }
   },
   "outputs": [
    {
     "data": {
      "text/html": [
       "<table class=\"dataframe\">\n",
       "<caption>A rowwise_df: 1 × 23</caption>\n",
       "<thead>\n",
       "\t<tr><th scope=col>cellname</th><th scope=col>Rawreads</th><th scope=col>DNAreads</th><th scope=col>RNAreads</th><th scope=col>yperx</th><th scope=col>raw_pairs</th><th scope=col>pairs_dedup</th><th scope=col>pairs_clean1</th><th scope=col>pairs_clean2</th><th scope=col>pairs_clean3</th><th scope=col>inter_pairs_clean3</th><th scope=col>UMIs_gene</th><th scope=col>genes_gene</th><th scope=col>UMIs_exon</th><th scope=col>genes_exon</th><th scope=col>1m</th><th scope=col>200k</th><th scope=col>20k</th><th scope=col>50k</th><th scope=col>RNAreadsRatio</th><th scope=col>pairsPerRead</th><th scope=col>pairsValidRatio</th><th scope=col>interPairsRatio</th></tr>\n",
       "\t<tr><th scope=col>&lt;chr&gt;</th><th scope=col>&lt;dbl&gt;</th><th scope=col>&lt;dbl&gt;</th><th scope=col>&lt;dbl&gt;</th><th scope=col>&lt;dbl&gt;</th><th scope=col>&lt;dbl&gt;</th><th scope=col>&lt;dbl&gt;</th><th scope=col>&lt;dbl&gt;</th><th scope=col>&lt;dbl&gt;</th><th scope=col>&lt;dbl&gt;</th><th scope=col>&lt;dbl&gt;</th><th scope=col>&lt;dbl&gt;</th><th scope=col>&lt;dbl&gt;</th><th scope=col>&lt;dbl&gt;</th><th scope=col>&lt;dbl&gt;</th><th scope=col>&lt;dbl&gt;</th><th scope=col>&lt;dbl&gt;</th><th scope=col>&lt;dbl&gt;</th><th scope=col>&lt;dbl&gt;</th><th scope=col>&lt;dbl&gt;</th><th scope=col>&lt;dbl&gt;</th><th scope=col>&lt;dbl&gt;</th><th scope=col>&lt;dbl&gt;</th></tr>\n",
       "</thead>\n",
       "<tbody>\n",
       "\t<tr><td>OrgfE951001</td><td>1.540634</td><td>1.47555</td><td>0.0556875</td><td>0.02448</td><td>549679</td><td>201060</td><td>200110</td><td>162955</td><td>162875</td><td>22148</td><td>6087</td><td>3245</td><td>1852</td><td>1301</td><td>1.751261</td><td>3.570228</td><td>10.15922</td><td>6.744294</td><td>0.03636765</td><td>0.1117575</td><td>0.2963093</td><td>0.1359816</td></tr>\n",
       "</tbody>\n",
       "</table>\n"
      ],
      "text/latex": [
       "A rowwise\\_df: 1 × 23\n",
       "\\begin{tabular}{lllllllllllllllllllllll}\n",
       " cellname & Rawreads & DNAreads & RNAreads & yperx & raw\\_pairs & pairs\\_dedup & pairs\\_clean1 & pairs\\_clean2 & pairs\\_clean3 & inter\\_pairs\\_clean3 & UMIs\\_gene & genes\\_gene & UMIs\\_exon & genes\\_exon & 1m & 200k & 20k & 50k & RNAreadsRatio & pairsPerRead & pairsValidRatio & interPairsRatio\\\\\n",
       " <chr> & <dbl> & <dbl> & <dbl> & <dbl> & <dbl> & <dbl> & <dbl> & <dbl> & <dbl> & <dbl> & <dbl> & <dbl> & <dbl> & <dbl> & <dbl> & <dbl> & <dbl> & <dbl> & <dbl> & <dbl> & <dbl> & <dbl>\\\\\n",
       "\\hline\n",
       "\t OrgfE951001 & 1.540634 & 1.47555 & 0.0556875 & 0.02448 & 549679 & 201060 & 200110 & 162955 & 162875 & 22148 & 6087 & 3245 & 1852 & 1301 & 1.751261 & 3.570228 & 10.15922 & 6.744294 & 0.03636765 & 0.1117575 & 0.2963093 & 0.1359816\\\\\n",
       "\\end{tabular}\n"
      ],
      "text/markdown": [
       "\n",
       "A rowwise_df: 1 × 23\n",
       "\n",
       "| cellname &lt;chr&gt; | Rawreads &lt;dbl&gt; | DNAreads &lt;dbl&gt; | RNAreads &lt;dbl&gt; | yperx &lt;dbl&gt; | raw_pairs &lt;dbl&gt; | pairs_dedup &lt;dbl&gt; | pairs_clean1 &lt;dbl&gt; | pairs_clean2 &lt;dbl&gt; | pairs_clean3 &lt;dbl&gt; | inter_pairs_clean3 &lt;dbl&gt; | UMIs_gene &lt;dbl&gt; | genes_gene &lt;dbl&gt; | UMIs_exon &lt;dbl&gt; | genes_exon &lt;dbl&gt; | 1m &lt;dbl&gt; | 200k &lt;dbl&gt; | 20k &lt;dbl&gt; | 50k &lt;dbl&gt; | RNAreadsRatio &lt;dbl&gt; | pairsPerRead &lt;dbl&gt; | pairsValidRatio &lt;dbl&gt; | interPairsRatio &lt;dbl&gt; |\n",
       "|---|---|---|---|---|---|---|---|---|---|---|---|---|---|---|---|---|---|---|---|---|---|---|\n",
       "| OrgfE951001 | 1.540634 | 1.47555 | 0.0556875 | 0.02448 | 549679 | 201060 | 200110 | 162955 | 162875 | 22148 | 6087 | 3245 | 1852 | 1301 | 1.751261 | 3.570228 | 10.15922 | 6.744294 | 0.03636765 | 0.1117575 | 0.2963093 | 0.1359816 |\n",
       "\n"
      ],
      "text/plain": [
       "  cellname    Rawreads DNAreads RNAreads  yperx   raw_pairs pairs_dedup\n",
       "1 OrgfE951001 1.540634 1.47555  0.0556875 0.02448 549679    201060     \n",
       "  pairs_clean1 pairs_clean2 pairs_clean3 inter_pairs_clean3 UMIs_gene\n",
       "1 200110       162955       162875       22148              6087     \n",
       "  genes_gene UMIs_exon genes_exon 1m       200k     20k      50k     \n",
       "1 3245       1852      1301       1.751261 3.570228 10.15922 6.744294\n",
       "  RNAreadsRatio pairsPerRead pairsValidRatio interPairsRatio\n",
       "1 0.03636765    0.1117575    0.2963093       0.1359816      "
      ]
     },
     "metadata": {},
     "output_type": "display_data"
    }
   ],
   "source": [
    "plot"
   ]
  }
 ],
 "metadata": {
  "kernelspec": {
   "display_name": "R 4.0.3",
   "language": "R",
   "name": "ir403"
  },
  "language_info": {
   "codemirror_mode": "r",
   "file_extension": ".r",
   "mimetype": "text/x-r-source",
   "name": "R",
   "pygments_lexer": "r",
   "version": "4.1.0"
  }
 },
 "nbformat": 4,
 "nbformat_minor": 4
}
